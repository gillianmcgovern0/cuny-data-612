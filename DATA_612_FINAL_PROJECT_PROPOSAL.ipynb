{
  "nbformat": 4,
  "nbformat_minor": 0,
  "metadata": {
    "colab": {
      "provenance": []
    },
    "kernelspec": {
      "name": "python3",
      "display_name": "Python 3"
    },
    "language_info": {
      "name": "python"
    }
  },
  "cells": [
    {
      "cell_type": "markdown",
      "source": [
        "# DATA 620 FINAL PROJECT PROPOSAL\n",
        "\n",
        "Million Song Dataset Recommender\n",
        "\n",
        "*   Farhod Ibragimov\n",
        "*   Gillian McGovern"
      ],
      "metadata": {
        "id": "g0bPV7mtnufD"
      }
    },
    {
      "cell_type": "markdown",
      "source": [
        "## Objective\n",
        "\n",
        "Create an offline music recommendation system using listening history of users."
      ],
      "metadata": {
        "id": "Rns2s8Kun7LD"
      }
    },
    {
      "cell_type": "markdown",
      "source": [
        "## Guiding Question\n",
        "\n",
        "How can we use implicit ratings such as song play counts and song lyrics to recommend music to listeners?"
      ],
      "metadata": {
        "id": "bEMqaQJzn_O4"
      }
    },
    {
      "cell_type": "markdown",
      "source": [
        "## Motivation\n",
        "\n",
        "In the real world, we will not always have explicit ratings from users to create a recommender model. The motiviation for this project is to not only try out a recommender with implicit ratings (play count), but also see how we can incorporate a LLM model using song lyrics to create a playlist for a user."
      ],
      "metadata": {
        "id": "6-gv9Np9oHCX"
      }
    },
    {
      "cell_type": "markdown",
      "source": [
        "## Project Goals\n",
        "\n",
        "* Test out a collaborative filtering and content based recommender"
      ],
      "metadata": {
        "id": "6vH04GAYoOQE"
      }
    },
    {
      "cell_type": "markdown",
      "source": [
        "## Data Sources\n",
        "\n",
        "This project was inspired by the `Million Song Dataset Challenge` kaggle competition: https://www.kaggle.com/competitions/msdchallenge/overview\n",
        "\n",
        "Core dataset can be found [here](http://millionsongdataset.com/tasteprofile/)\n",
        "\n",
        "This dataset contains:\n",
        "*   1,019,318 unique users\n",
        "*   384,546 unique MSD songs\n",
        "*   48,373,586 user - song - play count triplets\n",
        "\n",
        "Metadata can be found at http://millionsongdataset.com/lastfm/ and http://millionsongdataset.com/musixmatch/\n",
        "\n",
        "[Genius API](https://pypi.org/project/lyricsgenius/) can also be used for song lyrics\n",
        "\n"
      ],
      "metadata": {
        "id": "auyQS4sfoTDn"
      }
    },
    {
      "cell_type": "markdown",
      "source": [
        "## Planned Workflow\n",
        "\n",
        "\n",
        "\n",
        "*  Read in the data\n",
        "*  Read in the metadata\n",
        "    * Collect song lyrics and map to data\n",
        "*  EDA\n",
        "*  Create subset of data\n",
        "*  Create Spark ALS Model\n",
        "*  Create LLM content based model\n",
        "*  Evaluate model\n",
        "*  Present recommendations\n",
        "*  Stretch goals:\n",
        "    * Scrape the web for album images for image analysis\n",
        "\n",
        "\n",
        "\n"
      ],
      "metadata": {
        "id": "OrpofLBKoW2V"
      }
    },
    {
      "cell_type": "code",
      "execution_count": null,
      "metadata": {
        "id": "dcrvMboknmVE"
      },
      "outputs": [],
      "source": []
    }
  ]
}
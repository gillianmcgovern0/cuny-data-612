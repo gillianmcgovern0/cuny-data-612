{
 "cells": [
  {
   "cell_type": "markdown",
   "metadata": {
    "id": "B9L64VOvh0Ha"
   },
   "source": [
    "# DATA 612 PROJECT 6\n",
    "Hands on with AWS\n",
    "\n",
    "*   Farhod Ibragimov\n",
    "*   Gillian McGovern"
   ]
  },
  {
   "metadata": {},
   "cell_type": "markdown",
   "source": [
    "## Introduction\n",
    "\n",
    "This project looks into how to deploy our existing project 4 to AWS's cloud solution, including how to read from S3, how much computing a free tier AWS EC2 instance can handle, etc. From Amazon's documentation, Amazon Elastic Compute Cloud (Amazon EC2) is a web service that provides secure, resizable compute capacity in the cloud. It is designed to make web-scale cloud computing easier for developers."
   ]
  },
  {
   "cell_type": "markdown",
   "metadata": {
    "id": "PbKP1S-5gVty"
   },
   "source": [
    "## Original Introduction for Project 4\n",
    "\n",
    "This project delves into evaluating accuracy and other recommender system metrics, specifically diversity, novelty, serendipity. Additionally, we'll see how applying these metric results to our model can improve recommendations. The two models we will be comparing are content-based filtering with BERT, and FunkSVD.\n",
    "\n",
    "The dataset we will be using is book ratings from Kaggle. This dataset includes data on ratings, users and the books.\n",
    "\n",
    "Data source: https://www.kaggle.com/datasets/arashnic/book-recommendation-dataset/data"
   ]
  },
  {
   "metadata": {},
   "cell_type": "markdown",
   "source": [
    "### Setting Up an EC2 Instance and Connecting\n",
    "\n",
    "An EC2 instance can be created after creating an AWS account and using the AWS Management Console. The steps can be found here: https://docs.aws.amazon.com/AWSEC2/latest/UserGuide/EC2_GetStarted.html\n",
    "\n",
    "There are many different AMIs (Amazon Machine Image) to choose from such as Amazon Linux and Ubuntu image. t2.micro instance type will give you 1vCPU and 1 GiB of memory. You can create your own firewall rules or use the default VPC for security. For this project we experimented with allowing SSH traffic from our own IP address.\n",
    "\n",
    "Connecting to the EC2 is possible through the SSH connection, which gives the ability of remote development through an IDE such as PyCharm. A specific python interpreter can be used for a jupyter notebook running on the EC2 instance.\n"
   ]
  },
  {
   "cell_type": "code",
   "metadata": {
    "colab": {
     "base_uri": "https://localhost:8080/"
    },
    "id": "GrjTaMTwhvmJ",
    "outputId": "14bcc8cd-a54b-4c3d-813c-c5c65779433b",
    "ExecuteTime": {
     "end_time": "2025-07-12T03:01:40.636457Z",
     "start_time": "2025-07-12T03:01:37.037269Z"
    }
   },
   "source": [
    "print(\"Kernel is alive and well!\")\n",
    "\n",
    "\n",
    "\n",
    "import pandas as pd\n",
    "import numpy as np\n",
    "import os\n",
    "from pathlib import Path\n",
    "import matplotlib.pyplot as plt\n",
    "import requests, time, pickle\n",
    "import itertools\n",
    "import s3fs\n",
    "import os\n",
    "from dotenv import load_dotenv\n",
    "from joblib import Parallel, delayed\n",
    "#from tqdm.notebook import tqdm\n",
    "#from google.colab import files\n",
    "from scipy.sparse import coo_matrix\n",
    "from sklearn.feature_extraction.text import TfidfVectorizer\n",
    "from sklearn.metrics.pairwise import cosine_similarity\n",
    "from concurrent.futures import ThreadPoolExecutor, as_completed\n",
    "#from sentence_transformers import SentenceTransformer\n",
    "from scipy.sparse import coo_matrix, csr_matrix\n",
    "from scipy.sparse.linalg import svds\n",
    "from sklearn.metrics import root_mean_squared_error\n",
    "from IPython.display import display, HTML\n",
    "#from google.colab import drive\n",
    "#drive.mount('/content/drive')\n",
    "#uploaded = files.upload()\n",
    "#!pip install sentence-transformers requests\n"
   ],
   "outputs": [
    {
     "name": "stdout",
     "output_type": "stream",
     "text": [
      "Kernel is alive and well!\n"
     ]
    }
   ],
   "execution_count": 1
  },
  {
   "cell_type": "markdown",
   "metadata": {
    "id": "OGNNQTqW-ZSs"
   },
   "source": [
    "### Load & rename raw data\n",
    "\n",
    "\n",
    "For this project we wanted to utilize S3, AWS's long term storage. Reading all the files from S3 instead of GitHub took up too much RAM for the free tier EC2 instance causing the script to get stuck. So we decided to run our original project, and upload complete data frames such as our final data frame, `final_slice` (after trimming down the original data) to S3. We then pulled that already complete data frame from S3 to use for our models below.\n",
    "\n",
    "In order to store a file on S3, you must create an S3 bucket which is a container for files stored on S3. The files stored within a bucket are called objects and can be identified via an object key. For example, `notebook-data/Books.csv` would be an object key.\n",
    "\n",
    "There are a few Python packages that assist with reading from S3 such as `boto3` and `s3fs`. Here we decided to use `s3fs` which allows pandas to read from s3 directly.\n",
    "\n",
    "In order for both of us to use the S3 files and collaborate on one file, we could either give permissions to both the IAM user needing access and adding the necessary bucket permissions allowing the IAM user bucket access, or both individually add the files to an S3 bucket, and pull from our own bucket. We decided to do the latter. Since we're running a jupyter notebook on an EC2 instance, we decided to set up an environment variable declaring the S3 bucket to use. We then used `load_dotenv` to configure the run setting in PyCharm to use a `.env` file containing the `S3_BUCKET` variable (note only one of us had to do this).\n",
    "\n",
    "Additionally, it is easy to gain access to S3 on via the EC2 instance using AWS's cli and using the command `aws configure` to add your AWS access key and secret as environment variables on the box."
   ]
  },
  {
   "cell_type": "code",
   "metadata": {
    "id": "C4xfyjGtiABE",
    "ExecuteTime": {
     "end_time": "2025-07-12T03:01:42.945985Z",
     "start_time": "2025-07-12T03:01:40.686633Z"
    }
   },
   "source": [
    "# S3 file information\n",
    "\n",
    "# Loads the .env file (if one is present) for environment variables\n",
    "load_dotenv('.env')\n",
    "BUCKET = os.getenv('S3_BUCKET', 'farhodibr')\n",
    "PREFIX = \"notebook-data\"\n",
    "S3_BASE = f\"s3://{BUCKET}/{PREFIX}\"\n",
    "\n",
    "# Can read from s3 directly with s3fs\n",
    "# CSVs took too long to read, so converted the csv files to pickle to decrease the size\n",
    "# books      = pd.read_csv(f\"{S3_BASE}/Books.csv\",      storage_options={\"anon\": False})\n",
    "# ratings    = pd.read_csv(f\"{S3_BASE}/Ratings.csv\",    storage_options={\"anon\": False})\n",
    "# users      = pd.read_csv(f\"{S3_BASE}/Users.csv\",      storage_options={\"anon\": False})\n",
    "books = pd.read_pickle(f\"{S3_BASE}/books.pkl\")\n",
    "ratings = pd.read_pickle(f\"{S3_BASE}/ratings.pkl\")\n",
    "users      = pd.read_pickle(f\"{S3_BASE}/users.pkl\")\n",
    "\n",
    "isbn_meta  = pd.read_csv(f\"{S3_BASE}/isbn_meta.csv\",  storage_options={\"anon\": False})\n",
    "\n",
    "fs = s3fs.S3FileSystem()\n",
    "with fs.open(f\"{S3_BASE}/embeddings.npy\", \"rb\") as f:\n",
    "    embeddings = np.load(f)\n",
    "\n",
    "print(\"Books:\",      books.shape)\n",
    "print(\"Ratings:\",    ratings.shape)\n",
    "print(\"Users:\",      users.shape)\n",
    "print(\"Embeddings:\", embeddings.shape)"
   ],
   "outputs": [
    {
     "name": "stdout",
     "output_type": "stream",
     "text": [
      "Books: (271360, 4)\n",
      "Ratings: (1149780, 5)\n",
      "Users: (278858, 3)\n",
      "Embeddings: (800, 384)\n"
     ]
    }
   ],
   "execution_count": 2
  },
  {
   "cell_type": "code",
   "metadata": {
    "colab": {
     "base_uri": "https://localhost:8080/",
     "height": 206
    },
    "id": "w0pAYCPgKlgO",
    "outputId": "db90aef6-ea12-40d6-ac0e-a69a21dfe1e8",
    "ExecuteTime": {
     "end_time": "2025-07-12T03:01:43.300109Z",
     "start_time": "2025-07-12T03:01:43.274490Z"
    }
   },
   "source": [
    "books  = books.rename(columns={\n",
    "    \"ISBN\": \"isbn\",\n",
    "    \"Book-Title\": \"titles\",\n",
    "    \"Book-Author\": \"authors\",\n",
    "    \"Year-Of-Publication\": \"year_of_publication\"\n",
    "})\n",
    "books.head()"
   ],
   "outputs": [
    {
     "data": {
      "text/plain": [
       "         isbn                                             titles  \\\n",
       "0  0195153448                                Classical Mythology   \n",
       "1  0002005018                                       Clara Callan   \n",
       "2  0060973129                               Decision in Normandy   \n",
       "3  0374157065  Flu: The Story of the Great Influenza Pandemic...   \n",
       "4  0393045218                             The Mummies of Urumchi   \n",
       "\n",
       "                authors year_of_publication  \n",
       "0    Mark P. O. Morford                2002  \n",
       "1  Richard Bruce Wright                2001  \n",
       "2          Carlo D'Este                1991  \n",
       "3      Gina Bari Kolata                1999  \n",
       "4       E. J. W. Barber                1999  "
      ],
      "text/html": [
       "<div>\n",
       "<style scoped>\n",
       "    .dataframe tbody tr th:only-of-type {\n",
       "        vertical-align: middle;\n",
       "    }\n",
       "\n",
       "    .dataframe tbody tr th {\n",
       "        vertical-align: top;\n",
       "    }\n",
       "\n",
       "    .dataframe thead th {\n",
       "        text-align: right;\n",
       "    }\n",
       "</style>\n",
       "<table border=\"1\" class=\"dataframe\">\n",
       "  <thead>\n",
       "    <tr style=\"text-align: right;\">\n",
       "      <th></th>\n",
       "      <th>isbn</th>\n",
       "      <th>titles</th>\n",
       "      <th>authors</th>\n",
       "      <th>year_of_publication</th>\n",
       "    </tr>\n",
       "  </thead>\n",
       "  <tbody>\n",
       "    <tr>\n",
       "      <th>0</th>\n",
       "      <td>0195153448</td>\n",
       "      <td>Classical Mythology</td>\n",
       "      <td>Mark P. O. Morford</td>\n",
       "      <td>2002</td>\n",
       "    </tr>\n",
       "    <tr>\n",
       "      <th>1</th>\n",
       "      <td>0002005018</td>\n",
       "      <td>Clara Callan</td>\n",
       "      <td>Richard Bruce Wright</td>\n",
       "      <td>2001</td>\n",
       "    </tr>\n",
       "    <tr>\n",
       "      <th>2</th>\n",
       "      <td>0060973129</td>\n",
       "      <td>Decision in Normandy</td>\n",
       "      <td>Carlo D'Este</td>\n",
       "      <td>1991</td>\n",
       "    </tr>\n",
       "    <tr>\n",
       "      <th>3</th>\n",
       "      <td>0374157065</td>\n",
       "      <td>Flu: The Story of the Great Influenza Pandemic...</td>\n",
       "      <td>Gina Bari Kolata</td>\n",
       "      <td>1999</td>\n",
       "    </tr>\n",
       "    <tr>\n",
       "      <th>4</th>\n",
       "      <td>0393045218</td>\n",
       "      <td>The Mummies of Urumchi</td>\n",
       "      <td>E. J. W. Barber</td>\n",
       "      <td>1999</td>\n",
       "    </tr>\n",
       "  </tbody>\n",
       "</table>\n",
       "</div>"
      ]
     },
     "execution_count": 4,
     "metadata": {},
     "output_type": "execute_result"
    }
   ],
   "execution_count": 4
  },
  {
   "cell_type": "code",
   "metadata": {
    "colab": {
     "base_uri": "https://localhost:8080/",
     "height": 206
    },
    "id": "i6a93OkRK5Zg",
    "outputId": "3cf5cd4b-2bac-4d2c-b1b3-715d431b794e",
    "ExecuteTime": {
     "end_time": "2025-07-12T03:01:43.539069Z",
     "start_time": "2025-07-12T03:01:43.393642Z"
    }
   },
   "source": [
    "# Rename columns\n",
    "ratings = ratings.rename(columns={\n",
    "    \"User-ID\": \"user_id\",\n",
    "    \"ISBN\": \"isbn\",\n",
    "    \"Book-Rating\": \"rating\"\n",
    "})\n",
    "ratings.head()"
   ],
   "outputs": [
    {
     "data": {
      "text/plain": [
       "   user_id        isbn  rating  u_idx     i_idx\n",
       "0   276725  034545104X       0      0    2966.0\n",
       "1   276726  0155061224       5      1  225816.0\n",
       "2   276727  0446520802       0      2   11053.0\n",
       "3   276729  052165615X       3      3  246838.0\n",
       "4   276729  0521795028       6      3  246839.0"
      ],
      "text/html": [
       "<div>\n",
       "<style scoped>\n",
       "    .dataframe tbody tr th:only-of-type {\n",
       "        vertical-align: middle;\n",
       "    }\n",
       "\n",
       "    .dataframe tbody tr th {\n",
       "        vertical-align: top;\n",
       "    }\n",
       "\n",
       "    .dataframe thead th {\n",
       "        text-align: right;\n",
       "    }\n",
       "</style>\n",
       "<table border=\"1\" class=\"dataframe\">\n",
       "  <thead>\n",
       "    <tr style=\"text-align: right;\">\n",
       "      <th></th>\n",
       "      <th>user_id</th>\n",
       "      <th>isbn</th>\n",
       "      <th>rating</th>\n",
       "      <th>u_idx</th>\n",
       "      <th>i_idx</th>\n",
       "    </tr>\n",
       "  </thead>\n",
       "  <tbody>\n",
       "    <tr>\n",
       "      <th>0</th>\n",
       "      <td>276725</td>\n",
       "      <td>034545104X</td>\n",
       "      <td>0</td>\n",
       "      <td>0</td>\n",
       "      <td>2966.0</td>\n",
       "    </tr>\n",
       "    <tr>\n",
       "      <th>1</th>\n",
       "      <td>276726</td>\n",
       "      <td>0155061224</td>\n",
       "      <td>5</td>\n",
       "      <td>1</td>\n",
       "      <td>225816.0</td>\n",
       "    </tr>\n",
       "    <tr>\n",
       "      <th>2</th>\n",
       "      <td>276727</td>\n",
       "      <td>0446520802</td>\n",
       "      <td>0</td>\n",
       "      <td>2</td>\n",
       "      <td>11053.0</td>\n",
       "    </tr>\n",
       "    <tr>\n",
       "      <th>3</th>\n",
       "      <td>276729</td>\n",
       "      <td>052165615X</td>\n",
       "      <td>3</td>\n",
       "      <td>3</td>\n",
       "      <td>246838.0</td>\n",
       "    </tr>\n",
       "    <tr>\n",
       "      <th>4</th>\n",
       "      <td>276729</td>\n",
       "      <td>0521795028</td>\n",
       "      <td>6</td>\n",
       "      <td>3</td>\n",
       "      <td>246839.0</td>\n",
       "    </tr>\n",
       "  </tbody>\n",
       "</table>\n",
       "</div>"
      ]
     },
     "execution_count": 5,
     "metadata": {},
     "output_type": "execute_result"
    }
   ],
   "execution_count": 5
  },
  {
   "cell_type": "code",
   "metadata": {
    "colab": {
     "base_uri": "https://localhost:8080/",
     "height": 206
    },
    "id": "pf2CIt2qK_hp",
    "outputId": "66a7f0f2-6e13-4ec3-9725-55d94ad179c8",
    "ExecuteTime": {
     "end_time": "2025-07-12T03:01:43.673448Z",
     "start_time": "2025-07-12T03:01:43.655406Z"
    }
   },
   "source": [
    "# Rename columns\n",
    "users = users.rename(columns={\n",
    "    \"User-ID\": \"user_id\",\n",
    "    \"Location\": \"location\",\n",
    "    \"Age\": \"age\"\n",
    "})\n",
    "users.head()"
   ],
   "outputs": [
    {
     "data": {
      "text/plain": [
       "   user_id                            location   age\n",
       "0        1                  nyc, new york, usa   NaN\n",
       "1        2           stockton, california, usa  18.0\n",
       "2        3     moscow, yukon territory, russia   NaN\n",
       "3        4           porto, v.n.gaia, portugal  17.0\n",
       "4        5  farnborough, hants, united kingdom   NaN"
      ],
      "text/html": [
       "<div>\n",
       "<style scoped>\n",
       "    .dataframe tbody tr th:only-of-type {\n",
       "        vertical-align: middle;\n",
       "    }\n",
       "\n",
       "    .dataframe tbody tr th {\n",
       "        vertical-align: top;\n",
       "    }\n",
       "\n",
       "    .dataframe thead th {\n",
       "        text-align: right;\n",
       "    }\n",
       "</style>\n",
       "<table border=\"1\" class=\"dataframe\">\n",
       "  <thead>\n",
       "    <tr style=\"text-align: right;\">\n",
       "      <th></th>\n",
       "      <th>user_id</th>\n",
       "      <th>location</th>\n",
       "      <th>age</th>\n",
       "    </tr>\n",
       "  </thead>\n",
       "  <tbody>\n",
       "    <tr>\n",
       "      <th>0</th>\n",
       "      <td>1</td>\n",
       "      <td>nyc, new york, usa</td>\n",
       "      <td>NaN</td>\n",
       "    </tr>\n",
       "    <tr>\n",
       "      <th>1</th>\n",
       "      <td>2</td>\n",
       "      <td>stockton, california, usa</td>\n",
       "      <td>18.0</td>\n",
       "    </tr>\n",
       "    <tr>\n",
       "      <th>2</th>\n",
       "      <td>3</td>\n",
       "      <td>moscow, yukon territory, russia</td>\n",
       "      <td>NaN</td>\n",
       "    </tr>\n",
       "    <tr>\n",
       "      <th>3</th>\n",
       "      <td>4</td>\n",
       "      <td>porto, v.n.gaia, portugal</td>\n",
       "      <td>17.0</td>\n",
       "    </tr>\n",
       "    <tr>\n",
       "      <th>4</th>\n",
       "      <td>5</td>\n",
       "      <td>farnborough, hants, united kingdom</td>\n",
       "      <td>NaN</td>\n",
       "    </tr>\n",
       "  </tbody>\n",
       "</table>\n",
       "</div>"
      ]
     },
     "execution_count": 6,
     "metadata": {},
     "output_type": "execute_result"
    }
   ],
   "execution_count": 6
  },
  {
   "cell_type": "markdown",
   "metadata": {
    "id": "FCNb8s2CRhle"
   },
   "source": [
    "### Indexing for modeling\n",
    "\n",
    "We convert `user_id` and `isbn` into zero-based integer indices (`u_idx`, `i_idx`) so we can build sparse matrices and pass arrays into JAX/ALS without string lookups."
   ]
  },
  {
   "cell_type": "code",
   "metadata": {
    "colab": {
     "base_uri": "https://localhost:8080/",
     "height": 206
    },
    "id": "8M11_Z_nM2Nt",
    "outputId": "4cb11416-719f-481d-dea5-830c41c77b9a",
    "ExecuteTime": {
     "end_time": "2025-07-12T03:01:47.309623Z",
     "start_time": "2025-07-12T03:01:43.775574Z"
    }
   },
   "source": [
    "user2idx = {u:i for i,u in enumerate(ratings.user_id.unique())}\n",
    "item2idx = {isbn:i for i,isbn in enumerate(books.isbn.unique())}\n",
    "\n",
    "ratings['u_idx'] = ratings.user_id.map(user2idx)\n",
    "ratings['i_idx'] = ratings.isbn  .map(item2idx)\n",
    "\n",
    "ratings.to_csv('ratings_indexed.csv', index=False)\n",
    "ratings_df = ratings\n",
    "ratings_df.head()"
   ],
   "outputs": [
    {
     "data": {
      "text/plain": [
       "   user_id        isbn  rating  u_idx     i_idx\n",
       "0   276725  034545104X       0      0    2966.0\n",
       "1   276726  0155061224       5      1  225816.0\n",
       "2   276727  0446520802       0      2   11053.0\n",
       "3   276729  052165615X       3      3  246838.0\n",
       "4   276729  0521795028       6      3  246839.0"
      ],
      "text/html": [
       "<div>\n",
       "<style scoped>\n",
       "    .dataframe tbody tr th:only-of-type {\n",
       "        vertical-align: middle;\n",
       "    }\n",
       "\n",
       "    .dataframe tbody tr th {\n",
       "        vertical-align: top;\n",
       "    }\n",
       "\n",
       "    .dataframe thead th {\n",
       "        text-align: right;\n",
       "    }\n",
       "</style>\n",
       "<table border=\"1\" class=\"dataframe\">\n",
       "  <thead>\n",
       "    <tr style=\"text-align: right;\">\n",
       "      <th></th>\n",
       "      <th>user_id</th>\n",
       "      <th>isbn</th>\n",
       "      <th>rating</th>\n",
       "      <th>u_idx</th>\n",
       "      <th>i_idx</th>\n",
       "    </tr>\n",
       "  </thead>\n",
       "  <tbody>\n",
       "    <tr>\n",
       "      <th>0</th>\n",
       "      <td>276725</td>\n",
       "      <td>034545104X</td>\n",
       "      <td>0</td>\n",
       "      <td>0</td>\n",
       "      <td>2966.0</td>\n",
       "    </tr>\n",
       "    <tr>\n",
       "      <th>1</th>\n",
       "      <td>276726</td>\n",
       "      <td>0155061224</td>\n",
       "      <td>5</td>\n",
       "      <td>1</td>\n",
       "      <td>225816.0</td>\n",
       "    </tr>\n",
       "    <tr>\n",
       "      <th>2</th>\n",
       "      <td>276727</td>\n",
       "      <td>0446520802</td>\n",
       "      <td>0</td>\n",
       "      <td>2</td>\n",
       "      <td>11053.0</td>\n",
       "    </tr>\n",
       "    <tr>\n",
       "      <th>3</th>\n",
       "      <td>276729</td>\n",
       "      <td>052165615X</td>\n",
       "      <td>3</td>\n",
       "      <td>3</td>\n",
       "      <td>246838.0</td>\n",
       "    </tr>\n",
       "    <tr>\n",
       "      <th>4</th>\n",
       "      <td>276729</td>\n",
       "      <td>0521795028</td>\n",
       "      <td>6</td>\n",
       "      <td>3</td>\n",
       "      <td>246839.0</td>\n",
       "    </tr>\n",
       "  </tbody>\n",
       "</table>\n",
       "</div>"
      ]
     },
     "execution_count": 7,
     "metadata": {},
     "output_type": "execute_result"
    }
   ],
   "execution_count": 7
  },
  {
   "cell_type": "markdown",
   "metadata": {
    "id": "Om7fVIfwRx8B"
   },
   "source": [
    "### Step 4: Create a Smarter, Smaller Dataset\n",
    "\n",
    "NOTE: For this project, this code is not executed due to RAM issues. We've already uploaded our final trimmed dataset into S3 and pulled from there.\n",
    "\n",
    "  The full Book-Crossing dataset is massive and very sparse (most users have only rated a few books). Running models on the whole thing would take forever and might not even give good results.\n",
    "\n",
    "  So, we do two things here:\n",
    "\n",
    "  1.  **K-Core Filtering:** We exclude any users who haven't rated at least 15 books and any books that haven't been rated at least 10 times. This gets rid of noise and creates a denser, more reliable core dataset.\n",
    "\n",
    "  2.  **Head/Tail Sampling:** From that core, we create our final slice. We grab a mix of \"head\" users (the most active readers) and \"long-tail\" users (more typical, casual readers). We do the same for books. This ensures our models train on a dataset that reflects a realistic mix of popularity."
   ]
  },
  {
   "cell_type": "code",
   "metadata": {
    "colab": {
     "base_uri": "https://localhost:8080/"
    },
    "id": "APH0VfIzdmNF",
    "outputId": "fb0caf55-3e57-4443-a455-193814975db8",
    "ExecuteTime": {
     "end_time": "2025-07-12T03:01:48.369475Z",
     "start_time": "2025-07-12T03:01:47.695890Z"
    }
   },
   "source": [
    "def create_k_core_subset(data, min_user_ratings=10, min_item_ratings=5):\n",
    "    \"\"\"\n",
    "    Creates a k-core subset of a ratings dataframe.\n",
    "\n",
    "    Args:\n",
    "        data (pd.DataFrame): The ratings dataframe with 'user_id' and 'isbn' columns.\n",
    "        min_user_ratings (int): The minimum number of ratings a user must have.\n",
    "        min_item_ratings (int): The minimum number of ratings an item must have.\n",
    "\n",
    "    Returns:\n",
    "        pd.DataFrame: A new dataframe representing the k-core.\n",
    "    \"\"\"\n",
    "    print(\"Starting k-core filtering...\")\n",
    "    k_core_data = data.copy()\n",
    "\n",
    "    while True:\n",
    "        original_rows = len(k_core_data)\n",
    "        print(f\"Current dataset size: {original_rows} ratings\")\n",
    "\n",
    "        # Filter by minimum item ratings\n",
    "        item_counts = k_core_data['isbn'].value_counts()\n",
    "        items_to_keep = item_counts[item_counts >= min_item_ratings].index\n",
    "        k_core_data = k_core_data[k_core_data['isbn'].isin(items_to_keep)]\n",
    "\n",
    "        # Filter by minimum user ratings\n",
    "        user_counts = k_core_data['user_id'].value_counts()\n",
    "        users_to_keep = user_counts[user_counts >= min_user_ratings].index\n",
    "        k_core_data = k_core_data[k_core_data['user_id'].isin(users_to_keep)]\n",
    "\n",
    "        # Check if we've converged\n",
    "        if len(k_core_data) == original_rows:\n",
    "            print(f\"\\nK-core filtering complete. Final dataset size: {len(k_core_data)} ratings\")\n",
    "            break\n",
    "\n",
    "    return k_core_data\n",
    "\n",
    "# Due to RAM issues, must read in final_slice.pkl from S3\n",
    "PREFIX      = \"notebook-data\"\n",
    "FILENAME    = \"final_slice.pkl\"\n",
    "REMOTE_PATH = f\"s3://{BUCKET}/{PREFIX}/{FILENAME}\"\n",
    "LOCAL_PATH  = Path(FILENAME)\n",
    "\n",
    "fs = s3fs.S3FileSystem(anon=False)\n",
    "\n",
    "if fs.exists(REMOTE_PATH):\n",
    "    print(f\"Found {FILENAME} in S3; downloading to local disk...\")\n",
    "    fs.get(REMOTE_PATH, str(LOCAL_PATH))\n",
    "    ratings_df = pd.read_pickle(LOCAL_PATH)\n",
    "else:\n",
    "    print(f\"{FILENAME} not found in S3; computing k-core subset now...\")\n",
    "    dense_subset = create_k_core_subset(ratings, min_user_ratings=15, min_item_ratings=10)\n",
    "    ratings_df = dense_subset\n",
    "    ratings_df.to_pickle(LOCAL_PATH)\n",
    "    print(f\"Uploading {FILENAME} to S3 for future reuse...\")\n",
    "    fs.put(str(LOCAL_PATH), REMOTE_PATH)\n",
    "\n",
    "print(\"Loaded ratings_df with shape:\", ratings_df.shape)\n"
   ],
   "outputs": [
    {
     "name": "stdout",
     "output_type": "stream",
     "text": [
      "Found final_slice.pkl in S3; downloading to local disk...\n",
      "Loaded ratings_df with shape: (19728, 5)\n"
     ]
    }
   ],
   "execution_count": 8
  },
  {
   "cell_type": "code",
   "metadata": {
    "colab": {
     "base_uri": "https://localhost:8080/",
     "height": 541
    },
    "id": "cNNUeO2yNy-J",
    "outputId": "75e12a4c-a2fa-4139-a720-96c6743064de",
    "ExecuteTime": {
     "end_time": "2025-07-12T03:01:48.725658Z",
     "start_time": "2025-07-12T03:01:48.467577Z"
    }
   },
   "source": [
    "np.random.seed(123)\n",
    "\n",
    "user_counts = ratings_df.user_id.value_counts()\n",
    "n_head_users, n_tail_users = 200, 520\n",
    "\n",
    "head_users = user_counts.nlargest(n_head_users).index\n",
    "\n",
    "# ensure we don’t over‐sample the tail\n",
    "tail_candidates = user_counts.index.difference(head_users)\n",
    "n_tail_users = min(n_tail_users, len(tail_candidates))\n",
    "tail_users = np.random.choice(tail_candidates, size=n_tail_users, replace=False)\n",
    "\n",
    "selected_users = pd.Index(np.concatenate([head_users, tail_users]))\n",
    "\n",
    "# Restrict to those users\n",
    "user_slice = ratings_df[ratings_df.user_id.isin(selected_users)]\n",
    "\n",
    "# determine head/tail books in that slice\n",
    "book_counts_sub = user_slice.isbn.value_counts()\n",
    "n_head_books, n_tail_books = 200, 600\n",
    "\n",
    "head_books_sub = book_counts_sub.nlargest(n_head_books).index\n",
    "tail_candidates_sub = book_counts_sub.index.difference(head_books_sub)\n",
    "n_tail_books = min(n_tail_books, len(tail_candidates_sub))\n",
    "tail_books_sub = np.random.choice(tail_candidates_sub, size=n_tail_books, replace=False)\n",
    "\n",
    "selected_books = pd.Index(np.concatenate([head_books_sub, tail_books_sub]))\n",
    "\n",
    "# Build final slice\n",
    "final_slice = user_slice[user_slice.isbn.isin(selected_books)].copy()\n",
    "\n",
    "# Verify and inspect\n",
    "print(\"Final slice shape:\", final_slice.shape)\n",
    "print(\"Distinct users:\", final_slice.user_id.nunique())\n",
    "print(\"Distinct books:\", final_slice.isbn.nunique())\n",
    "\n",
    "# Check “long-tail” distribution\n",
    "bc = final_slice.isbn.value_counts()\n",
    "cum = (bc.sort_values(ascending=False).cumsum() / bc.sum())\n",
    "n80 = (cum <= 0.8).sum()\n",
    "print(f\"{n80}/500 books cover 80% → {n80/500:.1%}\")\n",
    "\n",
    "plt.hist(bc.values, bins=20)\n",
    "plt.title(\"800-book slice: ratings per book\")\n",
    "plt.xlabel(\"Ratings per book\")\n",
    "plt.ylabel(\"Number of books\")\n",
    "plt.show()\n",
    "\n"
   ],
   "outputs": [
    {
     "name": "stdout",
     "output_type": "stream",
     "text": [
      "Final slice shape: (19728, 5)\n",
      "Distinct users: 707\n",
      "Distinct books: 800\n",
      "267/500 books cover 80% → 53.4%\n"
     ]
    },
    {
     "data": {
      "text/plain": [
       "<Figure size 640x480 with 1 Axes>"
      ],
      "image/png": "[encoded data removed]"
     },
     "metadata": {},
     "output_type": "display_data"
    }
   ],
   "execution_count": 9
  },
  {
   "cell_type": "markdown",
   "metadata": {
    "id": "6YuT67hBioc9"
   },
   "source": [
    "We now have a subset of the data to use, but let's confirm the long-tail shape."
   ]
  },
  {
   "cell_type": "markdown",
   "metadata": {
    "id": "DE3YXRRTSjup"
   },
   "source": [
    "### Confirming the long-tail shape\n",
    "\n",
    "We run a Pareto check and draw both a **survival curve** and a **Zipf (log-log)** plot to prove ~20% of books cover ~80% of ratings.\n",
    "\n"
   ]
  },
  {
   "cell_type": "code",
   "metadata": {
    "colab": {
     "base_uri": "https://localhost:8080/",
     "height": 807
    },
    "id": "gK6YqIfdUKex",
    "outputId": "58258a53-97e9-4f8e-aeab-651d64cca6b3",
    "ExecuteTime": {
     "end_time": "2025-07-12T03:01:49.075646Z",
     "start_time": "2025-07-12T03:01:48.851750Z"
    }
   },
   "source": [
    "book_counts = final_slice.isbn.value_counts().values\n",
    "sorted_counts = np.sort(book_counts)[::-1]\n",
    "\n",
    "cum_share    = np.cumsum(sorted_counts) / sorted_counts.sum()\n",
    "survival     = 1.0 - cum_share\n",
    "x_frac       = np.arange(1, len(sorted_counts)+1) / len(sorted_counts)\n",
    "\n",
    "plt.figure(figsize=(12, 8))\n",
    "plt.plot(x_frac, survival, lw=3, marker='o', markersize=4)\n",
    "plt.xlabel(\"Fraction of books (ranked)\", fontsize=12)\n",
    "plt.ylabel(\"Fraction of ratings not covered\", fontsize=12)\n",
    "plt.title(\"Long-Tail Survival Curve\", fontsize=14)\n",
    "plt.grid(True)\n",
    "plt.tight_layout()\n",
    "plt.show()\n"
   ],
   "outputs": [
    {
     "data": {
      "text/plain": [
       "<Figure size 1200x800 with 1 Axes>"
      ],
      "image/png": "[encoded data removed]"
     },
     "metadata": {},
     "output_type": "display_data"
    }
   ],
   "execution_count": 10
  },
  {
   "cell_type": "markdown",
   "metadata": {
    "id": "KhDQblJ5UQ28"
   },
   "source": [
    "The long-tail curve basically shows popularity isn't everything — 20% of books hog 80% of ratings, but the other 80% are full of hidden gems. We want to tap that tail to boost:\n",
    "\n",
    "**Diversity**: How many different authors/genres end up in the top-n recommendations\n",
    "\n",
    "**Novelty**: How obscure our recommendations really are (average pop-rank)\n",
    "\n",
    "**Accuracy Trade-Offs**: What’s our RMSE/Recall hit when we inject more diversity or novelty\n",
    "\n",
    "By using the tail we keep things fresh, surprise users, and still know when accuracy starts to slip."
   ]
  },
  {
   "cell_type": "markdown",
   "metadata": {
    "id": "0YfnU6eBUdgL"
   },
   "source": [
    "### Fetching metadata from OpenLibrary\n",
    "\n",
    "We hit the Open Library API for each of the 800 `isbn`s, caching in `isbn_meta.pkl` so we don’t hammer them on reruns. We pull title, authors, description, subjects."
   ]
  },
  {
   "cell_type": "code",
   "metadata": {
    "id": "DKy45sxwSIoC",
    "ExecuteTime": {
     "end_time": "2025-07-12T03:01:49.216433Z",
     "start_time": "2025-07-12T03:01:49.209891Z"
    }
   },
   "source": [
    "isbn_list = final_slice.isbn.unique().tolist()"
   ],
   "outputs": [],
   "execution_count": 11
  },
  {
   "cell_type": "code",
   "metadata": {
    "colab": {
     "base_uri": "https://localhost:8080/",
     "height": 101,
     "referenced_widgets": [
      "e331f171052d45d099ba65e5d48999c6",
      "f4fc00b5025046feb11cb5d79d3fb34f",
      "bd5d291560f645249cb33f89fe292a7b",
      "896cb436117b4f73a730c7a064fbc2e4",
      "3e848ba674f847378a3962bc34bae7cc",
      "3ecee7186e384bd689533e462613a4b1",
      "b33849c4db1c4eb4ba8e5d037c7c6e66",
      "3ea070443d0a4578823ff73cd299c214",
      "513f4577e7d947fe934df0d6076e5c57",
      "79678d77b06e49e4afe732b0bbe1d75c",
      "35dbfbe86b504220bf12892973d3f9f9"
     ]
    },
    "id": "l2TvFwLHMc8I",
    "outputId": "26901522-bd1a-4a32-d24b-0d2f326d6c70",
    "ExecuteTime": {
     "end_time": "2025-07-12T03:01:49.593234Z",
     "start_time": "2025-07-12T03:01:49.352668Z"
    }
   },
   "source": [
    "from concurrent.futures import ThreadPoolExecutor, as_completed\n",
    "\n",
    "PREFIX       = \"notebook-data\"\n",
    "FILENAME     = \"isbn_meta.csv\"\n",
    "REMOTE_CSV   = f\"s3://{BUCKET}/{PREFIX}/{FILENAME}\"\n",
    "LOCAL_CSV    = Path(FILENAME)\n",
    "\n",
    "fs = s3fs.S3FileSystem(anon=False)\n",
    "\n",
    "if fs.exists(REMOTE_CSV):\n",
    "    print(f\"Loading metadata cache from S3: {REMOTE_CSV}\")\n",
    "    df_meta = pd.read_csv(REMOTE_CSV, dtype=str)\n",
    "    isbn_meta = df_meta.set_index(\"isbn\").to_dict(orient=\"index\")\n",
    "    print(f\"Loaded {len(isbn_meta)} entries from cache\")\n",
    "else:\n",
    "    print(\"No metadata cache found in S3; starting fresh\")\n",
    "    isbn_meta = {}\n",
    "\n",
    "to_fetch = [isbn for isbn in isbn_list if isbn not in isbn_meta]\n",
    "print(f\"Fetching metadata for {len(to_fetch)} new ISBNs…\")\n",
    "\n",
    "def fetch_openlibrary(isbn):\n",
    "    url    = \"https://openlibrary.org/api/books\"\n",
    "    params = {\"bibkeys\": f\"ISBN:{isbn}\", \"format\": \"json\", \"jscmd\": \"data\"}\n",
    "    resp   = requests.get(url, params=params, timeout=10)\n",
    "    data   = resp.json()\n",
    "    key    = f\"ISBN:{isbn}\"\n",
    "    if key not in data:\n",
    "        return isbn, {\"title\": None, \"authors\": None, \"description\": None, \"subjects\": None}\n",
    "    info = data[key]\n",
    "    return isbn, {\n",
    "        \"title\":       info.get(\"title\"),\n",
    "        \"authors\":     \", \".join(a[\"name\"] for a in info.get(\"authors\", [])),\n",
    "        \"description\": (info.get(\"description\") or {}).get(\"value\")\n",
    "                        if isinstance(info.get(\"description\"), dict)\n",
    "                        else info.get(\"description\"),\n",
    "        \"subjects\":    \", \".join(s[\"name\"] for s in info.get(\"subjects\", []))\n",
    "    }\n",
    "\n",
    "with ThreadPoolExecutor(max_workers=5) as executor:\n",
    "    futures = {executor.submit(fetch_openlibrary, isbn): isbn for isbn in to_fetch}\n",
    "    for i, future in enumerate(as_completed(futures), start=1):\n",
    "        isbn_key, data = future.result()\n",
    "        isbn_meta[isbn_key] = data\n",
    "        if i % 10 == 0 or i == len(to_fetch):\n",
    "            print(f\"Processed {i}/{len(to_fetch)} ISBNs\")\n",
    "\n",
    "df_meta = (\n",
    "    pd.DataFrame.from_dict(isbn_meta, orient=\"index\")\n",
    "      .reset_index()\n",
    "      .rename(columns={\"index\":\"isbn\"})\n",
    ")\n",
    "\n",
    "df_meta.to_csv(LOCAL_CSV, index=False)\n",
    "print(f\"Metadata cache written to local CSV: {LOCAL_CSV}\")\n",
    "\n",
    "fs.put(str(LOCAL_CSV), REMOTE_CSV)\n",
    "print(f\"Metadata cache uploaded to S3: {REMOTE_CSV}\")\n",
    "\n",
    "meta_df = df_meta\n"
   ],
   "outputs": [
    {
     "name": "stdout",
     "output_type": "stream",
     "text": [
      "Loading metadata cache from S3: s3://data612/notebook-data/isbn_meta.csv\n",
      "Loaded 801 entries from cache\n",
      "Fetching metadata for 0 new ISBNs…\n",
      "Metadata cache written to local CSV: isbn_meta.csv\n",
      "Metadata cache uploaded to S3: s3://data612/notebook-data/isbn_meta.csv\n"
     ]
    }
   ],
   "execution_count": 12
  },
  {
   "cell_type": "markdown",
   "metadata": {
    "id": "pn44TT4_WgXG"
   },
   "source": [
    "### Build Text Field & Save\n",
    "\n",
    "We merge the cache into a DataFrame, concatenate title/author/subjects/description into one `text` column, and save `selected_books_with_meta.csv`."
   ]
  },
  {
   "cell_type": "code",
   "metadata": {
    "colab": {
     "base_uri": "https://localhost:8080/",
     "height": 206
    },
    "id": "LeptWUtUbD4r",
    "outputId": "8575e4a4-3858-40b1-f55f-5850f6b45209",
    "ExecuteTime": {
     "end_time": "2025-07-12T03:01:49.748696Z",
     "start_time": "2025-07-12T03:01:49.730610Z"
    }
   },
   "source": [
    "meta_df = pd.DataFrame.from_dict(isbn_meta, orient='index')\n",
    "meta_df.index.name = 'isbn'\n",
    "\n",
    "sel_books_df = pd.DataFrame({'isbn': isbn_list}).set_index('isbn').join(meta_df).reset_index()\n",
    "\n",
    "display(sel_books_df.head())"
   ],
   "outputs": [
    {
     "data": {
      "text/plain": [
       "         isbn                    title            authors  description  \\\n",
       "0  0061099252          Family pictures         Sue Miller          NaN   \n",
       "1  0345334531  The Feast of All Saints          Anne Rice          NaN   \n",
       "2  0345351525  The Queen of the Damned          Anne Rice          NaN   \n",
       "3  0345443284         While I Was Gone         Sue Miller          NaN   \n",
       "4  0425169863          Point of origin  Patricia Cornwell          NaN   \n",
       "\n",
       "                                            subjects  \n",
       "0  Family relationships, Autistic children, Ficti...  \n",
       "1  Fiction, Louisiana, fiction, New orleans (la.)...  \n",
       "2  Fiction, Vampires, Horror tales, horror, rock ...  \n",
       "3  Married women, Psychological fiction, Women ve...  \n",
       "4  Women detectives, Medical examiners (Law), Kay...  "
      ],
      "text/html": [
       "<div>\n",
       "<style scoped>\n",
       "    .dataframe tbody tr th:only-of-type {\n",
       "        vertical-align: middle;\n",
       "    }\n",
       "\n",
       "    .dataframe tbody tr th {\n",
       "        vertical-align: top;\n",
       "    }\n",
       "\n",
       "    .dataframe thead th {\n",
       "        text-align: right;\n",
       "    }\n",
       "</style>\n",
       "<table border=\"1\" class=\"dataframe\">\n",
       "  <thead>\n",
       "    <tr style=\"text-align: right;\">\n",
       "      <th></th>\n",
       "      <th>isbn</th>\n",
       "      <th>title</th>\n",
       "      <th>authors</th>\n",
       "      <th>description</th>\n",
       "      <th>subjects</th>\n",
       "    </tr>\n",
       "  </thead>\n",
       "  <tbody>\n",
       "    <tr>\n",
       "      <th>0</th>\n",
       "      <td>0061099252</td>\n",
       "      <td>Family pictures</td>\n",
       "      <td>Sue Miller</td>\n",
       "      <td>NaN</td>\n",
       "      <td>Family relationships, Autistic children, Ficti...</td>\n",
       "    </tr>\n",
       "    <tr>\n",
       "      <th>1</th>\n",
       "      <td>0345334531</td>\n",
       "      <td>The Feast of All Saints</td>\n",
       "      <td>Anne Rice</td>\n",
       "      <td>NaN</td>\n",
       "      <td>Fiction, Louisiana, fiction, New orleans (la.)...</td>\n",
       "    </tr>\n",
       "    <tr>\n",
       "      <th>2</th>\n",
       "      <td>0345351525</td>\n",
       "      <td>The Queen of the Damned</td>\n",
       "      <td>Anne Rice</td>\n",
       "      <td>NaN</td>\n",
       "      <td>Fiction, Vampires, Horror tales, horror, rock ...</td>\n",
       "    </tr>\n",
       "    <tr>\n",
       "      <th>3</th>\n",
       "      <td>0345443284</td>\n",
       "      <td>While I Was Gone</td>\n",
       "      <td>Sue Miller</td>\n",
       "      <td>NaN</td>\n",
       "      <td>Married women, Psychological fiction, Women ve...</td>\n",
       "    </tr>\n",
       "    <tr>\n",
       "      <th>4</th>\n",
       "      <td>0425169863</td>\n",
       "      <td>Point of origin</td>\n",
       "      <td>Patricia Cornwell</td>\n",
       "      <td>NaN</td>\n",
       "      <td>Women detectives, Medical examiners (Law), Kay...</td>\n",
       "    </tr>\n",
       "  </tbody>\n",
       "</table>\n",
       "</div>"
      ]
     },
     "metadata": {},
     "output_type": "display_data"
    }
   ],
   "execution_count": 13
  },
  {
   "cell_type": "code",
   "metadata": {
    "colab": {
     "base_uri": "https://localhost:8080/"
    },
    "id": "W2qyvBD5bIi8",
    "outputId": "4c06f8ba-b2ef-44ee-bd57-c9df4e1bf2c2",
    "ExecuteTime": {
     "end_time": "2025-07-12T03:01:50.147200Z",
     "start_time": "2025-07-12T03:01:50.018920Z"
    }
   },
   "source": [
    "sel_books_df['text'] = (\n",
    "    sel_books_df['title'].fillna('')    + ' ' +\n",
    "    sel_books_df['authors'].fillna('')  + ' ' +\n",
    "    sel_books_df['subjects'].fillna('') + ' ' +\n",
    "    sel_books_df['description'].fillna('')\n",
    ").str.strip()\n",
    "\n",
    "DATA_DIR      = Path.home() / \"project4\" / \"data\"\n",
    "LOCAL_CSV     = DATA_DIR / \"selected_books_with_meta.csv\"\n",
    "PREFIX        = \"notebook-data\"\n",
    "REMOTE_CSV    = f\"s3://{BUCKET}/{PREFIX}/selected_books_with_meta.csv\"\n",
    "\n",
    "DATA_DIR.mkdir(parents=True, exist_ok=True)\n",
    "\n",
    "sel_books_df.to_csv(LOCAL_CSV, index=False)\n",
    "print(f\"Saved local CSV: {LOCAL_CSV}\")\n",
    "\n",
    "fs = s3fs.S3FileSystem(anon=False)\n",
    "fs.put(str(LOCAL_CSV), REMOTE_CSV)\n",
    "print(f\"Uploaded to S3: {REMOTE_CSV}\")\n"
   ],
   "outputs": [
    {
     "name": "stdout",
     "output_type": "stream",
     "text": [
      "Saved local CSV: /home/ubuntu/project4/data/selected_books_with_meta.csv\n",
      "Uploaded to S3: s3://data612/notebook-data/selected_books_with_meta.csv\n"
     ]
    }
   ],
   "execution_count": 14
  },
  {
   "cell_type": "code",
   "metadata": {
    "id": "Pdhu3MJcbla-",
    "ExecuteTime": {
     "end_time": "2025-07-12T03:01:50.191175Z",
     "start_time": "2025-07-12T03:01:50.186514Z"
    }
   },
   "source": [
    "#from google.colab import files\n",
    "#files.download('selected_books_with_meta.csv')"
   ],
   "outputs": [],
   "execution_count": 15
  },
  {
   "cell_type": "markdown",
   "metadata": {
    "id": "_NnMpKiKWv9_"
   },
   "source": [
    "### TF-IDF Content-based recommender model\n",
    "\n",
    "We load the enriched books, vectorize the `text` with TF-IDF, compute cosine similarities, and write a `content_based_recommend()` function."
   ]
  },
  {
   "cell_type": "code",
   "metadata": {
    "id": "5IKhqZZ6CIPR",
    "ExecuteTime": {
     "end_time": "2025-07-12T03:01:50.363509Z",
     "start_time": "2025-07-12T03:01:50.357782Z"
    }
   },
   "source": [
    "ratings_subset = final_slice\n",
    "books_subset_metadata = sel_books_df"
   ],
   "outputs": [],
   "execution_count": 16
  },
  {
   "cell_type": "code",
   "metadata": {
    "colab": {
     "base_uri": "https://localhost:8080/"
    },
    "id": "5CubLs9OHo89",
    "outputId": "cefa3735-5a7e-4803-a02c-d26d46cdf90b",
    "ExecuteTime": {
     "end_time": "2025-07-12T03:01:50.588489Z",
     "start_time": "2025-07-12T03:01:50.516191Z"
    }
   },
   "source": [
    "tfidf = TfidfVectorizer(stop_words='english', max_features=6000)\n",
    "X= tfidf.fit_transform(books_subset_metadata.text)\n",
    "\n",
    "cos_sim= cosine_similarity(X, X)\n",
    "\n",
    "isbn_to_index = {\n",
    "    isbn: idx\n",
    "    for idx, isbn in enumerate(books_subset_metadata.isbn)\n",
    "}\n",
    "index_to_isbn = {\n",
    "    idx: isbn\n",
    "    for isbn, idx in isbn_to_index.items()\n",
    "}\n",
    "\n",
    "def content_based_recommend(isbn, top_n = 10):\n",
    "  i = isbn_to_index[isbn]\n",
    "  sims = cos_sim[i].copy()\n",
    "  sims[i] = -1\n",
    "  best = np.argpartition(-sims, top_n)[:top_n]\n",
    "  recs = sorted(((idx, sims[idx]) for idx in best), key=lambda x: -x[1])\n",
    "  return[(index_to_isbn[idx], float(score)) for idx,score in recs]\n",
    "\n",
    "test_isbn = books_subset_metadata.loc[0, 'isbn']\n",
    "print(\"Seed ISBN:\", test_isbn)\n",
    "print(\"Recommendations:\", content_based_recommend(test_isbn, 5))"
   ],
   "outputs": [
    {
     "name": "stdout",
     "output_type": "stream",
     "text": [
      "Seed ISBN: 0061099252\n",
      "Recommendations: [('0553268880', 0.2893896478006904), ('0671028014', 0.28238741352214686), ('0440202043', 0.24568448586612263), ('0140070206', 0.23770233256629283), ('0440486599', 0.22875510672631255)]\n"
     ]
    }
   ],
   "execution_count": 17
  },
  {
   "cell_type": "markdown",
   "metadata": {
    "id": "wtyKySAfjWgc"
   },
   "source": [
    "For ISBN 0061099252, the content-based recommendations are 0553268880, 0671028014, 0440202043, 0140070206 and 0440486599. This is great, but we can improve these recommendations by using the info for each book.\n",
    "\n",
    "Now let's look at the book metadata:"
   ]
  },
  {
   "cell_type": "code",
   "metadata": {
    "colab": {
     "base_uri": "https://localhost:8080/",
     "height": 327
    },
    "id": "ksVye6WOLhj1",
    "outputId": "4e177a4c-47bf-4372-9ec7-55d32e023e2e",
    "ExecuteTime": {
     "end_time": "2025-07-12T03:01:50.757717Z",
     "start_time": "2025-07-12T03:01:50.736394Z"
    }
   },
   "source": [
    "meta_lookup = books_subset_metadata.set_index('isbn')[['title', 'authors', 'subjects']]\n",
    "\n",
    "def get_book_info(isbn):\n",
    "    \"\"\"\n",
    "    Returns metadata for a single ISBN.\n",
    "    \"\"\"\n",
    "    info = meta_lookup.loc[isbn]\n",
    "    return {\n",
    "        'isbn':     isbn,\n",
    "        'title':    info['title'],\n",
    "        'author':   info['authors'],\n",
    "        'subjects': info['subjects']\n",
    "    }\n",
    "\n",
    "def content_based_recommend_with_info(isbn, top_n=10):\n",
    "    \"\"\"\n",
    "    Returns a DataFrame of top_n recommendations for the seed ISBN,\n",
    "    including title, author, subjects, and similarity score.\n",
    "    \"\"\"\n",
    "    recs = content_based_recommend(isbn, top_n)\n",
    "    rows = []\n",
    "    for rec_isbn, score in recs:\n",
    "        info = get_book_info(rec_isbn)\n",
    "        rows.append({\n",
    "            'isbn':     rec_isbn,\n",
    "            'title':    info['title'],\n",
    "            'author':   info['author'],\n",
    "            'subjects': info['subjects'],\n",
    "            'cos_sim score':    score\n",
    "        })\n",
    "    return pd.DataFrame(rows)\n",
    "\n",
    "seed_isbn = books_subset_metadata.loc[0, 'isbn']\n",
    "seed_info = get_book_info(seed_isbn)\n",
    "\n",
    "print(\"Seed book:\")\n",
    "print(f\"  ISBN:     {seed_info['isbn']}\")\n",
    "print(f\"  Title:    {seed_info['title']}\")\n",
    "print(f\"  Author:   {seed_info['author']}\")\n",
    "print(f\"  Subjects: {seed_info['subjects']}\\n\")\n",
    "\n",
    "print(\"Top recommendations:\")\n",
    "recommendations_df = content_based_recommend_with_info(seed_isbn, top_n=5)\n",
    "recommendations_df\n"
   ],
   "outputs": [
    {
     "name": "stdout",
     "output_type": "stream",
     "text": [
      "Seed book:\n",
      "  ISBN:     0061099252\n",
      "  Title:    Family pictures\n",
      "  Author:   Sue Miller\n",
      "  Subjects: Family relationships, Autistic children, Fiction, Care, Fiction, family life, general\n",
      "\n",
      "Top recommendations:\n"
     ]
    },
    {
     "data": {
      "text/plain": [
       "         isbn                      title             author  \\\n",
       "0  0553268880        The Prince of Tides         Pat Conroy   \n",
       "1  0671028014                       Star      V. C. Andrews   \n",
       "2  0440202043         The shell seekers.  Rosamunde Pilcher   \n",
       "3  0140070206                   Ironweed   Kennedy, William   \n",
       "4  0440486599  Then again, maybe I won't         Judy Blume   \n",
       "\n",
       "                                            subjects  cos_sim score  \n",
       "0  Fiction, Brothers and sisters, Social life and...       0.289390  \n",
       "1  Fiction, Girls, Families, Family, Family life,...       0.282387  \n",
       "2  Conflict of generations, England, Family relat...       0.245684  \n",
       "3  Fiction, Family in fiction, Family, Families, ...       0.237702  \n",
       "4  Emotional problems, Emotional problems of chil...       0.228755  "
      ],
      "text/html": [
       "<div>\n",
       "<style scoped>\n",
       "    .dataframe tbody tr th:only-of-type {\n",
       "        vertical-align: middle;\n",
       "    }\n",
       "\n",
       "    .dataframe tbody tr th {\n",
       "        vertical-align: top;\n",
       "    }\n",
       "\n",
       "    .dataframe thead th {\n",
       "        text-align: right;\n",
       "    }\n",
       "</style>\n",
       "<table border=\"1\" class=\"dataframe\">\n",
       "  <thead>\n",
       "    <tr style=\"text-align: right;\">\n",
       "      <th></th>\n",
       "      <th>isbn</th>\n",
       "      <th>title</th>\n",
       "      <th>author</th>\n",
       "      <th>subjects</th>\n",
       "      <th>cos_sim score</th>\n",
       "    </tr>\n",
       "  </thead>\n",
       "  <tbody>\n",
       "    <tr>\n",
       "      <th>0</th>\n",
       "      <td>0553268880</td>\n",
       "      <td>The Prince of Tides</td>\n",
       "      <td>Pat Conroy</td>\n",
       "      <td>Fiction, Brothers and sisters, Social life and...</td>\n",
       "      <td>0.289390</td>\n",
       "    </tr>\n",
       "    <tr>\n",
       "      <th>1</th>\n",
       "      <td>0671028014</td>\n",
       "      <td>Star</td>\n",
       "      <td>V. C. Andrews</td>\n",
       "      <td>Fiction, Girls, Families, Family, Family life,...</td>\n",
       "      <td>0.282387</td>\n",
       "    </tr>\n",
       "    <tr>\n",
       "      <th>2</th>\n",
       "      <td>0440202043</td>\n",
       "      <td>The shell seekers.</td>\n",
       "      <td>Rosamunde Pilcher</td>\n",
       "      <td>Conflict of generations, England, Family relat...</td>\n",
       "      <td>0.245684</td>\n",
       "    </tr>\n",
       "    <tr>\n",
       "      <th>3</th>\n",
       "      <td>0140070206</td>\n",
       "      <td>Ironweed</td>\n",
       "      <td>Kennedy, William</td>\n",
       "      <td>Fiction, Family in fiction, Family, Families, ...</td>\n",
       "      <td>0.237702</td>\n",
       "    </tr>\n",
       "    <tr>\n",
       "      <th>4</th>\n",
       "      <td>0440486599</td>\n",
       "      <td>Then again, maybe I won't</td>\n",
       "      <td>Judy Blume</td>\n",
       "      <td>Emotional problems, Emotional problems of chil...</td>\n",
       "      <td>0.228755</td>\n",
       "    </tr>\n",
       "  </tbody>\n",
       "</table>\n",
       "</div>"
      ]
     },
     "execution_count": 18,
     "metadata": {},
     "output_type": "execute_result"
    }
   ],
   "execution_count": 18
  },
  {
   "cell_type": "markdown",
   "metadata": {
    "id": "G3hxsYTekdUh"
   },
   "source": [
    "We now have title, author, subjects, and similarity score. We can see that the recommendations are fiction and involve families."
   ]
  },
  {
   "cell_type": "markdown",
   "metadata": {
    "id": "ThZxWFF1qyw9"
   },
   "source": [
    "###   BERT Content-based model\n",
    "\n",
    "This is our second, more sophisticated content model. Instead of just looking at keywords like TF-IDF, **BERT** is a powerful language model that understands the *meaning and context* of the words in our `text` field.\n",
    "\n",
    "We use a pre-trained BERT model (`all-MiniLM-L6-v2`) to convert each book's text into a high-quality numerical vector called an \\\"embedding.\\\" These embeddings are much richer than TF-IDF vectors.\n",
    "\n",
    " We then use the same cosine similarity trick to find books with the most similar embeddings. The expectation is that BERT will give us more nuanced and conceptually relevant recommendations.\n"
   ]
  },
  {
   "cell_type": "code",
   "metadata": {
    "colab": {
     "base_uri": "https://localhost:8080/"
    },
    "id": "i0JAmXs54-uD",
    "outputId": "4803f119-a9d9-4f47-fe7a-e213510e8d67",
    "ExecuteTime": {
     "end_time": "2025-07-12T03:01:51.026079Z",
     "start_time": "2025-07-12T03:01:50.944391Z"
    }
   },
   "source": [
    "PREFIX       = \"notebook-data\"\n",
    "FNAME        = \"embeddings.npy\"\n",
    "LOCAL_PATH   = FNAME\n",
    "REMOTE_PATH  = f\"s3://{BUCKET}/{PREFIX}/{FNAME}\"\n",
    "\n",
    "fs = s3fs.S3FileSystem(anon=False)\n",
    "\n",
    "if os.path.exists(LOCAL_PATH):\n",
    "    embeddings = np.load(LOCAL_PATH)\n",
    "    print(f\"Loaded embeddings from local file: {LOCAL_PATH}\")\n",
    "elif fs.exists(REMOTE_PATH):\n",
    "    print(f\"Downloading embeddings from S3: {REMOTE_PATH}\")\n",
    "    with fs.open(REMOTE_PATH, \"rb\") as f:\n",
    "        embeddings = np.load(f)\n",
    "    np.save(LOCAL_PATH, embeddings)\n",
    "    print(f\"Saved embeddings to local file: {LOCAL_PATH}\")\n",
    "else:\n",
    "    raise FileNotFoundError(f\"Embeddings file not found locally or in S3 at {REMOTE_PATH}\")\n",
    "\n",
    "cos_sim_bert = cosine_similarity(embeddings, embeddings)\n",
    "\n",
    "isbn_to_idx_bert = {isbn: idx for idx, isbn in enumerate(sel_books_df['isbn'])}\n",
    "idx_to_isbn_bert = {idx: isbn for isbn, idx in isbn_to_idx_bert.items()}\n",
    "\n",
    "def bert_recommend(isbn, top_n=10):\n",
    "    if isbn not in isbn_to_idx_bert:\n",
    "        raise ValueError(f\"ISBN {isbn} not found in dataset\")\n",
    "    i    = isbn_to_idx_bert[isbn]\n",
    "    sims = cos_sim_bert[i].copy()\n",
    "    sims[i] = -1  # exclude the seed itself\n",
    "    best_idxs = np.argpartition(-sims, top_n)[:top_n]\n",
    "    recs = sorted(((idx, sims[idx]) for idx in best_idxs), key=lambda x: -x[1])\n",
    "    return [(idx_to_isbn_bert[idx], float(score)) for idx, score in recs]\n",
    "\n",
    "seed = sel_books_df.loc[0, 'isbn']\n",
    "print(\"Seed ISBN:\", seed)\n",
    "print(\"Top 5 BERT recs:\", bert_recommend(seed, 5))\n",
    "\n"
   ],
   "outputs": [
    {
     "name": "stdout",
     "output_type": "stream",
     "text": [
      "Downloading embeddings from S3: s3://data612/notebook-data/embeddings.npy\n",
      "Saved embeddings to local file: embeddings.npy\n",
      "Seed ISBN: 0061099252\n",
      "Top 5 BERT recs: [('0671028014', 0.7182744741439819), ('0440226104', 0.6873708963394165), ('0373711328', 0.6859381198883057), ('1551665557', 0.676663339138031), ('0140070206', 0.6735764741897583)]\n"
     ]
    }
   ],
   "execution_count": 19
  },
  {
   "cell_type": "code",
   "metadata": {
    "colab": {
     "base_uri": "https://localhost:8080/",
     "height": 363
    },
    "id": "pVrb03lo8XG3",
    "outputId": "a1135f07-5308-49bb-a9c9-fcc1367c5271",
    "ExecuteTime": {
     "end_time": "2025-07-12T03:01:51.210546Z",
     "start_time": "2025-07-12T03:01:51.128812Z"
    }
   },
   "source": [
    "PREFIX      = \"notebook-data\"\n",
    "FILENAME    = \"selected_books_with_meta.csv\"\n",
    "REMOTE_CSV  = f\"s3://{BUCKET}/{PREFIX}/{FILENAME}\"\n",
    "LOCAL_CSV   = \"selected_books_with_meta.csv\"\n",
    "\n",
    "fs = s3fs.S3FileSystem(anon=False)\n",
    "\n",
    "if fs.exists(REMOTE_CSV):\n",
    "    print(f\"Loading metadata CSV from S3: {REMOTE_CSV}\")\n",
    "    sel_books_df = pd.read_csv(REMOTE_CSV, storage_options={\"anon\": False}, encoding='latin1')\n",
    "else:\n",
    "    print(f\"No remote CSV found; loading local file and uploading to S3\")\n",
    "    sel_books_df = pd.read_csv(LOCAL_CSV, encoding='latin1')\n",
    "    fs.put(LOCAL_CSV, REMOTE_CSV)\n",
    "    print(f\"Uploaded local CSV to S3: {REMOTE_CSV}\")\n",
    "\n",
    "meta = sel_books_df.set_index('isbn')[['title','authors','subjects']]\n",
    "\n",
    "def recs_with_meta(recs, model_name):\n",
    "    rows = []\n",
    "    for isbn, score in recs:\n",
    "        if isbn in meta.index:\n",
    "            info = meta.loc[isbn]\n",
    "            rows.append({\n",
    "                'model':    model_name,\n",
    "                'isbn':     isbn,\n",
    "                'title':    info['title'],\n",
    "                'author':   info['authors'],\n",
    "                'subjects': info['subjects'],\n",
    "                'score':    score\n",
    "            })\n",
    "    return pd.DataFrame(rows)\n",
    "\n",
    "seed      = sel_books_df.loc[0, 'isbn']\n",
    "tfidf_recs = content_based_recommend(seed, 5)\n",
    "bert_recs  = bert_recommend(seed, 5)\n",
    "\n",
    "df_tfidf = recs_with_meta(tfidf_recs, 'TF-IDF')\n",
    "df_bert  = recs_with_meta(bert_recs,  'BERT')\n",
    "pd.concat([df_tfidf, df_bert], ignore_index=True)\n"
   ],
   "outputs": [
    {
     "name": "stdout",
     "output_type": "stream",
     "text": [
      "Loading metadata CSV from S3: s3://data612/notebook-data/selected_books_with_meta.csv\n"
     ]
    },
    {
     "data": {
      "text/plain": [
       "    model        isbn                      title             author  \\\n",
       "0  TF-IDF  0553268880        The Prince of Tides         Pat Conroy   \n",
       "1  TF-IDF  0671028014                       Star      V. C. Andrews   \n",
       "2  TF-IDF  0440202043         The shell seekers.  Rosamunde Pilcher   \n",
       "3  TF-IDF  0140070206                   Ironweed   Kennedy, William   \n",
       "4  TF-IDF  0440486599  Then again, maybe I won't         Judy Blume   \n",
       "5    BERT  0671028014                       Star      V. C. Andrews   \n",
       "6    BERT  0440226104             Black and blue      Anna Quindlen   \n",
       "7    BERT  0373711328              Keeping Faith   Janice Macdonald   \n",
       "8    BERT  1551665557             The Family Way   Jayne Ann Krentz   \n",
       "9    BERT  0140070206                   Ironweed   Kennedy, William   \n",
       "\n",
       "                                            subjects     score  \n",
       "0  Fiction, Brothers and sisters, Social life and...  0.289390  \n",
       "1  Fiction, Girls, Families, Family, Family life,...  0.282387  \n",
       "2  Conflict of generations, England, Family relat...  0.245684  \n",
       "3  Fiction, Family in fiction, Family, Families, ...  0.237702  \n",
       "4  Emotional problems, Emotional problems of chil...  0.228755  \n",
       "5  Fiction, Girls, Families, Family, Family life,...  0.718274  \n",
       "6  Mothers and sons, fiction, Florida, fiction, M...  0.687371  \n",
       "7  Fiction, Grandparent and child, Mothers and da...  0.685938  \n",
       "8  Fiction, Romance, Contemporary, Pregnancy, fic...  0.676663  \n",
       "9  Fiction, Family in fiction, Family, Families, ...  0.673576  "
      ],
      "text/html": [
       "<div>\n",
       "<style scoped>\n",
       "    .dataframe tbody tr th:only-of-type {\n",
       "        vertical-align: middle;\n",
       "    }\n",
       "\n",
       "    .dataframe tbody tr th {\n",
       "        vertical-align: top;\n",
       "    }\n",
       "\n",
       "    .dataframe thead th {\n",
       "        text-align: right;\n",
       "    }\n",
       "</style>\n",
       "<table border=\"1\" class=\"dataframe\">\n",
       "  <thead>\n",
       "    <tr style=\"text-align: right;\">\n",
       "      <th></th>\n",
       "      <th>model</th>\n",
       "      <th>isbn</th>\n",
       "      <th>title</th>\n",
       "      <th>author</th>\n",
       "      <th>subjects</th>\n",
       "      <th>score</th>\n",
       "    </tr>\n",
       "  </thead>\n",
       "  <tbody>\n",
       "    <tr>\n",
       "      <th>0</th>\n",
       "      <td>TF-IDF</td>\n",
       "      <td>0553268880</td>\n",
       "      <td>The Prince of Tides</td>\n",
       "      <td>Pat Conroy</td>\n",
       "      <td>Fiction, Brothers and sisters, Social life and...</td>\n",
       "      <td>0.289390</td>\n",
       "    </tr>\n",
       "    <tr>\n",
       "      <th>1</th>\n",
       "      <td>TF-IDF</td>\n",
       "      <td>0671028014</td>\n",
       "      <td>Star</td>\n",
       "      <td>V. C. Andrews</td>\n",
       "      <td>Fiction, Girls, Families, Family, Family life,...</td>\n",
       "      <td>0.282387</td>\n",
       "    </tr>\n",
       "    <tr>\n",
       "      <th>2</th>\n",
       "      <td>TF-IDF</td>\n",
       "      <td>0440202043</td>\n",
       "      <td>The shell seekers.</td>\n",
       "      <td>Rosamunde Pilcher</td>\n",
       "      <td>Conflict of generations, England, Family relat...</td>\n",
       "      <td>0.245684</td>\n",
       "    </tr>\n",
       "    <tr>\n",
       "      <th>3</th>\n",
       "      <td>TF-IDF</td>\n",
       "      <td>0140070206</td>\n",
       "      <td>Ironweed</td>\n",
       "      <td>Kennedy, William</td>\n",
       "      <td>Fiction, Family in fiction, Family, Families, ...</td>\n",
       "      <td>0.237702</td>\n",
       "    </tr>\n",
       "    <tr>\n",
       "      <th>4</th>\n",
       "      <td>TF-IDF</td>\n",
       "      <td>0440486599</td>\n",
       "      <td>Then again, maybe I won't</td>\n",
       "      <td>Judy Blume</td>\n",
       "      <td>Emotional problems, Emotional problems of chil...</td>\n",
       "      <td>0.228755</td>\n",
       "    </tr>\n",
       "    <tr>\n",
       "      <th>5</th>\n",
       "      <td>BERT</td>\n",
       "      <td>0671028014</td>\n",
       "      <td>Star</td>\n",
       "      <td>V. C. Andrews</td>\n",
       "      <td>Fiction, Girls, Families, Family, Family life,...</td>\n",
       "      <td>0.718274</td>\n",
       "    </tr>\n",
       "    <tr>\n",
       "      <th>6</th>\n",
       "      <td>BERT</td>\n",
       "      <td>0440226104</td>\n",
       "      <td>Black and blue</td>\n",
       "      <td>Anna Quindlen</td>\n",
       "      <td>Mothers and sons, fiction, Florida, fiction, M...</td>\n",
       "      <td>0.687371</td>\n",
       "    </tr>\n",
       "    <tr>\n",
       "      <th>7</th>\n",
       "      <td>BERT</td>\n",
       "      <td>0373711328</td>\n",
       "      <td>Keeping Faith</td>\n",
       "      <td>Janice Macdonald</td>\n",
       "      <td>Fiction, Grandparent and child, Mothers and da...</td>\n",
       "      <td>0.685938</td>\n",
       "    </tr>\n",
       "    <tr>\n",
       "      <th>8</th>\n",
       "      <td>BERT</td>\n",
       "      <td>1551665557</td>\n",
       "      <td>The Family Way</td>\n",
       "      <td>Jayne Ann Krentz</td>\n",
       "      <td>Fiction, Romance, Contemporary, Pregnancy, fic...</td>\n",
       "      <td>0.676663</td>\n",
       "    </tr>\n",
       "    <tr>\n",
       "      <th>9</th>\n",
       "      <td>BERT</td>\n",
       "      <td>0140070206</td>\n",
       "      <td>Ironweed</td>\n",
       "      <td>Kennedy, William</td>\n",
       "      <td>Fiction, Family in fiction, Family, Families, ...</td>\n",
       "      <td>0.673576</td>\n",
       "    </tr>\n",
       "  </tbody>\n",
       "</table>\n",
       "</div>"
      ]
     },
     "execution_count": 20,
     "metadata": {},
     "output_type": "execute_result"
    }
   ],
   "execution_count": 20
  },
  {
   "cell_type": "markdown",
   "metadata": {
    "id": "dhkq3MQrsM17"
   },
   "source": [
    "We can see here that using BERT gives us a much higher cosine similarity. For BERT, Star by V. C. Andrews is actually the top recommendation with a similarity score of 0.718274. Additionally, BERT's recommendations only share two titles with TF-IDF, with the rest being different. Being able to use the context of a sentence via BERT embeddings is more useful than finding the significance of words via TF-IDF."
   ]
  },
  {
   "cell_type": "code",
   "metadata": {
    "id": "1go8gkfhBR3B",
    "ExecuteTime": {
     "end_time": "2025-07-12T03:01:51.404322Z",
     "start_time": "2025-07-12T03:01:51.395865Z"
    }
   },
   "source": [
    "import numpy as np\n",
    "from sklearn.metrics.pairwise import cosine_similarity\n",
    "\n",
    "def compute_diversity(recs_by_user, isbn_to_idx, item_embeddings):\n",
    "    \"\"\"\n",
    "    Compute mean pairwise diversity (1 – cosine_similarity) of top-N lists.\n",
    "\n",
    "    Params:\n",
    "    - recs_by_user: dict[user_id] → list of ISBNs in that user’s top-N recs\n",
    "    - isbn_to_idx:  dict mapping ISBN → row index in item_embeddings\n",
    "    - item_embeddings: np.ndarray, shape (n_items, dim)\n",
    "\n",
    "    Returns:\n",
    "    - avg_diversity: float\n",
    "    \"\"\"\n",
    "    diversities = []\n",
    "    for user, rec_isbns in recs_by_user.items():\n",
    "        # translate ISBN → embedding rows, skip missing\n",
    "        idxs = [isbn_to_idx[isbn] for isbn in rec_isbns if isbn in isbn_to_idx]\n",
    "        if len(idxs) < 2:\n",
    "            continue\n",
    "        vecs = item_embeddings[idxs]\n",
    "        sims = cosine_similarity(vecs, vecs)\n",
    "        # take upper-triangle off-diagonal\n",
    "        i_u, j_u = np.triu_indices_from(sims, k=1)\n",
    "        pair_sims = sims[i_u, j_u]\n",
    "        diversities.append((1 - pair_sims).mean())\n",
    "\n",
    "    return float(np.mean(diversities)) if diversities else 0.0\n"
   ],
   "outputs": [],
   "execution_count": 21
  },
  {
   "cell_type": "code",
   "metadata": {
    "id": "bMs2fF1dE9Zy",
    "ExecuteTime": {
     "end_time": "2025-07-12T03:01:51.475927Z",
     "start_time": "2025-07-12T03:01:51.471063Z"
    }
   },
   "source": [
    "#embeddings = model.encode(\n",
    "#    sel_books_df['text'].tolist(),\n",
    "#    show_progress_bar=True,\n",
    "#    convert_to_numpy=True\n",
    "#)"
   ],
   "outputs": [],
   "execution_count": 22
  },
  {
   "cell_type": "code",
   "metadata": {
    "id": "1Ic2MyL4CanC",
    "ExecuteTime": {
     "end_time": "2025-07-12T03:01:51.797681Z",
     "start_time": "2025-07-12T03:01:51.790233Z"
    }
   },
   "source": [
    "def build_recs_by_user(final_slice, recommend_fn, top_n=10, seed_fn=None):\n",
    "    \"\"\"\n",
    "    Build a dict of user_id → list of recommended ISBNs for any model.\n",
    "\n",
    "    Params:\n",
    "    - final_slice: DataFrame with columns ['user_id', 'isbn', 'rating', ...]\n",
    "    - recommend_fn: function(seed_isbn, top_n) → list of (isbn, score)\n",
    "    - top_n: how many recs per user\n",
    "    - seed_fn: optional function(user_id) → seed_isbn. Defaults to highest-rated ISBN in final_slice.\n",
    "\n",
    "    Returns:\n",
    "    - recs_by_user: dict mapping user_id → list of ISBN strings\n",
    "    \"\"\"\n",
    "    if seed_fn is None:\n",
    "        # default: pick highest-rated ISBN that the user has in final_slice\n",
    "        def seed_fn(u):\n",
    "            sub = final_slice[final_slice['user_id'] == u]\n",
    "            if sub.empty:\n",
    "                return None\n",
    "            return sub.sort_values('rating', ascending=False)['isbn'].iat[0]\n",
    "\n",
    "    recs_by_user = {}\n",
    "    for u in final_slice['user_id'].unique():\n",
    "        seed = seed_fn(u)\n",
    "        if not seed:\n",
    "            continue\n",
    "        recs = recommend_fn(seed, top_n)\n",
    "        recs_by_user[u] = [isbn for isbn, _ in recs]\n",
    "    return recs_by_user"
   ],
   "outputs": [],
   "execution_count": 23
  },
  {
   "cell_type": "code",
   "metadata": {
    "colab": {
     "base_uri": "https://localhost:8080/"
    },
    "id": "WGTiorDMDCYS",
    "outputId": "a0e355cf-77fe-4135-8e92-fd9db412e82d",
    "ExecuteTime": {
     "end_time": "2025-07-12T03:01:52.984668Z",
     "start_time": "2025-07-12T03:01:52.059788Z"
    }
   },
   "source": [
    "recs_bert = build_recs_by_user(final_slice, bert_recommend, top_n=10)\n",
    "div = compute_diversity(recs_bert, isbn_to_idx_bert, embeddings)\n",
    "print(\"Model diversity:\", div)"
   ],
   "outputs": [
    {
     "name": "stdout",
     "output_type": "stream",
     "text": [
      "Model diversity: 0.3743830919265747\n"
     ]
    }
   ],
   "execution_count": 24
  },
  {
   "cell_type": "markdown",
   "metadata": {
    "id": "virufvfGTza7"
   },
   "source": [
    "### SVD Model"
   ]
  },
  {
   "cell_type": "markdown",
   "metadata": {
    "id": "8jPxRdCYvThM"
   },
   "source": [
    "This model, **FunkSVD**, is a collaborative filtering model. It knows *nothing* about the books' content (no titles, no descriptions). Its only source of information is the user-item ratings matrix: who rated what, and what score they gave.\n",
    "\n",
    "The core idea is to find hidden patterns in user ratings. It breaks down the ratings matrix into two smaller matrices: one representing user \"tastes\" and another representing item \"attributes.\" To make a prediction, it just multiplies them back together. The way it works is that it learns these tastes and attributes automatically from the data.\n"
   ]
  },
  {
   "cell_type": "code",
   "metadata": {
    "id": "ciJ9t4iDc3Y0",
    "ExecuteTime": {
     "end_time": "2025-07-12T03:01:53.092529Z",
     "start_time": "2025-07-12T03:01:53.086991Z"
    }
   },
   "source": [
    "from scipy.sparse.linalg import svds\n",
    "from sklearn.metrics import root_mean_squared_error"
   ],
   "outputs": [],
   "execution_count": 25
  },
  {
   "cell_type": "code",
   "metadata": {
    "id": "KFYR3v2KaZ8a",
    "ExecuteTime": {
     "end_time": "2025-07-12T03:01:53.466782Z",
     "start_time": "2025-07-12T03:01:53.406488Z"
    }
   },
   "source": [
    "# Merge data frames so we have the title as part of the ratings\n",
    "ratings_subset_v2 = pd.merge(final_slice, sel_books_df, on=\"isbn\")\n",
    "\n",
    "# Create the user-item utility matrix\n",
    "ratings_matrix = ratings_subset_v2.pivot_table(\n",
    "    index=\"user_id\",\n",
    "    columns=\"title\",\n",
    "    values=\"rating\"\n",
    ")\n",
    "# Get the raw ratings matrix as a NumPy array\n",
    "original_ratings = ratings_matrix.values\n",
    "# Create a mask to only calculate error on original, non-empty ratings\n",
    "mask = ~np.isnan(original_ratings)\n"
   ],
   "outputs": [],
   "execution_count": 26
  },
  {
   "cell_type": "code",
   "metadata": {
    "id": "8hbYLx1KMiXp",
    "ExecuteTime": {
     "end_time": "2025-07-12T03:01:53.533451Z",
     "start_time": "2025-07-12T03:01:53.503572Z"
    }
   },
   "source": [
    "R = ratings_matrix.values.copy()\n",
    "\n",
    "#Mask zeros as NaN so 0’s aren’t treated as real ratings\n",
    "R[R == 0] = np.nan\n",
    "\n",
    "#  Build train/test splits on non-NaN entries\n",
    "all_coords = np.argwhere(~np.isnan(R))\n",
    "np.random.seed(42)\n",
    "np.random.shuffle(all_coords)\n",
    "\n",
    "test_size  = int(0.2 * len(all_coords))\n",
    "test_idx   = all_coords[:test_size]\n",
    "train_idx  = all_coords[test_size:]\n",
    "\n",
    "train_coords = [(i, j, R[i, j]) for i, j in train_idx]\n",
    "test_coords  = [(i, j, R[i, j]) for i, j in test_idx]\n",
    "\n",
    "R_train = np.full_like(R, np.nan)\n",
    "for i, j, val in train_coords:\n",
    "    R_train[i, j] = val\n",
    "\n",
    "n_users, n_items = R.shape"
   ],
   "outputs": [],
   "execution_count": 27
  },
  {
   "cell_type": "code",
   "metadata": {
    "colab": {
     "base_uri": "https://localhost:8080/"
    },
    "id": "RVs2uKLCboMW",
    "outputId": "25170b0d-61c4-4547-ff33-aa0598c6df95",
    "ExecuteTime": {
     "end_time": "2025-07-12T03:01:53.735044Z",
     "start_time": "2025-07-12T03:01:53.709268Z"
    }
   },
   "source": [
    "#Compute user means on the train data, keep as (n_users, 1)\n",
    "user_means_arr = np.nanmean(R_train, axis=1)\n",
    "global_mean    = np.nanmean(user_means_arr)\n",
    "user_means_arr = np.where(np.isnan(user_means_arr), global_mean, user_means_arr)\n",
    "user_means     = user_means_arr.reshape(-1, 1)\n",
    "#Center the train matrix, then build a sparse version for svds\n",
    "R_centered = R_train - user_means\n",
    "R_sparse   = csr_matrix(np.nan_to_num(R_centered))\n",
    "\n"
   ],
   "outputs": [
    {
     "name": "stderr",
     "output_type": "stream",
     "text": [
      "/tmp/ipykernel_2076/158033337.py:2: RuntimeWarning: Mean of empty slice\n",
      "  user_means_arr = np.nanmean(R_train, axis=1)\n"
     ]
    }
   ],
   "execution_count": 28
  },
  {
   "cell_type": "code",
   "metadata": {
    "colab": {
     "base_uri": "https://localhost:8080/",
     "height": 817
    },
    "id": "FRhCbfTMXJow",
    "outputId": "8dd3bc19-a8b0-49a8-bffd-e4497f3e50bd",
    "ExecuteTime": {
     "end_time": "2025-07-12T03:01:54.338508Z",
     "start_time": "2025-07-12T03:01:53.926885Z"
    }
   },
   "source": [
    "#  Prepare index and truth lists for RMSE\n",
    "train_rows  = [i for i, j, _ in train_coords]\n",
    "train_cols  = [j for i, j, _ in train_coords]\n",
    "train_truth = [v for i, j, v in train_coords]\n",
    "\n",
    "test_rows   = [i for i, j, _ in test_coords]\n",
    "test_cols   = [j for i, j, _ in test_coords]\n",
    "test_truth  = [v for i, j, v in test_coords]\n",
    "\n",
    "#  Loop over k: truncated SVD -> reconstruct -> RMSE\n",
    "train_rmse_values = []\n",
    "test_rmse_values  = []\n",
    "\n",
    "k_values = [10, 20, 50, 100]  # adjust or extend this list as needed\n",
    "for k in k_values:\n",
    "    ncv_val = min(2 * k + 1, n_users - 1, n_items - 1)\n",
    "    U, sigma, Vt = svds(R_sparse, k=k, ncv=ncv_val)\n",
    "\n",
    "    # Reconstruct inside the loop\n",
    "    R_hat_centered = U @ np.diag(sigma) @ Vt\n",
    "    R_hat = R_hat_centered + user_means\n",
    "\n",
    "    # For sample debugging, print in k=10 and k=100\n",
    "    if k in (10, 100):\n",
    "        print(f\"\\nSample predictions at k={k}:\")\n",
    "        for idx in range(5):\n",
    "            r, c, actual = test_rows[idx], test_cols[idx], test_truth[idx]\n",
    "            print(f\"  pred={R_hat[r, c]:.3f}, actual={actual}\")\n",
    "\n",
    "    # Compute RMSE on train and test sets\n",
    "    train_rmse = root_mean_squared_error(train_truth, R_hat[train_rows, train_cols])\n",
    "    test_rmse  = root_mean_squared_error(test_truth,  R_hat[test_rows,  test_cols])\n",
    "\n",
    "    train_rmse_values.append(train_rmse)\n",
    "    test_rmse_values.append(test_rmse)\n",
    "    best_train_idx  = np.argmin(train_rmse_values)\n",
    "    best_train_k    = k_values[best_train_idx]\n",
    "    best_train_rmse = train_rmse_values[best_train_idx]\n",
    "\n",
    "    best_test_idx   = np.argmin(test_rmse_values)\n",
    "    best_test_k     = k_values[best_test_idx]\n",
    "    best_test_rmse  = test_rmse_values[best_test_idx]\n",
    "# After loop: plot or pick best k\n",
    "best_idx = np.argmin(test_rmse_values)\n",
    "best_k   = k_values[best_idx]\n",
    "best_rmse= test_rmse_values[best_idx]\n",
    "print(f\"Best train k={best_train_k} with Train RMSE={best_train_rmse:.4f}\")\n",
    "print(f\"Best test  k={best_test_k} with Test RMSE ={best_test_rmse:.4f}\")\n",
    "#  Plot and Find the True Optimal k\n",
    "print(\" Plotting results...\")\n",
    "plt.figure(figsize=(8,5))\n",
    "plt.plot(k_values, train_rmse_values, marker='o', label='Train RMSE')\n",
    "plt.plot(k_values, test_rmse_values, marker='o', label='Test RMSE')\n",
    "plt.axvline(best_train_k, linestyle='-', label=f'Best Train k={best_train_k}')\n",
    "plt.axvline(best_test_k,  linestyle='--', label=f'Best Test k={best_test_k}')\n",
    "plt.xlabel('Rank k')\n",
    "plt.ylabel('RMSE')\n",
    "plt.title('RMSE vs Rank k')\n",
    "plt.legend()\n",
    "plt.show()\n",
    "\n",
    "if not np.all(np.isnan(test_rmse_values)):\n",
    "    min_test_rmse = np.nanmin(test_rmse_values)\n",
    "    best_k = k_values[np.nanargmin(test_rmse_values)]\n",
    "    print(f\"\\nOptimal k = {best_k} with a Test RMSE of {min_test_rmse:.4f}\")\n",
    "else:\n",
    "    print(\"\\nCould not find a stable k. All values failed.\")"
   ],
   "outputs": [
    {
     "name": "stdout",
     "output_type": "stream",
     "text": [
      "\n",
      "Sample predictions at k=10:\n",
      "  pred=8.457, actual=8.0\n",
      "  pred=8.596, actual=9.0\n",
      "  pred=6.967, actual=5.0\n",
      "  pred=8.818, actual=10.0\n",
      "  pred=7.615, actual=3.0\n",
      "\n",
      "Sample predictions at k=100:\n",
      "  pred=8.041, actual=8.0\n",
      "  pred=8.472, actual=9.0\n",
      "  pred=7.147, actual=5.0\n",
      "  pred=8.629, actual=10.0\n",
      "  pred=7.529, actual=3.0\n",
      "Best train k=100 with Train RMSE=0.4120\n",
      "Best test  k=10 with Test RMSE =1.6913\n",
      " Plotting results...\n"
     ]
    },
    {
     "data": {
      "text/plain": [
       "<Figure size 800x500 with 1 Axes>"
      ],
      "image/png": "[encoded data removed]"
     },
     "metadata": {},
     "output_type": "display_data"
    },
    {
     "name": "stdout",
     "output_type": "stream",
     "text": [
      "\n",
      "Optimal k = 10 with a Test RMSE of 1.6913\n"
     ]
    }
   ],
   "execution_count": 29
  },
  {
   "cell_type": "markdown",
   "metadata": {
    "id": "j18ANw5x6WGA"
   },
   "source": [
    "After training the data, the optimal k value (number of latent features) for the test set is 10 with an RMSE value of 1.7."
   ]
  },
  {
   "cell_type": "code",
   "metadata": {
    "colab": {
     "base_uri": "https://localhost:8080/"
    },
    "id": "wFMgfeZkImwH",
    "outputId": "897e8002-7e16-444e-f5ab-d105eb551296",
    "ExecuteTime": {
     "end_time": "2025-07-12T03:01:54.568831Z",
     "start_time": "2025-07-12T03:01:54.553647Z"
    }
   },
   "source": [
    "# 1) What do your \"true\" ratings actually look like?\n",
    "print(\"Sample train_truth:\", np.array(train_truth[:10],dtype=float))\n",
    "print(\"Sample test_truth: \",  np.array(test_truth[:10],dtype=float))\n",
    "\n",
    "# 2) What’s the overall scale?\n",
    "import numpy as np\n",
    "print(\"Rating matrix min/max:\",\n",
    "      np.nanmin(ratings_matrix), \"→\", np.nanmax(ratings_matrix))\n",
    "\n",
    "# 3) Check the global mean you’re using\n",
    "global_mean = np.mean(train_truth)\n",
    "print(\"Computed global_mean:\", global_mean)\n",
    "\n",
    "# 4) Verify your baseline calculation\n",
    "mse = np.mean([(r - global_mean)**2 for r in test_truth])\n",
    "print(f\"Baseline MSE: {mse:.4f}  →  RMSE: {np.sqrt(mse):.4f}\")"
   ],
   "outputs": [
    {
     "name": "stdout",
     "output_type": "stream",
     "text": [
      "Sample train_truth: [ 7.  7. 10.  8.  9.  7.  7. 10.  8.  7.]\n",
      "Sample test_truth:  [ 8.  9.  5. 10.  3.  9.  6.  7.  9.  7.]\n",
      "Rating matrix min/max: 0.0 → 10.0\n",
      "Computed global_mean: 7.931830099632931\n",
      "Baseline MSE: 3.0856  →  RMSE: 1.7566\n"
     ]
    }
   ],
   "execution_count": 30
  },
  {
   "cell_type": "code",
   "metadata": {
    "id": "eCB9WcjGSySY",
    "ExecuteTime": {
     "end_time": "2025-07-12T03:01:54.764427Z",
     "start_time": "2025-07-12T03:01:54.754650Z"
    }
   },
   "source": [
    "def train_funk_svd_with_early_stopping(\n",
    "    train_coords,\n",
    "    val_coords,\n",
    "    n_users,\n",
    "    n_items,\n",
    "    n_factors,\n",
    "    n_epochs,\n",
    "    learning_rate,\n",
    "    reg,\n",
    "    patience=5,\n",
    "    return_history=False\n",
    "):\n",
    "    # Initialize user/item factors\n",
    "    P = np.random.normal(scale=1.0/n_factors, size=(n_users, n_factors))\n",
    "    Q = np.random.normal(scale=1.0/n_factors, size=(n_items, n_factors))\n",
    "    # Histories\n",
    "    train_rmse_hist = []\n",
    "    val_rmse_hist   = []\n",
    "    best_val = np.inf\n",
    "    wait = 0\n",
    "    # Training loop with tqdm progress bar\n",
    "    for epoch in range(1, n_epochs+1):\n",
    "        # SGD updates over train_coords\n",
    "        for u, i, r in train_coords:\n",
    "            pred = P[u, :].dot(Q[i, :])\n",
    "            err  = r - pred\n",
    "            # gradient updates\n",
    "            P[u, :] += learning_rate * (err * Q[i, :] - reg * P[u, :])\n",
    "            Q[i, :] += learning_rate * (err * P[u, :] - reg * Q[i, :])\n",
    "        # compute RMSEs\n",
    "        train_preds = [P[u, :].dot(Q[i, :]) for u, i, _ in train_coords]\n",
    "        train_truth = [r for _, _, r in train_coords]\n",
    "        curr_train_rmse = root_mean_squared_error(train_truth, train_preds)\n",
    "        val_preds   = [P[u, :].dot(Q[i, :]) for u, i, _ in val_coords]\n",
    "        val_truth   = [r for _, _, r in val_coords]\n",
    "        curr_val_rmse = root_mean_squared_error(val_truth, val_preds)\n",
    "        train_rmse_hist.append(curr_train_rmse)\n",
    "        val_rmse_hist.append(curr_val_rmse)\n",
    "        # early stopping check\n",
    "        if curr_val_rmse < best_val:\n",
    "            best_val = curr_val_rmse\n",
    "            best_P, best_Q = P.copy(), Q.copy()\n",
    "            wait = 0\n",
    "        else:\n",
    "            wait += 1\n",
    "            if wait >= patience:\n",
    "                # restore best factors\n",
    "                P, Q = best_P, best_Q\n",
    "                break\n",
    "    # Return with or without history\n",
    "    if return_history:\n",
    "        return P, Q, { 'train_rmse': train_rmse_hist,\n",
    "                         'val_rmse':   val_rmse_hist }\n",
    "    return P, Q"
   ],
   "outputs": [],
   "execution_count": 31
  },
  {
   "cell_type": "markdown",
   "metadata": {
    "id": "maxwDmd_Tj_2"
   },
   "source": "Here we run a grid search to find the best settings (hyperparameters) for the model to get the lowest possible prediction error (RMSE)."
  },
  {
   "cell_type": "code",
   "metadata": {
    "colab": {
     "base_uri": "https://localhost:8080/",
     "height": 170,
     "referenced_widgets": [
      "17fbeed2f2ce48bc9e5e46abe2375c01",
      "5d15a95034ec46d7b4e1a8a1eb026dda",
      "b13dcae515be484f8c32e7e15f08185c",
      "0275bae9cc8948ce91a4c0ece18fe121",
      "c875779be63e4f4895120c09dd8e3f77",
      "7576fe3b2de04b8db6dcd82093c87030",
      "cd2a9081881e4533baf5cde3496b4dd4",
      "68b8874012ac4a6589f2e8843a871195",
      "609989c909124ea9b32eaa3acdc48848",
      "bafded76f57947cebdbbe68264e03639",
      "43c779d41b514b94a9a3675d31f8ec03"
     ]
    },
    "id": "9rPUlzTDS6kK",
    "outputId": "5768f3bd-bdbc-4b1a-ce54-c8996b6a643e",
    "ExecuteTime": {
     "end_time": "2025-07-12T03:05:57.283915Z",
     "start_time": "2025-07-12T03:01:54.949653Z"
    }
   },
   "source": [
    "import itertools\n",
    "import numpy as np\n",
    "from sklearn.metrics import mean_squared_error\n",
    "\n",
    "# ─── Helper: RMSE ─────────────────────────────────────────────────────────────\n",
    "def root_mean_squared_error(y_true, y_pred):\n",
    "    return np.sqrt(mean_squared_error(y_true, y_pred))\n",
    "\n",
    "# ─── Evaluate a single hyperparameter setting ────────────────────────────────\n",
    "def evaluate_model(params, train_coords, test_coords, n_users, n_items):\n",
    "    k, lr, reg_param, epochs = params\n",
    "    # Train with early stopping (using test_coords as the validation set)\n",
    "    P, Q = train_funk_svd_with_early_stopping(\n",
    "        train_coords=train_coords,\n",
    "        val_coords=test_coords,\n",
    "        n_users=n_users,\n",
    "        n_items=n_items,\n",
    "        n_factors=k,\n",
    "        n_epochs=epochs,\n",
    "        learning_rate=lr,\n",
    "        reg=reg_param,\n",
    "        patience=5\n",
    "    )\n",
    "    # Evaluate on the same test set\n",
    "    R_hat = P @ Q.T\n",
    "    rows  = [u for u, i, _ in test_coords]\n",
    "    cols  = [i for u, i, _ in test_coords]\n",
    "    truth = [r for u, i, r in test_coords]\n",
    "    preds = R_hat[rows, cols]\n",
    "    rmse  = root_mean_squared_error(truth, preds)\n",
    "    return {'k': k, 'lr': lr, 'reg': reg_param, 'epochs': epochs, 'rmse': rmse}\n",
    "\n",
    "# ─── Your hyperparameter grid ────────────────────────────────────────────────\n",
    "param_grid = {\n",
    "    'n_factors':    [20, 30, 40, 50, 70, 90],\n",
    "    'learning_rate':[0.005, 0.01],\n",
    "    'reg':          [0.02, 0.1],\n",
    "    'n_epochs':     [20, 40, 50, 60]\n",
    "}\n",
    "param_combinations = list(itertools.product(\n",
    "    param_grid['n_factors'],\n",
    "    param_grid['learning_rate'],\n",
    "    param_grid['reg'],\n",
    "    param_grid['n_epochs']\n",
    "))\n",
    "\n",
    "# ─── Run the grid search ─────────────────────────────────────────────────────\n",
    "total = len(param_combinations)\n",
    "print(f\"Running FunkSVD Grid Search: {total} combinations\")\n",
    "\n",
    "results = []\n",
    "for idx, params in enumerate(param_combinations, start=1):\n",
    "    res = evaluate_model(params,\n",
    "                         train_coords,\n",
    "                         test_coords,\n",
    "                         n_users,\n",
    "                         n_items)\n",
    "    results.append(res)\n",
    "    if idx % 10 == 0 or idx == total:\n",
    "        print(f\"  → {idx}/{total} done (rmse={res['rmse']:.4f})\")\n",
    "\n",
    "# ─── Report the best setting ─────────────────────────────────────────────────\n",
    "best = min(results, key=lambda x: x['rmse'])\n",
    "print(\"\\n--- Best FunkSVD Model ---\")\n",
    "print(f\"Test RMSE:       {best['rmse']:.4f}\")\n",
    "print(f\"n_factors (k):   {best['k']}\")\n",
    "print(f\"learning_rate:   {best['lr']}\")\n",
    "print(f\"reg_param:       {best['reg']}\")\n",
    "print(f\"n_epochs:        {best['epochs']}\")\n"
   ],
   "outputs": [
    {
     "name": "stdout",
     "output_type": "stream",
     "text": [
      "Running FunkSVD Grid Search: 96 combinations\n",
      "  → 10/96 done (rmse=3.0193)\n",
      "  → 20/96 done (rmse=2.9956)\n",
      "  → 30/96 done (rmse=2.8861)\n",
      "  → 40/96 done (rmse=2.8823)\n",
      "  → 50/96 done (rmse=3.0158)\n",
      "  → 60/96 done (rmse=2.8810)\n",
      "  → 70/96 done (rmse=2.9590)\n",
      "  → 80/96 done (rmse=2.8299)\n",
      "  → 90/96 done (rmse=2.8531)\n",
      "  → 96/96 done (rmse=2.8239)\n",
      "\n",
      "--- Best FunkSVD Model ---\n",
      "Test RMSE:       2.8229\n",
      "n_factors (k):   90\n",
      "learning_rate:   0.01\n",
      "reg_param:       0.1\n",
      "n_epochs:        50\n"
     ]
    }
   ],
   "execution_count": 32
  },
  {
   "cell_type": "code",
   "metadata": {
    "colab": {
     "base_uri": "https://localhost:8080/",
     "height": 487,
     "referenced_widgets": [
      "2b233c5b84c247169dc75a79d4904cae",
      "033ff6e89f0b4f6c874e93563bb7cc0f",
      "b925c90da7b7499a8773076aff95b357",
      "90768baace454af3a6598004b1282043",
      "0ab42f5501e14cd78341504368b80fba",
      "0886609f0ddf4e21b597d83eb19b9929",
      "30cf8992d89e43329e43a309ff6be1e8",
      "d4c0dbb55dcf43948beec747d7ae521e",
      "1045b02be7c148dd93fd164abd00b9cc",
      "700612f3d83642bfbf5e8925ff430fc1",
      "ec80a55176884954ab129022237661e6"
     ]
    },
    "id": "RSX8dtNVWcFV",
    "outputId": "caed837c-0867-424c-aaa8-74d8ab4a9e8a",
    "ExecuteTime": {
     "end_time": "2025-07-12T03:06:03.534127Z",
     "start_time": "2025-07-12T03:06:00.274132Z"
    }
   },
   "source": [
    "best_k      = best['k']\n",
    "best_lr     = best['lr']\n",
    "best_reg    = best['reg']\n",
    "best_epochs = best['epochs']\n",
    "\n",
    "# Re-train with history\n",
    "P_funk, Q_funk, history = train_funk_svd_with_early_stopping(\n",
    "    train_coords=train_coords,\n",
    "    val_coords=test_coords,\n",
    "    n_users=n_users,\n",
    "    n_items=n_items,\n",
    "    n_factors=best_k,\n",
    "    n_epochs=best_epochs,\n",
    "    learning_rate=best_lr,\n",
    "    reg=best_reg,\n",
    "    patience=5,\n",
    "    return_history=True\n",
    "    )\n",
    "\n",
    "# Plot learning curves\n",
    "epochs = np.arange(1, len(history['train_rmse'])+1)\n",
    "plt.figure(figsize=(8,5))\n",
    "plt.plot(epochs, history['train_rmse'], label='Train RMSE')\n",
    "plt.plot(epochs, history['val_rmse'],   label='Validation RMSE')\n",
    "plt.axvline(len(history['val_rmse']), linestyle='--', label=f\"Stopped @ epoch {len(history['val_rmse'])}\")\n",
    "plt.xlabel('Epoch')\n",
    "plt.ylabel('RMSE')\n",
    "plt.title(f'FunkSVD Learning Curves (k={best_k}, lr={best_lr}, reg={best_reg})')\n",
    "plt.legend()\n",
    "plt.show()"
   ],
   "outputs": [
    {
     "data": {
      "text/plain": [
       "<Figure size 800x500 with 1 Axes>"
      ],
      "image/png": "[encoded data removed]"
     },
     "metadata": {},
     "output_type": "display_data"
    }
   ],
   "execution_count": 33
  },
  {
   "cell_type": "markdown",
   "metadata": {
    "id": "tt64ZwYtUmri"
   },
   "source": [
    "### Metrics Calculation"
   ]
  },
  {
   "cell_type": "markdown",
   "metadata": {
    "id": "vpNo-rnU7xp3"
   },
   "source": [
    "We know that from a business perspective, it is not enough to look at the accuracy of a model when choosing the best recommender. To create useful recommendations that will increase customer satisfaction, we must include additional performance metrics. Now we will calculate Diversity, Novelty, and Serendipity for the BERT and FunkSVD models."
   ]
  },
  {
   "cell_type": "code",
   "metadata": {
    "id": "3q_aBeQ88jQe",
    "ExecuteTime": {
     "end_time": "2025-07-12T03:06:03.703081Z",
     "start_time": "2025-07-12T03:06:03.695971Z"
    }
   },
   "source": [
    "def build_recs_by_user(final_slice, recommend_fn, top_n=10, seed_fn=None):\n",
    "    \"\"\"\n",
    "    Build a dict of user_id → list of recommended ISBNs for any model.\n",
    "    \"\"\"\n",
    "    if seed_fn is None:\n",
    "        def seed_fn(u):\n",
    "            sub = final_slice[final_slice['user_id'] == u]\n",
    "            if sub.empty: return None\n",
    "            return sub.sort_values('rating', ascending=False)['isbn'].iat[0]\n",
    "\n",
    "    recs_by_user = {}\n",
    "    for u in final_slice['user_id'].unique():\n",
    "        seed = seed_fn(u)\n",
    "        if not seed or seed not in isbn_to_idx_bert:\n",
    "            continue\n",
    "        recs = recommend_fn(seed, top_n)\n",
    "        recs_by_user[u] = [isbn for isbn, _ in recs]\n",
    "    return recs_by_user\n"
   ],
   "outputs": [],
   "execution_count": 34
  },
  {
   "cell_type": "code",
   "metadata": {
    "id": "P6B5xYg68lPy",
    "ExecuteTime": {
     "end_time": "2025-07-12T03:06:04.083241Z",
     "start_time": "2025-07-12T03:06:04.075596Z"
    }
   },
   "source": [
    "def compute_diversity(recs_by_user, item_embeddings, isbn_to_idx):\n",
    "    \"\"\"\n",
    "    Computes the average intra-list diversity of recommendations.\n",
    "    \"\"\"\n",
    "    user_diversities = []\n",
    "    for user_id, rec_isbns in recs_by_user.items():\n",
    "        rec_indices = [isbn_to_idx[isbn] for isbn in rec_isbns if isbn in isbn_to_idx]\n",
    "        if len(rec_indices) < 2: continue\n",
    "\n",
    "        rec_vectors = item_embeddings[rec_indices]\n",
    "        similarity_matrix = cosine_similarity(rec_vectors)\n",
    "\n",
    "        upper_triangle_indices = np.triu_indices_from(similarity_matrix, k=1)\n",
    "        if upper_triangle_indices[0].size > 0:\n",
    "            avg_similarity = np.mean(similarity_matrix[upper_triangle_indices])\n",
    "            user_diversities.append(1 - avg_similarity)\n",
    "\n",
    "    return np.mean(user_diversities) if user_diversities else 0"
   ],
   "outputs": [],
   "execution_count": 35
  },
  {
   "cell_type": "code",
   "metadata": {
    "id": "BgIMm4He71pe",
    "ExecuteTime": {
     "end_time": "2025-07-12T03:06:04.348001Z",
     "start_time": "2025-07-12T03:06:04.342168Z"
    }
   },
   "source": [
    "def compute_novelty(recs_by_user, popularity_ranks):\n",
    "    \"\"\"\n",
    "    Computes the average novelty of recommendations.\n",
    "    \"\"\"\n",
    "    user_novelties = []\n",
    "    for user_id, rec_isbns in recs_by_user.items():\n",
    "        novelties = [\n",
    "            -np.log2(popularity_ranks.get(isbn, len(popularity_ranks)) / len(popularity_ranks))\n",
    "            for isbn in rec_isbns\n",
    "        ]\n",
    "        if novelties: user_novelties.append(np.mean(novelties))\n",
    "    return np.mean(user_novelties) if user_novelties else 0\n",
    "\n"
   ],
   "outputs": [],
   "execution_count": 36
  },
  {
   "cell_type": "code",
   "metadata": {
    "id": "t2RP565m2x-C",
    "ExecuteTime": {
     "end_time": "2025-07-12T03:06:04.649503Z",
     "start_time": "2025-07-12T03:06:04.642519Z"
    }
   },
   "source": [
    "def compute_novelty(recs_by_user, popularity_ranks):\n",
    "    \"\"\"\n",
    "    Computes the average novelty of recommendations.\n",
    "    \"\"\"\n",
    "    user_novelties = []\n",
    "    for user_id, rec_isbns in recs_by_user.items():\n",
    "        novelties = [\n",
    "            -np.log2(popularity_ranks.get(isbn, len(popularity_ranks)) / len(popularity_ranks))\n",
    "            for isbn in rec_isbns\n",
    "        ]\n",
    "        if novelties: user_novelties.append(np.mean(novelties))\n",
    "    return np.mean(user_novelties) if user_novelties else 0"
   ],
   "outputs": [],
   "execution_count": 37
  },
  {
   "cell_type": "code",
   "metadata": {
    "id": "KLyI63cD6_p_",
    "ExecuteTime": {
     "end_time": "2025-07-12T03:06:04.913136Z",
     "start_time": "2025-07-12T03:06:04.906589Z"
    }
   },
   "source": [
    "def compute_serendipity(recs_by_user, user_history, item_embeddings, isbn_to_idx):\n",
    "    \"\"\"\n",
    "    Computes serendipity of recommendations.\n",
    "    \"\"\"\n",
    "    user_serendipities = []\n",
    "    for user_id, rec_isbns in recs_by_user.items():\n",
    "        history_isbns = user_history.get(user_id, [])\n",
    "        history_indices = [isbn_to_idx[isbn] for isbn in history_isbns if isbn in isbn_to_idx]\n",
    "\n",
    "        if not history_indices: continue\n",
    "\n",
    "        history_vectors = item_embeddings[history_indices]\n",
    "        serendipities = []\n",
    "        for rec_isbn in rec_isbns:\n",
    "            if rec_isbn in history_isbns or rec_isbn not in isbn_to_idx: continue\n",
    "\n",
    "            rec_idx = isbn_to_idx[rec_isbn]\n",
    "            rec_vector = item_embeddings[rec_idx].reshape(1, -1)\n",
    "\n",
    "            max_sim_to_history = cosine_similarity(rec_vector, history_vectors).max()\n",
    "            unexpectedness = 1 - max_sim_to_history\n",
    "            relevance = 1.0\n",
    "\n",
    "            serendipities.append(unexpectedness * relevance)\n",
    "\n",
    "        if serendipities: user_serendipities.append(np.mean(serendipities))\n",
    "\n",
    "    return np.mean(user_serendipities) if user_serendipities else 0"
   ],
   "outputs": [],
   "execution_count": 38
  },
  {
   "cell_type": "code",
   "metadata": {
    "id": "wYPw4GqL8zU5",
    "ExecuteTime": {
     "end_time": "2025-07-12T03:06:04.993601Z",
     "start_time": "2025-07-12T03:06:04.961284Z"
    }
   },
   "source": [
    "popularity = final_slice['isbn'].value_counts()\n",
    "popularity_ranks = popularity.rank(method='first', ascending=False)\n",
    "user_history = final_slice.groupby('user_id')['isbn'].apply(list).to_dict()"
   ],
   "outputs": [],
   "execution_count": 39
  },
  {
   "cell_type": "code",
   "metadata": {
    "colab": {
     "base_uri": "https://localhost:8080/",
     "height": 136,
     "referenced_widgets": [
      "eb60b183875048adb2e6934a563aa118",
      "21b6db3815cb4d2284868ab45b0c4adf",
      "a726e6dc5a8f40d3a99923b7b75c633d",
      "4d63a4e5a3344ddda9753beafbda2ae9",
      "9d3f062c120e4a309cee5043b7564788",
      "b76642d67a404c2c9b9aea75a2bd7951",
      "27cf2c1fea2b4252bd4807c668a9aa55",
      "5215c182538845fca7450594a0386e3e",
      "38a8b46ca3fb4dbe904b83d00c52912f",
      "a5386d14e89e4271ba6fc4b5e9d92ef5",
      "b3b0de8a45594dff8774f26179504da9"
     ]
    },
    "id": "EMJNIM2H869U",
    "outputId": "b7e117f5-f3a1-450c-e8bb-bacbb1a776c1",
    "ExecuteTime": {
     "end_time": "2025-07-12T03:06:09.708328Z",
     "start_time": "2025-07-12T03:06:05.184198Z"
    }
   },
   "source": [
    "print(\"\\nCalculating metrics for BERT model...\")\n",
    "recs_bert = build_recs_by_user(final_slice, bert_recommend, top_n=10)\n",
    "\n",
    "diversity_bert = compute_diversity(recs_bert, embeddings, isbn_to_idx_bert)\n",
    "novelty_bert = compute_novelty(recs_bert, popularity_ranks)\n",
    "serendipity_bert = compute_serendipity(recs_bert, user_history, embeddings, isbn_to_idx_bert)\n",
    "\n",
    "print(f\"BERT Diversity: {diversity_bert:.4f}\")\n",
    "print(f\"BERT Novelty: {novelty_bert:.4f}\")\n",
    "print(f\"BERT Serendipity: {serendipity_bert:.4f}\")"
   ],
   "outputs": [
    {
     "name": "stdout",
     "output_type": "stream",
     "text": [
      "\n",
      "Calculating metrics for BERT model...\n",
      "BERT Diversity: 0.3744\n",
      "BERT Novelty: 2.0300\n",
      "BERT Serendipity: 0.3159\n"
     ]
    }
   ],
   "execution_count": 40
  },
  {
   "cell_type": "code",
   "metadata": {
    "id": "-68oOFGHt90j",
    "ExecuteTime": {
     "end_time": "2025-07-12T03:06:10.087849Z",
     "start_time": "2025-07-12T03:06:10.075604Z"
    }
   },
   "source": [
    "svd_user_map = {u: i for i, u in enumerate(ratings_matrix.index)}\n",
    "svd_item_map_to_idx = {title: i for i, title in enumerate(ratings_matrix.columns)}\n",
    "svd_idx_to_title = {i: title for title, i in svd_item_map_to_idx.items()}\n",
    "title_to_isbn = sel_books_df.set_index('title')['isbn'].to_dict()\n",
    "R_hat_funk = P_funk @ Q_funk.T"
   ],
   "outputs": [],
   "execution_count": 41
  },
  {
   "cell_type": "code",
   "metadata": {
    "id": "CucEYe77t90k",
    "ExecuteTime": {
     "end_time": "2025-07-12T03:06:10.225227Z",
     "start_time": "2025-07-12T03:06:10.217097Z"
    }
   },
   "source": [
    "def funksvd_recommend(user_id, top_n=10):\n",
    "    user_idx = svd_user_map.get(user_id)\n",
    "    if user_idx is None: return []\n",
    "\n",
    "    scores = R_hat_funk[user_idx, :]\n",
    "    seen_titles = [sel_books_df[sel_books_df['isbn'] == isbn]['title'].values[0] for isbn in user_history.get(user_id, []) if sel_books_df[sel_books_df['isbn'] == isbn]['title'].values.size > 0]\n",
    "    seen_indices = [svd_item_map_to_idx[title] for title in seen_titles if title in svd_item_map_to_idx]\n",
    "    scores[seen_indices] = -np.inf # Mask seen items\n",
    "\n",
    "    top_indices = np.argsort(scores)[::-1][:top_n]\n",
    "    recs = []\n",
    "    for item_idx in top_indices:\n",
    "        title = svd_idx_to_title.get(item_idx)\n",
    "        if title:\n",
    "            isbn = title_to_isbn.get(title)\n",
    "            if isbn: recs.append((isbn, scores[item_idx]))\n",
    "    return recs"
   ],
   "outputs": [],
   "execution_count": 42
  },
  {
   "cell_type": "code",
   "metadata": {
    "colab": {
     "base_uri": "https://localhost:8080/",
     "height": 101,
     "referenced_widgets": [
      "cd36d06d35d94f81b65d60a5b009c14e",
      "dbb4aa86828e41abbda23605c5844c73",
      "cb0b4cc16a08424e80264767161457c7",
      "77c6ff4caf6d4914a7ea6239f3982312",
      "2dd75b0ae2bf4f97bfb53d74ea9f7cf8",
      "fadaac7d75204d62869bab22da727ec6",
      "153e051facf147549fb476f6a85c678e",
      "7a0c3ec5a4bb4b118c7d0242c4833660",
      "6131e49a18944b3ca41e17b02767e714",
      "7b0639c510bd4bc38e3e46185d7c163c",
      "03b9f6e676ac47a289de78876351a462"
     ]
    },
    "id": "N4cxblHFt90k",
    "outputId": "ad4a9497-9a28-49a3-b636-88556c8a6a6a",
    "ExecuteTime": {
     "end_time": "2025-07-12T03:06:30.714951Z",
     "start_time": "2025-07-12T03:06:10.418072Z"
    }
   },
   "source": [
    "\n",
    "recs_funksvd = {}\n",
    "for user in final_slice['user_id'].unique():\n",
    "    recs = funksvd_recommend(user, top_n=10)\n",
    "    recs_funksvd[user] = [isbn for isbn, _ in recs]\n",
    "\n",
    "isbn_to_svd_idx = {\n",
    "    isbn: svd_item_map_to_idx[title]\n",
    "    for isbn, title in sel_books_df[['isbn', 'title']].values\n",
    "    if title in svd_item_map_to_idx\n",
    "}\n",
    "\n",
    "recs_funksvd_filtered = {\n",
    "    u: [i for i in isbns if i in isbn_to_svd_idx]\n",
    "    for u, isbns in recs_funksvd.items()\n",
    "}\n",
    "\n",
    "diversity_funksvd   = compute_diversity(recs_funksvd_filtered, Q_funk, isbn_to_svd_idx)\n",
    "novelty_funksvd     = compute_novelty(recs_funksvd_filtered, popularity_ranks)\n",
    "serendipity_funksvd = compute_serendipity(recs_funksvd_filtered, user_history, Q_funk, isbn_to_svd_idx)\n",
    "\n",
    "print(f\"FunkSVD Diversity:   {diversity_funksvd:.4f}\")\n",
    "print(f\"FunkSVD Novelty:     {novelty_funksvd:.4f}\")\n",
    "print(f\"FunkSVD Serendipity: {serendipity_funksvd:.4f}\")\n"
   ],
   "outputs": [
    {
     "name": "stdout",
     "output_type": "stream",
     "text": [
      "FunkSVD Diversity:   0.1614\n",
      "FunkSVD Novelty:     1.6784\n",
      "FunkSVD Serendipity: 0.1311\n"
     ]
    }
   ],
   "execution_count": 43
  },
  {
   "cell_type": "code",
   "metadata": {
    "colab": {
     "base_uri": "https://localhost:8080/",
     "height": 178
    },
    "id": "8eacGSlOt90k",
    "outputId": "2f16b81f-892b-40e8-9ae7-90240afd121d",
    "ExecuteTime": {
     "end_time": "2025-07-12T03:06:31.131456Z",
     "start_time": "2025-07-12T03:06:31.117776Z"
    }
   },
   "source": [
    "metrics_summary = pd.DataFrame({\n",
    "    'BERT': [diversity_bert, novelty_bert, serendipity_bert],\n",
    "    'FunkSVD': [diversity_funksvd, novelty_funksvd, serendipity_funksvd]\n",
    "}, index=['Diversity', 'Novelty', 'Serendipity'])\n",
    "\n",
    "print(\"\\n--- Original Metrics Summary ---\")\n",
    "display(metrics_summary)\n"
   ],
   "outputs": [
    {
     "name": "stdout",
     "output_type": "stream",
     "text": [
      "\n",
      "--- Original Metrics Summary ---\n"
     ]
    },
    {
     "data": {
      "text/plain": [
       "                 BERT   FunkSVD\n",
       "Diversity    0.374383  0.161430\n",
       "Novelty      2.030044  1.678405\n",
       "Serendipity  0.315922  0.131144"
      ],
      "text/html": [
       "<div>\n",
       "<style scoped>\n",
       "    .dataframe tbody tr th:only-of-type {\n",
       "        vertical-align: middle;\n",
       "    }\n",
       "\n",
       "    .dataframe tbody tr th {\n",
       "        vertical-align: top;\n",
       "    }\n",
       "\n",
       "    .dataframe thead th {\n",
       "        text-align: right;\n",
       "    }\n",
       "</style>\n",
       "<table border=\"1\" class=\"dataframe\">\n",
       "  <thead>\n",
       "    <tr style=\"text-align: right;\">\n",
       "      <th></th>\n",
       "      <th>BERT</th>\n",
       "      <th>FunkSVD</th>\n",
       "    </tr>\n",
       "  </thead>\n",
       "  <tbody>\n",
       "    <tr>\n",
       "      <th>Diversity</th>\n",
       "      <td>0.374383</td>\n",
       "      <td>0.161430</td>\n",
       "    </tr>\n",
       "    <tr>\n",
       "      <th>Novelty</th>\n",
       "      <td>2.030044</td>\n",
       "      <td>1.678405</td>\n",
       "    </tr>\n",
       "    <tr>\n",
       "      <th>Serendipity</th>\n",
       "      <td>0.315922</td>\n",
       "      <td>0.131144</td>\n",
       "    </tr>\n",
       "  </tbody>\n",
       "</table>\n",
       "</div>"
      ]
     },
     "metadata": {},
     "output_type": "display_data"
    }
   ],
   "execution_count": 44
  },
  {
   "cell_type": "markdown",
   "metadata": {
    "id": "OSSDievtyVTl"
   },
   "source": [
    "We can see here that BERT has higher scores for each metric compared to FunkSVD. For diversity and serendipity, the score doubles. BERT has more diverse, new, and suprising recommended items. Even though FunkSVD can minimize the input data by focusing on the most important general features, using contextual embeddings seem to improve input features, and make the results more useful and better in quality.\n",
    "\n",
    "\n",
    "Now that we have the metric results, let's try to improve these metrics by re-ranking the recommendations."
   ]
  },
  {
   "cell_type": "markdown",
   "metadata": {
    "id": "ADo6eRyl2NWw"
   },
   "source": [
    "### Maximal Marginal Relevance (MMR)\n",
    "MMR is a re-ranking algorithm used to make recommendation lists both relevant and diverse.\n",
    "\n",
    "It fixes the problem of getting a list of recommendations that are all too similar to each other (like 10 books by the same author).\n",
    "\n",
    "**What it does:**\n",
    "\n",
    "1. Starts with the Best: It takes an initial list of recommendations and selects the top-ranked item.\n",
    "\n",
    "2. Balances Relevance & Diversity: For every other item, it calculates a new score that is a mix of:\n",
    "\n",
    "  * Relevance: How good is this item for the user? (Its original score).\n",
    "\n",
    "  * Diversity: How different is this item from the ones already chosen?\n",
    "\n",
    "3. Builds a Better List: It repeatedly picks the item with the best combined score, creating a final list that is much more interesting and varied.\n",
    "\n",
    "MMR ensures we get good recommendations without them all being clones of each other. It's like building a nice music playlist: we want good songs, but from a mix of different artists.\n",
    "\n"
   ]
  },
  {
   "cell_type": "code",
   "metadata": {
    "id": "t_8IjUbPt90k",
    "ExecuteTime": {
     "end_time": "2025-07-12T03:06:31.343161Z",
     "start_time": "2025-07-12T03:06:31.335200Z"
    }
   },
   "source": [
    "def mmr_rerank(recs_with_scores, sim_matrix, isbn_to_idx, lambda_val=0.7, top_n=10):\n",
    "    \"\"\"\n",
    "    Re-ranks a list of recommendations using Maximal Marginal Relevance (MMR).\n",
    "    \"\"\"\n",
    "    if not recs_with_scores:\n",
    "        return []\n",
    "\n",
    "    ranked_isbns = [rec[0] for rec in recs_with_scores]\n",
    "    ranked_scores = {rec[0]: rec[1] for rec in recs_with_scores}\n",
    "\n",
    "    # Start with the most relevant item\n",
    "    selected = [ranked_isbns[0]]\n",
    "    candidates = ranked_isbns[1:]\n",
    "\n",
    "    while len(selected) < min(top_n, len(ranked_isbns)):\n",
    "        best_score = -np.inf\n",
    "        best_candidate = None\n",
    "\n",
    "        for cand_isbn in candidates:\n",
    "            relevance = ranked_scores[cand_isbn]\n",
    "\n",
    "            # Calculate similarity to already selected items\n",
    "            cand_idx = isbn_to_idx[cand_isbn]\n",
    "            selected_indices = [isbn_to_idx[s_isbn] for s_isbn in selected]\n",
    "\n",
    "            similarity = sim_matrix[cand_idx, selected_indices].max()\n",
    "\n",
    "            # MMR score\n",
    "            mmr_score = lambda_val * relevance - (1 - lambda_val) * similarity\n",
    "\n",
    "            if mmr_score > best_score:\n",
    "                best_score = mmr_score\n",
    "                best_candidate = cand_isbn\n",
    "\n",
    "        if best_candidate:\n",
    "            selected.append(best_candidate)\n",
    "            candidates.remove(best_candidate)\n",
    "        else:\n",
    "            break # No more candidates\n",
    "\n",
    "    return selected\n"
   ],
   "outputs": [],
   "execution_count": 45
  },
  {
   "cell_type": "markdown",
   "metadata": {
    "id": "bcr5SGbR2hd-"
   },
   "source": [
    "### Popularity penalization function\n",
    " The larger alpha decreases popularity of the book, alpha is 0.5 by default. By tuning alpha, we are directly controlling the trade-off between the model's original \"relevance\" prediction and our goal of increasing recommendation \"novelty.\" Finding the right alpha is a key part of building a recommender that feels fresh and interesting to the user, not just one that repeats the same popular items."
   ]
  },
  {
   "cell_type": "code",
   "metadata": {
    "id": "2-WgpbZZt90l",
    "ExecuteTime": {
     "end_time": "2025-07-12T03:06:32.212203Z",
     "start_time": "2025-07-12T03:06:32.204651Z"
    }
   },
   "source": [
    "def popularity_penalized_rerank(recs_with_scores, popularity, alpha=0.5, top_n=10):\n",
    "    \"\"\"\n",
    "    Re-ranks a list of recommendations by penalizing popular items.\n",
    "    \"\"\"\n",
    "    penalized_recs = []\n",
    "    for isbn, score in recs_with_scores:\n",
    "        pop_count = popularity.get(isbn, 0)\n",
    "        # penalization formula. the larger alpha decreases popularity of the book, alpha is 0.5 by default\n",
    "        penalized_score = score - (alpha * np.log1p(pop_count))\n",
    "        penalized_recs.append((isbn, penalized_score))\n",
    "\n",
    "    penalized_recs.sort(key=lambda x: x[1], reverse=True)\n",
    "    return [isbn for isbn, _ in penalized_recs[:top_n]]"
   ],
   "outputs": [],
   "execution_count": 46
  },
  {
   "cell_type": "markdown",
   "metadata": {
    "id": "wSRsQCp_27Bu"
   },
   "source": [
    "Re-rank the recommendations:"
   ]
  },
  {
   "cell_type": "code",
   "metadata": {
    "colab": {
     "base_uri": "https://localhost:8080/",
     "height": 136,
     "referenced_widgets": [
      "e9304675ba4a46cfa038124f43f58e77",
      "037f69cef4d24741aa8e417bd3935d28",
      "c648ccc9a65c40f6be40cc351aef01cf",
      "4d35003cfefd4d878c18b531d83e0719",
      "45c31a968eb44ab6b9f21ed0b737c4be",
      "83fab6e839fb44ff935ed05f281fdec3",
      "24a3a431bbd343349000f981701f37e7",
      "612320607c6c4b088ae67b67adb2ebad",
      "438dff409275412db4733518cf1ef454",
      "3b76e235e9cf4c0f9dc40c2e1069f96c",
      "8d4279c2ad634c55b37a56b394e7e34b"
     ]
    },
    "id": "6PSG1_30t90l",
    "outputId": "8c002533-105f-4508-f496-be429f353e04",
    "ExecuteTime": {
     "end_time": "2025-07-12T03:06:39.716196Z",
     "start_time": "2025-07-12T03:06:33.146669Z"
    }
   },
   "source": [
    "print(\"\\nApplying MMR to BERT recommendations...\")\n",
    "recs_bert_mmr = {}\n",
    "user_ids = final_slice['user_id'].unique()\n",
    "total_users = len(user_ids)\n",
    "\n",
    "for idx, user_id in enumerate(user_ids, start=1):\n",
    "    # progress update every 10 users\n",
    "    if idx % 10 == 0 or idx == total_users:\n",
    "        print(f\"  → Processing user {idx}/{total_users} for MMR\")\n",
    "\n",
    "    # pick the highest-rated ISBN as the seed\n",
    "    user_hist = final_slice[final_slice['user_id'] == user_id]\n",
    "    if user_hist.empty:\n",
    "        continue\n",
    "    seed_isbn = user_hist.sort_values('rating', ascending=False)['isbn'].iloc[0]\n",
    "\n",
    "    # get initial pool of 50 recommendations\n",
    "    initial_recs = bert_recommend(seed_isbn, top_n=50)\n",
    "    if seed_isbn in isbn_to_idx_bert:\n",
    "        # re-rank with MMR (lambda_val=0.5)\n",
    "        recs_bert_mmr[user_id] = mmr_rerank(\n",
    "            initial_recs,\n",
    "            cos_sim_bert,\n",
    "            isbn_to_idx_bert,\n",
    "            lambda_val=0.5\n",
    "        )\n",
    "\n",
    "# compute metrics\n",
    "diversity_bert_mmr   = compute_diversity(recs_bert_mmr, embeddings, isbn_to_idx_bert)\n",
    "novelty_bert_mmr     = compute_novelty(recs_bert_mmr, popularity_ranks)\n",
    "serendipity_bert_mmr = compute_serendipity(recs_bert_mmr, user_history, embeddings, isbn_to_idx_bert)\n",
    "\n",
    "print(f\"\\nBERT+MMR Diversity:   {diversity_bert_mmr:.4f}\")\n",
    "print(f\"BERT+MMR Novelty:     {novelty_bert_mmr:.4f}\")\n",
    "print(f\"BERT+MMR Serendipity: {serendipity_bert_mmr:.4f}\")\n"
   ],
   "outputs": [
    {
     "name": "stdout",
     "output_type": "stream",
     "text": [
      "\n",
      "Applying MMR to BERT recommendations...\n",
      "  → Processing user 10/707 for MMR\n",
      "  → Processing user 20/707 for MMR\n",
      "  → Processing user 30/707 for MMR\n",
      "  → Processing user 40/707 for MMR\n",
      "  → Processing user 50/707 for MMR\n",
      "  → Processing user 60/707 for MMR\n",
      "  → Processing user 70/707 for MMR\n",
      "  → Processing user 80/707 for MMR\n",
      "  → Processing user 90/707 for MMR\n",
      "  → Processing user 100/707 for MMR\n",
      "  → Processing user 110/707 for MMR\n",
      "  → Processing user 120/707 for MMR\n",
      "  → Processing user 130/707 for MMR\n",
      "  → Processing user 140/707 for MMR\n",
      "  → Processing user 150/707 for MMR\n",
      "  → Processing user 160/707 for MMR\n",
      "  → Processing user 170/707 for MMR\n",
      "  → Processing user 180/707 for MMR\n",
      "  → Processing user 190/707 for MMR\n",
      "  → Processing user 200/707 for MMR\n",
      "  → Processing user 210/707 for MMR\n",
      "  → Processing user 220/707 for MMR\n",
      "  → Processing user 230/707 for MMR\n",
      "  → Processing user 240/707 for MMR\n",
      "  → Processing user 250/707 for MMR\n",
      "  → Processing user 260/707 for MMR\n",
      "  → Processing user 270/707 for MMR\n",
      "  → Processing user 280/707 for MMR\n",
      "  → Processing user 290/707 for MMR\n",
      "  → Processing user 300/707 for MMR\n",
      "  → Processing user 310/707 for MMR\n",
      "  → Processing user 320/707 for MMR\n",
      "  → Processing user 330/707 for MMR\n",
      "  → Processing user 340/707 for MMR\n",
      "  → Processing user 350/707 for MMR\n",
      "  → Processing user 360/707 for MMR\n",
      "  → Processing user 370/707 for MMR\n",
      "  → Processing user 380/707 for MMR\n",
      "  → Processing user 390/707 for MMR\n",
      "  → Processing user 400/707 for MMR\n",
      "  → Processing user 410/707 for MMR\n",
      "  → Processing user 420/707 for MMR\n",
      "  → Processing user 430/707 for MMR\n",
      "  → Processing user 440/707 for MMR\n",
      "  → Processing user 450/707 for MMR\n",
      "  → Processing user 460/707 for MMR\n",
      "  → Processing user 470/707 for MMR\n",
      "  → Processing user 480/707 for MMR\n",
      "  → Processing user 490/707 for MMR\n",
      "  → Processing user 500/707 for MMR\n",
      "  → Processing user 510/707 for MMR\n",
      "  → Processing user 520/707 for MMR\n",
      "  → Processing user 530/707 for MMR\n",
      "  → Processing user 540/707 for MMR\n",
      "  → Processing user 550/707 for MMR\n",
      "  → Processing user 560/707 for MMR\n",
      "  → Processing user 570/707 for MMR\n",
      "  → Processing user 580/707 for MMR\n",
      "  → Processing user 590/707 for MMR\n",
      "  → Processing user 600/707 for MMR\n",
      "  → Processing user 610/707 for MMR\n",
      "  → Processing user 620/707 for MMR\n",
      "  → Processing user 630/707 for MMR\n",
      "  → Processing user 640/707 for MMR\n",
      "  → Processing user 650/707 for MMR\n",
      "  → Processing user 660/707 for MMR\n",
      "  → Processing user 670/707 for MMR\n",
      "  → Processing user 680/707 for MMR\n",
      "  → Processing user 690/707 for MMR\n",
      "  → Processing user 700/707 for MMR\n",
      "  → Processing user 707/707 for MMR\n",
      "\n",
      "BERT+MMR Diversity:   0.4643\n",
      "BERT+MMR Novelty:     1.7034\n",
      "BERT+MMR Serendipity: 0.3573\n"
     ]
    }
   ],
   "execution_count": 47
  },
  {
   "cell_type": "code",
   "metadata": {
    "colab": {
     "base_uri": "https://localhost:8080/",
     "height": 136,
     "referenced_widgets": [
      "c4d9fb07119d40d3b725e2869aab89b7",
      "64ae617accd4438dbd987bef1f524ae6",
      "83fcfc380a654f0694508fddd528303f",
      "29f1b46d947c427ab952c7d278349162",
      "c59af48414c94c87b0564b00c1d0062e",
      "664969141aad48c8b85464afe6909b09",
      "8620317349844d4b827693c143198442",
      "6a0f5beb472a4a9fbc8e38f7a44a2beb",
      "55d8f02412804a088f8ca501e6d2bfe3",
      "adec2f1b89074f2c9cc9aaac55796dfc",
      "fd43ea01af9f4287bfbc195a668a482f"
     ]
    },
    "id": "VGtV-1aZt90l",
    "outputId": "f7a5ded7-5806-433f-f8c8-11b2d2b6c3cd",
    "ExecuteTime": {
     "end_time": "2025-07-12T03:07:00.791125Z",
     "start_time": "2025-07-12T03:06:40.022405Z"
    }
   },
   "source": [
    "print(\"\\nApplying Popularity Penalization to FunkSVD recommendations...\")\n",
    "recs_funksvd_pop = {}\n",
    "user_ids = final_slice['user_id'].unique()\n",
    "total_users = len(user_ids)\n",
    "\n",
    "for idx, user_id in enumerate(user_ids, start=1):\n",
    "    if idx % 10 == 0 or idx == total_users:\n",
    "        print(f\"  → Processing user {idx}/{total_users} for Popularity Penalization\")\n",
    "\n",
    "    initial_recs = funksvd_recommend(user_id, top_n=50)\n",
    "   \n",
    "    recs_funksvd_pop[user_id] = popularity_penalized_rerank(\n",
    "        initial_recs,\n",
    "        popularity,  \n",
    "        alpha=0.2\n",
    "    )\n",
    "\n",
    "\n",
    "diversity_funksvd_pop   = compute_diversity(recs_funksvd_pop, Q_funk, isbn_to_svd_idx)\n",
    "novelty_funksvd_pop     = compute_novelty(recs_funksvd_pop, popularity_ranks)\n",
    "serendipity_funksvd_pop = compute_serendipity(recs_funksvd_pop, user_history, Q_funk, isbn_to_svd_idx)\n",
    "\n",
    "print(f\"\\nFunkSVD+Popularity Penalization Diversity:   {diversity_funksvd_pop:.4f}\")\n",
    "print(f\"FunkSVD+Popularity Penalization Novelty:     {novelty_funksvd_pop:.4f}\")\n",
    "print(f\"FunkSVD+Popularity Penalization Serendipity: {serendipity_funksvd_pop:.4f}\")\n"
   ],
   "outputs": [
    {
     "name": "stdout",
     "output_type": "stream",
     "text": [
      "\n",
      "Applying Popularity Penalization to FunkSVD recommendations...\n",
      "  → Processing user 10/707 for Popularity Penalization\n",
      "  → Processing user 20/707 for Popularity Penalization\n",
      "  → Processing user 30/707 for Popularity Penalization\n",
      "  → Processing user 40/707 for Popularity Penalization\n",
      "  → Processing user 50/707 for Popularity Penalization\n",
      "  → Processing user 60/707 for Popularity Penalization\n",
      "  → Processing user 70/707 for Popularity Penalization\n",
      "  → Processing user 80/707 for Popularity Penalization\n",
      "  → Processing user 90/707 for Popularity Penalization\n",
      "  → Processing user 100/707 for Popularity Penalization\n",
      "  → Processing user 110/707 for Popularity Penalization\n",
      "  → Processing user 120/707 for Popularity Penalization\n",
      "  → Processing user 130/707 for Popularity Penalization\n",
      "  → Processing user 140/707 for Popularity Penalization\n",
      "  → Processing user 150/707 for Popularity Penalization\n",
      "  → Processing user 160/707 for Popularity Penalization\n",
      "  → Processing user 170/707 for Popularity Penalization\n",
      "  → Processing user 180/707 for Popularity Penalization\n",
      "  → Processing user 190/707 for Popularity Penalization\n",
      "  → Processing user 200/707 for Popularity Penalization\n",
      "  → Processing user 210/707 for Popularity Penalization\n",
      "  → Processing user 220/707 for Popularity Penalization\n",
      "  → Processing user 230/707 for Popularity Penalization\n",
      "  → Processing user 240/707 for Popularity Penalization\n",
      "  → Processing user 250/707 for Popularity Penalization\n",
      "  → Processing user 260/707 for Popularity Penalization\n",
      "  → Processing user 270/707 for Popularity Penalization\n",
      "  → Processing user 280/707 for Popularity Penalization\n",
      "  → Processing user 290/707 for Popularity Penalization\n",
      "  → Processing user 300/707 for Popularity Penalization\n",
      "  → Processing user 310/707 for Popularity Penalization\n",
      "  → Processing user 320/707 for Popularity Penalization\n",
      "  → Processing user 330/707 for Popularity Penalization\n",
      "  → Processing user 340/707 for Popularity Penalization\n",
      "  → Processing user 350/707 for Popularity Penalization\n",
      "  → Processing user 360/707 for Popularity Penalization\n",
      "  → Processing user 370/707 for Popularity Penalization\n",
      "  → Processing user 380/707 for Popularity Penalization\n",
      "  → Processing user 390/707 for Popularity Penalization\n",
      "  → Processing user 400/707 for Popularity Penalization\n",
      "  → Processing user 410/707 for Popularity Penalization\n",
      "  → Processing user 420/707 for Popularity Penalization\n",
      "  → Processing user 430/707 for Popularity Penalization\n",
      "  → Processing user 440/707 for Popularity Penalization\n",
      "  → Processing user 450/707 for Popularity Penalization\n",
      "  → Processing user 460/707 for Popularity Penalization\n",
      "  → Processing user 470/707 for Popularity Penalization\n",
      "  → Processing user 480/707 for Popularity Penalization\n",
      "  → Processing user 490/707 for Popularity Penalization\n",
      "  → Processing user 500/707 for Popularity Penalization\n",
      "  → Processing user 510/707 for Popularity Penalization\n",
      "  → Processing user 520/707 for Popularity Penalization\n",
      "  → Processing user 530/707 for Popularity Penalization\n",
      "  → Processing user 540/707 for Popularity Penalization\n",
      "  → Processing user 550/707 for Popularity Penalization\n",
      "  → Processing user 560/707 for Popularity Penalization\n",
      "  → Processing user 570/707 for Popularity Penalization\n",
      "  → Processing user 580/707 for Popularity Penalization\n",
      "  → Processing user 590/707 for Popularity Penalization\n",
      "  → Processing user 600/707 for Popularity Penalization\n",
      "  → Processing user 610/707 for Popularity Penalization\n",
      "  → Processing user 620/707 for Popularity Penalization\n",
      "  → Processing user 630/707 for Popularity Penalization\n",
      "  → Processing user 640/707 for Popularity Penalization\n",
      "  → Processing user 650/707 for Popularity Penalization\n",
      "  → Processing user 660/707 for Popularity Penalization\n",
      "  → Processing user 670/707 for Popularity Penalization\n",
      "  → Processing user 680/707 for Popularity Penalization\n",
      "  → Processing user 690/707 for Popularity Penalization\n",
      "  → Processing user 700/707 for Popularity Penalization\n",
      "  → Processing user 707/707 for Popularity Penalization\n",
      "\n",
      "FunkSVD+Popularity Penalization Diversity:   0.1524\n",
      "FunkSVD+Popularity Penalization Novelty:     0.7442\n",
      "FunkSVD+Popularity Penalization Serendipity: 0.1315\n"
     ]
    }
   ],
   "execution_count": 48
  },
  {
   "cell_type": "code",
   "metadata": {
    "colab": {
     "base_uri": "https://localhost:8080/",
     "height": 178
    },
    "id": "yTQtGKaNt90m",
    "outputId": "191fed40-917c-456a-c212-e6d519a4c12a",
    "ExecuteTime": {
     "end_time": "2025-07-12T03:07:00.973307Z",
     "start_time": "2025-07-12T03:07:00.958973Z"
    }
   },
   "source": [
    "final_metrics_summary = pd.DataFrame({\n",
    "    'BERT': [diversity_bert, novelty_bert, serendipity_bert],\n",
    "    'BERT+MMR': [diversity_bert_mmr, novelty_bert_mmr, serendipity_bert_mmr],\n",
    "    'FunkSVD': [diversity_funksvd, novelty_funksvd, serendipity_funksvd],\n",
    "    'FunkSVD+PopPen': [diversity_funksvd_pop, novelty_funksvd_pop, serendipity_funksvd_pop]\n",
    "}, index=['Diversity', 'Novelty', 'Serendipity'])\n",
    "\n",
    "print(\"\\n--- Final Metrics Summary ---\")\n",
    "display(final_metrics_summary)"
   ],
   "outputs": [
    {
     "name": "stdout",
     "output_type": "stream",
     "text": [
      "\n",
      "--- Final Metrics Summary ---\n"
     ]
    },
    {
     "data": {
      "text/plain": [
       "                 BERT  BERT+MMR   FunkSVD  FunkSVD+PopPen\n",
       "Diversity    0.374383  0.464344  0.161430        0.152410\n",
       "Novelty      2.030044  1.703447  1.678405        0.744228\n",
       "Serendipity  0.315922  0.357254  0.131144        0.131451"
      ],
      "text/html": [
       "<div>\n",
       "<style scoped>\n",
       "    .dataframe tbody tr th:only-of-type {\n",
       "        vertical-align: middle;\n",
       "    }\n",
       "\n",
       "    .dataframe tbody tr th {\n",
       "        vertical-align: top;\n",
       "    }\n",
       "\n",
       "    .dataframe thead th {\n",
       "        text-align: right;\n",
       "    }\n",
       "</style>\n",
       "<table border=\"1\" class=\"dataframe\">\n",
       "  <thead>\n",
       "    <tr style=\"text-align: right;\">\n",
       "      <th></th>\n",
       "      <th>BERT</th>\n",
       "      <th>BERT+MMR</th>\n",
       "      <th>FunkSVD</th>\n",
       "      <th>FunkSVD+PopPen</th>\n",
       "    </tr>\n",
       "  </thead>\n",
       "  <tbody>\n",
       "    <tr>\n",
       "      <th>Diversity</th>\n",
       "      <td>0.374383</td>\n",
       "      <td>0.464344</td>\n",
       "      <td>0.161430</td>\n",
       "      <td>0.152410</td>\n",
       "    </tr>\n",
       "    <tr>\n",
       "      <th>Novelty</th>\n",
       "      <td>2.030044</td>\n",
       "      <td>1.703447</td>\n",
       "      <td>1.678405</td>\n",
       "      <td>0.744228</td>\n",
       "    </tr>\n",
       "    <tr>\n",
       "      <th>Serendipity</th>\n",
       "      <td>0.315922</td>\n",
       "      <td>0.357254</td>\n",
       "      <td>0.131144</td>\n",
       "      <td>0.131451</td>\n",
       "    </tr>\n",
       "  </tbody>\n",
       "</table>\n",
       "</div>"
      ]
     },
     "metadata": {},
     "output_type": "display_data"
    }
   ],
   "execution_count": 49
  },
  {
   "cell_type": "markdown",
   "metadata": {
    "id": "H1OC9PeS3EUb"
   },
   "source": [
    "After applying MMR to our BERT model, diversity and serendipity increased while novelty interestingly decreased. Although the books might be as new, the recommendations are more unique and unexpected.\n",
    "\n",
    "After applying popular penalization to the FunkSVD model, all metrics decreased except for serendipity which very slightly increased. This shows that popular items did not really negatively affect how diverse or unknown the items are."
   ]
  },
  {
   "cell_type": "markdown",
   "metadata": {
    "id": "cRv1dGhZc7In"
   },
   "source": [
    "### The `analyze_single_user_recs` function\n",
    "This function is a helper designed to calculate our three key \"beyond-accuracy\" metrics for a single user's recommendation list.\n",
    "\n",
    "**What it does:**\n",
    "\n",
    "1. Takes a List: It receives a single list of recommended book ISBNs for one specific user.\n",
    "\n",
    "2. Calls Global Functions: It then calls our three main metric calculators:\n",
    "\n",
    "  `compute_diversity()`\n",
    "\n",
    "  `compute_novelty()`\n",
    "\n",
    "  `compute_serendipity()`\n",
    "\n",
    "3. Returns a Scorecard: It returns a clean dictionary containing the final diversity, novelty, and serendipity scores for that one list.\n",
    "\n",
    "Essentially, it's a convenient wrapper that lets us easily see the quality of recommendations for an individual user, which is perfect for generating the \"before and after\" examples."
   ]
  },
  {
   "cell_type": "code",
   "metadata": {
    "id": "UhCugXEvVKOO",
    "ExecuteTime": {
     "end_time": "2025-07-12T03:07:01.361965Z",
     "start_time": "2025-07-12T03:07:01.356851Z"
    }
   },
   "source": [
    "def analyze_single_user_recs(rec_isbns, user_id, user_history, item_embeddings, isbn_to_idx, popularity_ranks):\n",
    "    \"\"\"\n",
    "    Calculates diversity, novelty, and serendipity for a single list of recommendations.\n",
    "    \"\"\"\n",
    "    if not rec_isbns:\n",
    "        return {'diversity': 0, 'novelty': 0, 'serendipity': 0}\n",
    "\n",
    "    # Wrap in a dictionary to use the global compute functions\n",
    "    recs_dict = {user_id: rec_isbns}\n",
    "\n",
    "    diversity = compute_diversity(recs_dict, item_embeddings, isbn_to_idx)\n",
    "    novelty = compute_novelty(recs_dict, popularity_ranks)\n",
    "    serendipity = compute_serendipity(recs_dict, user_history, item_embeddings, isbn_to_idx)\n",
    "\n",
    "    return {'diversity': diversity, 'novelty': novelty, 'serendipity': serendipity}"
   ],
   "outputs": [],
   "execution_count": 50
  },
  {
   "cell_type": "code",
   "metadata": {
    "colab": {
     "base_uri": "https://localhost:8080/"
    },
    "id": "t3TzEGaIt90m",
    "outputId": "6f366840-2a0d-433a-9f6e-db1baf155177",
    "ExecuteTime": {
     "end_time": "2025-07-12T03:07:02.130979Z",
     "start_time": "2025-07-12T03:07:02.119131Z"
    }
   },
   "source": [
    "# Select a sample user who has rated a decent number of books\n",
    "sample_user_id = final_slice['user_id'].value_counts().index[0]\n",
    "\n",
    "# --- BERT: Before and After MMR ---\n",
    "print(f\"\\n--- Example for User {sample_user_id}: BERT vs. BERT+MMR ---\")\n",
    "\n",
    "# Get seed and initial recommendations\n",
    "user_ratings = final_slice[final_slice['user_id'] == sample_user_id]\n",
    "seed_isbn = user_ratings.loc[user_ratings['rating'].idxmax()]['isbn']\n",
    "seed_title = sel_books_df[sel_books_df['isbn'] == seed_isbn]['title'].iloc[0]\n",
    "\n",
    "print(f\"Seed Book: '{seed_title}' (ISBN: {seed_isbn})\")"
   ],
   "outputs": [
    {
     "name": "stdout",
     "output_type": "stream",
     "text": [
      "\n",
      "--- Example for User 11676: BERT vs. BERT+MMR ---\n",
      "Seed Book: 'Fast Food Nation' (ISBN: 0060938455)\n"
     ]
    }
   ],
   "execution_count": 51
  },
  {
   "cell_type": "code",
   "metadata": {
    "colab": {
     "base_uri": "https://localhost:8080/",
     "height": 432
    },
    "id": "qJnK5ao1t90m",
    "outputId": "397e7d39-9c73-469c-e5c4-16794a4b982e",
    "ExecuteTime": {
     "end_time": "2025-07-12T03:07:02.857676Z",
     "start_time": "2025-07-12T03:07:02.837249Z"
    }
   },
   "source": [
    "# Before MMR\n",
    "print(f\"Seed Book: '{seed_title}' (ISBN: {seed_isbn})\")\n",
    "bert_before_recs_raw = bert_recommend(seed_isbn, top_n=10)\n",
    "bert_before_isbns = [isbn for isbn, score in bert_before_recs_raw]\n",
    "bert_before_df = recs_with_meta(bert_before_recs_raw, 'BERT')\n",
    "bert_before_metrics = analyze_single_user_recs(bert_before_isbns, sample_user_id, user_history, embeddings, isbn_to_idx_bert, popularity_ranks)\n",
    "print(\"\\n--- Recommendations BEFORE MMR ---\")\n",
    "print(f\"Diversity: {bert_before_metrics['diversity']:.3f} | Novelty: {bert_before_metrics['novelty']:.3f} | Serendipity: {bert_before_metrics['serendipity']:.3f}\")\n",
    "display(bert_before_df[['title', 'author']])"
   ],
   "outputs": [
    {
     "name": "stdout",
     "output_type": "stream",
     "text": [
      "Seed Book: 'Fast Food Nation' (ISBN: 0060938455)\n",
      "\n",
      "--- Recommendations BEFORE MMR ---\n",
      "Diversity: 0.645 | Novelty: 1.366 | Serendipity: 0.458\n"
     ]
    },
    {
     "data": {
      "text/plain": [
       "                                           title  \\\n",
       "0                            The food revolution   \n",
       "1                        Diet for a Small Planet   \n",
       "2                                Fit for life II   \n",
       "3                                 New vegetarian   \n",
       "4                                       Palomino   \n",
       "5  Fried green tomatoes at the Whistle Stop Cafe   \n",
       "6                          Eats, Shoots & Leaves   \n",
       "7                          To Kill a Mockingbird   \n",
       "8                           Tuesdays with Morrie   \n",
       "9          Chicken soup for the teenage soul III   \n",
       "\n",
       "                                              author  \n",
       "0                                       John Robbins  \n",
       "1  Frances Moore LappÃ©, FRANCES MOORE LAPPE, Fra...  \n",
       "2                    Harvey Diamond, Marilyn Diamond  \n",
       "3                                 Celia Brooks Brown  \n",
       "4                                     Danielle Steel  \n",
       "5                          Fannie Flagg, Akiko Izumi  \n",
       "6                                        Lynne Truss  \n",
       "7                                         Harper Lee  \n",
       "8                                        Mitch Albom  \n",
       "9  Jack Canfield, Mark Victor Hansen, Kimberly Ki...  "
      ],
      "text/html": [
       "<div>\n",
       "<style scoped>\n",
       "    .dataframe tbody tr th:only-of-type {\n",
       "        vertical-align: middle;\n",
       "    }\n",
       "\n",
       "    .dataframe tbody tr th {\n",
       "        vertical-align: top;\n",
       "    }\n",
       "\n",
       "    .dataframe thead th {\n",
       "        text-align: right;\n",
       "    }\n",
       "</style>\n",
       "<table border=\"1\" class=\"dataframe\">\n",
       "  <thead>\n",
       "    <tr style=\"text-align: right;\">\n",
       "      <th></th>\n",
       "      <th>title</th>\n",
       "      <th>author</th>\n",
       "    </tr>\n",
       "  </thead>\n",
       "  <tbody>\n",
       "    <tr>\n",
       "      <th>0</th>\n",
       "      <td>The food revolution</td>\n",
       "      <td>John Robbins</td>\n",
       "    </tr>\n",
       "    <tr>\n",
       "      <th>1</th>\n",
       "      <td>Diet for a Small Planet</td>\n",
       "      <td>Frances Moore LappÃ©, FRANCES MOORE LAPPE, Fra...</td>\n",
       "    </tr>\n",
       "    <tr>\n",
       "      <th>2</th>\n",
       "      <td>Fit for life II</td>\n",
       "      <td>Harvey Diamond, Marilyn Diamond</td>\n",
       "    </tr>\n",
       "    <tr>\n",
       "      <th>3</th>\n",
       "      <td>New vegetarian</td>\n",
       "      <td>Celia Brooks Brown</td>\n",
       "    </tr>\n",
       "    <tr>\n",
       "      <th>4</th>\n",
       "      <td>Palomino</td>\n",
       "      <td>Danielle Steel</td>\n",
       "    </tr>\n",
       "    <tr>\n",
       "      <th>5</th>\n",
       "      <td>Fried green tomatoes at the Whistle Stop Cafe</td>\n",
       "      <td>Fannie Flagg, Akiko Izumi</td>\n",
       "    </tr>\n",
       "    <tr>\n",
       "      <th>6</th>\n",
       "      <td>Eats, Shoots &amp; Leaves</td>\n",
       "      <td>Lynne Truss</td>\n",
       "    </tr>\n",
       "    <tr>\n",
       "      <th>7</th>\n",
       "      <td>To Kill a Mockingbird</td>\n",
       "      <td>Harper Lee</td>\n",
       "    </tr>\n",
       "    <tr>\n",
       "      <th>8</th>\n",
       "      <td>Tuesdays with Morrie</td>\n",
       "      <td>Mitch Albom</td>\n",
       "    </tr>\n",
       "    <tr>\n",
       "      <th>9</th>\n",
       "      <td>Chicken soup for the teenage soul III</td>\n",
       "      <td>Jack Canfield, Mark Victor Hansen, Kimberly Ki...</td>\n",
       "    </tr>\n",
       "  </tbody>\n",
       "</table>\n",
       "</div>"
      ]
     },
     "metadata": {},
     "output_type": "display_data"
    }
   ],
   "execution_count": 52
  },
  {
   "cell_type": "code",
   "metadata": {
    "colab": {
     "base_uri": "https://localhost:8080/",
     "height": 432
    },
    "id": "vE2MsYYHt90m",
    "outputId": "783dbf99-2129-490b-cc13-c40b6a055e7d",
    "ExecuteTime": {
     "end_time": "2025-07-12T03:07:03.716097Z",
     "start_time": "2025-07-12T03:07:03.688998Z"
    }
   },
   "source": [
    " #After MMR\n",
    "print(f\"Seed Book: '{seed_title}' (ISBN: {seed_isbn})\")\n",
    "bert_after_isbns = mmr_rerank(bert_recommend(seed_isbn, 50), cos_sim_bert, isbn_to_idx_bert, lambda_val=0.5)\n",
    "bert_after_recs_raw = [(isbn, 0) for isbn in bert_after_isbns]\n",
    "bert_after_df = recs_with_meta(bert_after_recs_raw, 'BERT+MMR')\n",
    "bert_after_metrics = analyze_single_user_recs(bert_after_isbns, sample_user_id, user_history, embeddings, isbn_to_idx_bert, popularity_ranks)\n",
    "bert_after_df['New'] = ~bert_after_df['isbn'].isin(bert_before_df['isbn'])\n",
    "print(\"\\n--- Recommendations AFTER MMR ---\")\n",
    "print(f\"Diversity: {bert_after_metrics['diversity']:.3f} | Novelty: {bert_after_metrics['novelty']:.3f} | Serendipity: {bert_after_metrics['serendipity']:.3f}\")\n",
    "display(bert_after_df[['title', 'author', 'New']])"
   ],
   "outputs": [
    {
     "name": "stdout",
     "output_type": "stream",
     "text": [
      "Seed Book: 'Fast Food Nation' (ISBN: 0060938455)\n",
      "\n",
      "--- Recommendations AFTER MMR ---\n",
      "Diversity: 0.725 | Novelty: 0.802 | Serendipity: 0.498\n"
     ]
    },
    {
     "data": {
      "text/plain": [
       "                                   title  \\\n",
       "0                    The food revolution   \n",
       "1                       esperansa rising   \n",
       "2                        Fit for life II   \n",
       "3                  Eats, Shoots & Leaves   \n",
       "4                         New vegetarian   \n",
       "5                 The lobster chronicles   \n",
       "6  The Sweet Potato Queens' book of love   \n",
       "7                Diet for a Small Planet   \n",
       "8                            Iron & silk   \n",
       "9                   Tuesdays with Morrie   \n",
       "\n",
       "                                              author    New  \n",
       "0                                       John Robbins  False  \n",
       "1                                   Pam MunÌoz Ryan   True  \n",
       "2                    Harvey Diamond, Marilyn Diamond  False  \n",
       "3                                        Lynne Truss  False  \n",
       "4                                 Celia Brooks Brown  False  \n",
       "5                                     Linda Greenlaw   True  \n",
       "6                                 Jill Conner Browne   True  \n",
       "7  Frances Moore LappÃ©, FRANCES MOORE LAPPE, Fra...  False  \n",
       "8                                       Mark Salzman   True  \n",
       "9                                        Mitch Albom  False  "
      ],
      "text/html": [
       "<div>\n",
       "<style scoped>\n",
       "    .dataframe tbody tr th:only-of-type {\n",
       "        vertical-align: middle;\n",
       "    }\n",
       "\n",
       "    .dataframe tbody tr th {\n",
       "        vertical-align: top;\n",
       "    }\n",
       "\n",
       "    .dataframe thead th {\n",
       "        text-align: right;\n",
       "    }\n",
       "</style>\n",
       "<table border=\"1\" class=\"dataframe\">\n",
       "  <thead>\n",
       "    <tr style=\"text-align: right;\">\n",
       "      <th></th>\n",
       "      <th>title</th>\n",
       "      <th>author</th>\n",
       "      <th>New</th>\n",
       "    </tr>\n",
       "  </thead>\n",
       "  <tbody>\n",
       "    <tr>\n",
       "      <th>0</th>\n",
       "      <td>The food revolution</td>\n",
       "      <td>John Robbins</td>\n",
       "      <td>False</td>\n",
       "    </tr>\n",
       "    <tr>\n",
       "      <th>1</th>\n",
       "      <td>esperansa rising</td>\n",
       "      <td>Pam MunÌoz Ryan</td>\n",
       "      <td>True</td>\n",
       "    </tr>\n",
       "    <tr>\n",
       "      <th>2</th>\n",
       "      <td>Fit for life II</td>\n",
       "      <td>Harvey Diamond, Marilyn Diamond</td>\n",
       "      <td>False</td>\n",
       "    </tr>\n",
       "    <tr>\n",
       "      <th>3</th>\n",
       "      <td>Eats, Shoots &amp; Leaves</td>\n",
       "      <td>Lynne Truss</td>\n",
       "      <td>False</td>\n",
       "    </tr>\n",
       "    <tr>\n",
       "      <th>4</th>\n",
       "      <td>New vegetarian</td>\n",
       "      <td>Celia Brooks Brown</td>\n",
       "      <td>False</td>\n",
       "    </tr>\n",
       "    <tr>\n",
       "      <th>5</th>\n",
       "      <td>The lobster chronicles</td>\n",
       "      <td>Linda Greenlaw</td>\n",
       "      <td>True</td>\n",
       "    </tr>\n",
       "    <tr>\n",
       "      <th>6</th>\n",
       "      <td>The Sweet Potato Queens' book of love</td>\n",
       "      <td>Jill Conner Browne</td>\n",
       "      <td>True</td>\n",
       "    </tr>\n",
       "    <tr>\n",
       "      <th>7</th>\n",
       "      <td>Diet for a Small Planet</td>\n",
       "      <td>Frances Moore LappÃ©, FRANCES MOORE LAPPE, Fra...</td>\n",
       "      <td>False</td>\n",
       "    </tr>\n",
       "    <tr>\n",
       "      <th>8</th>\n",
       "      <td>Iron &amp; silk</td>\n",
       "      <td>Mark Salzman</td>\n",
       "      <td>True</td>\n",
       "    </tr>\n",
       "    <tr>\n",
       "      <th>9</th>\n",
       "      <td>Tuesdays with Morrie</td>\n",
       "      <td>Mitch Albom</td>\n",
       "      <td>False</td>\n",
       "    </tr>\n",
       "  </tbody>\n",
       "</table>\n",
       "</div>"
      ]
     },
     "metadata": {},
     "output_type": "display_data"
    }
   ],
   "execution_count": 53
  },
  {
   "cell_type": "markdown",
   "metadata": {
    "id": "QU3qcqJhosm2"
   },
   "source": [
    "We see here again that after applying MMR to the BERT moodel, diversity and serendipity improved while novelty decreased. MMR created more unexpected book suggestions, but not as unknown to the user. Compared to the previous model's results, we have 4 new books after applying MMR: esperansa rising, The lobster chronicles, The Sweet Potato Queens' book of love\t and Iron & silk."
   ]
  },
  {
   "cell_type": "code",
   "metadata": {
    "colab": {
     "base_uri": "https://localhost:8080/",
     "height": 472
    },
    "id": "6vIVxHfWt90m",
    "outputId": "4c270376-462e-461d-8a3f-0e18fba3ab03",
    "ExecuteTime": {
     "end_time": "2025-07-12T03:07:04.219571Z",
     "start_time": "2025-07-12T03:07:04.204628Z"
    }
   },
   "source": [
    "# Display side-by-side\n",
    "bert_comparison_html = pd.concat([bert_before_df[['title', 'author']], bert_after_df[['title', 'author']]], axis=1).to_html(index=False)\n",
    "display(HTML(\"<h4>BERT Recommendations Comparison</h4>\"))\n",
    "display(HTML(bert_comparison_html))\n",
    "\n",
    "\n"
   ],
   "outputs": [
    {
     "data": {
      "text/plain": [
       "<IPython.core.display.HTML object>"
      ],
      "text/html": [
       "<h4>BERT Recommendations Comparison</h4>"
      ]
     },
     "metadata": {},
     "output_type": "display_data"
    },
    {
     "data": {
      "text/plain": [
       "<IPython.core.display.HTML object>"
      ],
      "text/html": [
       "<table border=\"1\" class=\"dataframe\">\n",
       "  <thead>\n",
       "    <tr style=\"text-align: right;\">\n",
       "      <th>title</th>\n",
       "      <th>author</th>\n",
       "      <th>title</th>\n",
       "      <th>author</th>\n",
       "    </tr>\n",
       "  </thead>\n",
       "  <tbody>\n",
       "    <tr>\n",
       "      <td>The food revolution</td>\n",
       "      <td>John Robbins</td>\n",
       "      <td>The food revolution</td>\n",
       "      <td>John Robbins</td>\n",
       "    </tr>\n",
       "    <tr>\n",
       "      <td>Diet for a Small Planet</td>\n",
       "      <td>Frances Moore LappÃ©, FRANCES MOORE LAPPE, Frances Moore Lappe</td>\n",
       "      <td>esperansa rising</td>\n",
       "      <td>Pam MunÌoz Ryan</td>\n",
       "    </tr>\n",
       "    <tr>\n",
       "      <td>Fit for life II</td>\n",
       "      <td>Harvey Diamond, Marilyn Diamond</td>\n",
       "      <td>Fit for life II</td>\n",
       "      <td>Harvey Diamond, Marilyn Diamond</td>\n",
       "    </tr>\n",
       "    <tr>\n",
       "      <td>New vegetarian</td>\n",
       "      <td>Celia Brooks Brown</td>\n",
       "      <td>Eats, Shoots &amp; Leaves</td>\n",
       "      <td>Lynne Truss</td>\n",
       "    </tr>\n",
       "    <tr>\n",
       "      <td>Palomino</td>\n",
       "      <td>Danielle Steel</td>\n",
       "      <td>New vegetarian</td>\n",
       "      <td>Celia Brooks Brown</td>\n",
       "    </tr>\n",
       "    <tr>\n",
       "      <td>Fried green tomatoes at the Whistle Stop Cafe</td>\n",
       "      <td>Fannie Flagg, Akiko Izumi</td>\n",
       "      <td>The lobster chronicles</td>\n",
       "      <td>Linda Greenlaw</td>\n",
       "    </tr>\n",
       "    <tr>\n",
       "      <td>Eats, Shoots &amp; Leaves</td>\n",
       "      <td>Lynne Truss</td>\n",
       "      <td>The Sweet Potato Queens' book of love</td>\n",
       "      <td>Jill Conner Browne</td>\n",
       "    </tr>\n",
       "    <tr>\n",
       "      <td>To Kill a Mockingbird</td>\n",
       "      <td>Harper Lee</td>\n",
       "      <td>Diet for a Small Planet</td>\n",
       "      <td>Frances Moore LappÃ©, FRANCES MOORE LAPPE, Frances Moore Lappe</td>\n",
       "    </tr>\n",
       "    <tr>\n",
       "      <td>Tuesdays with Morrie</td>\n",
       "      <td>Mitch Albom</td>\n",
       "      <td>Iron &amp; silk</td>\n",
       "      <td>Mark Salzman</td>\n",
       "    </tr>\n",
       "    <tr>\n",
       "      <td>Chicken soup for the teenage soul III</td>\n",
       "      <td>Jack Canfield, Mark Victor Hansen, Kimberly Kirberger</td>\n",
       "      <td>Tuesdays with Morrie</td>\n",
       "      <td>Mitch Albom</td>\n",
       "    </tr>\n",
       "  </tbody>\n",
       "</table>"
      ]
     },
     "metadata": {},
     "output_type": "display_data"
    }
   ],
   "execution_count": 54
  },
  {
   "cell_type": "code",
   "metadata": {
    "colab": {
     "base_uri": "https://localhost:8080/"
    },
    "id": "W3_M6USXt90n",
    "outputId": "40a90e4c-7d61-4ce3-f19d-73a3cc8baf9f",
    "ExecuteTime": {
     "end_time": "2025-07-12T03:07:04.372086Z",
     "start_time": "2025-07-12T03:07:04.366047Z"
    }
   },
   "source": [
    "print(f\"\\n--- Example for User {sample_user_id}: FunkSVD vs. FunkSVD+PopPen ---\")"
   ],
   "outputs": [
    {
     "name": "stdout",
     "output_type": "stream",
     "text": [
      "\n",
      "--- Example for User 11676: FunkSVD vs. FunkSVD+PopPen ---\n"
     ]
    }
   ],
   "execution_count": 55
  },
  {
   "cell_type": "code",
   "metadata": {
    "id": "xSqYmjSdt90n",
    "ExecuteTime": {
     "end_time": "2025-07-12T03:07:05.052821Z",
     "start_time": "2025-07-12T03:07:04.714683Z"
    }
   },
   "source": [
    "funksvd_before_recs_raw = funksvd_recommend(sample_user_id, top_n=10)\n",
    "funksvd_before_df = recs_with_meta(funksvd_before_recs_raw, 'FunkSVD (Original)')\n"
   ],
   "outputs": [],
   "execution_count": 56
  },
  {
   "cell_type": "code",
   "metadata": {
    "id": "25GxOv4zt90n",
    "ExecuteTime": {
     "end_time": "2025-07-12T03:07:05.826383Z",
     "start_time": "2025-07-12T03:07:05.482657Z"
    }
   },
   "source": [
    "funksvd_after_recs_isbns = popularity_penalized_rerank(funksvd_recommend(sample_user_id, 50), popularity, alpha=0.4)\n",
    "funksvd_after_recs_raw = [(isbn, 0) for isbn in funksvd_after_recs_isbns]\n",
    "funksvd_after_df = recs_with_meta(funksvd_after_recs_raw, 'FunkSVD+PopPen')"
   ],
   "outputs": [],
   "execution_count": 57
  },
  {
   "cell_type": "code",
   "metadata": {
    "id": "PwKxEPnHt90o",
    "ExecuteTime": {
     "end_time": "2025-07-12T03:07:06.044079Z",
     "start_time": "2025-07-12T03:07:06.034669Z"
    }
   },
   "source": [
    "funksvd_before_df['Popularity'] = funksvd_before_df['isbn'].map(popularity).fillna(0).astype(int)\n",
    "funksvd_after_df['Popularity'] = funksvd_after_df['isbn'].map(popularity).fillna(0).astype(int)"
   ],
   "outputs": [],
   "execution_count": 58
  },
  {
   "cell_type": "code",
   "metadata": {
    "colab": {
     "base_uri": "https://localhost:8080/",
     "height": 437
    },
    "id": "CbUvebDft90o",
    "outputId": "b1f0a53b-da38-481b-e689-7045c80e2680",
    "scrolled": true,
    "ExecuteTime": {
     "end_time": "2025-07-12T03:07:06.480779Z",
     "start_time": "2025-07-12T03:07:06.463325Z"
    }
   },
   "source": [
    "print(f\"\\n--- Example for User {sample_user_id}: FunkSVD vs. FunkSVD+PopPen ---\")\n",
    "funksvd_comparison_html = pd.concat([funksvd_before_df[['title', 'Popularity']], funksvd_after_df[['title', 'Popularity']]], axis=1).to_html(index=False)\n",
    "display(HTML(\"<h4>FunkSVD Recommendations Comparison</h4>\"))\n",
    "display(HTML(funksvd_comparison_html))\n"
   ],
   "outputs": [
    {
     "name": "stdout",
     "output_type": "stream",
     "text": [
      "\n",
      "--- Example for User 11676: FunkSVD vs. FunkSVD+PopPen ---\n"
     ]
    },
    {
     "data": {
      "text/plain": [
       "<IPython.core.display.HTML object>"
      ],
      "text/html": [
       "<h4>FunkSVD Recommendations Comparison</h4>"
      ]
     },
     "metadata": {},
     "output_type": "display_data"
    },
    {
     "data": {
      "text/plain": [
       "<IPython.core.display.HTML object>"
      ],
      "text/html": [
       "<table border=\"1\" class=\"dataframe\">\n",
       "  <thead>\n",
       "    <tr style=\"text-align: right;\">\n",
       "      <th>title</th>\n",
       "      <th>Popularity</th>\n",
       "      <th>title</th>\n",
       "      <th>Popularity</th>\n",
       "    </tr>\n",
       "  </thead>\n",
       "  <tbody>\n",
       "    <tr>\n",
       "      <td>Midnight's Children</td>\n",
       "      <td>10</td>\n",
       "      <td>Midnight's Children</td>\n",
       "      <td>10</td>\n",
       "    </tr>\n",
       "    <tr>\n",
       "      <td>Chicken soup for the kid's soul</td>\n",
       "      <td>10</td>\n",
       "      <td>The hearse you came in on</td>\n",
       "      <td>6</td>\n",
       "    </tr>\n",
       "    <tr>\n",
       "      <td>The hearse you came in on</td>\n",
       "      <td>6</td>\n",
       "      <td>Chicken soup for the kid's soul</td>\n",
       "      <td>10</td>\n",
       "    </tr>\n",
       "    <tr>\n",
       "      <td>After Caroline.</td>\n",
       "      <td>9</td>\n",
       "      <td>Echoes</td>\n",
       "      <td>3</td>\n",
       "    </tr>\n",
       "    <tr>\n",
       "      <td>Dinner at the Homesick Restaurant</td>\n",
       "      <td>6</td>\n",
       "      <td>Dinner at the Homesick Restaurant</td>\n",
       "      <td>6</td>\n",
       "    </tr>\n",
       "    <tr>\n",
       "      <td>The gift of fear</td>\n",
       "      <td>10</td>\n",
       "      <td>Man's Search for Meaning</td>\n",
       "      <td>2</td>\n",
       "    </tr>\n",
       "    <tr>\n",
       "      <td>A cat's little instruction book</td>\n",
       "      <td>7</td>\n",
       "      <td>Time and again.</td>\n",
       "      <td>3</td>\n",
       "    </tr>\n",
       "    <tr>\n",
       "      <td>Echoes</td>\n",
       "      <td>3</td>\n",
       "      <td>A cat's little instruction book</td>\n",
       "      <td>7</td>\n",
       "    </tr>\n",
       "    <tr>\n",
       "      <td>The attorney</td>\n",
       "      <td>7</td>\n",
       "      <td>After Caroline.</td>\n",
       "      <td>9</td>\n",
       "    </tr>\n",
       "    <tr>\n",
       "      <td>Time and again.</td>\n",
       "      <td>3</td>\n",
       "      <td>The gift of fear</td>\n",
       "      <td>10</td>\n",
       "    </tr>\n",
       "  </tbody>\n",
       "</table>"
      ]
     },
     "metadata": {},
     "output_type": "display_data"
    }
   ],
   "execution_count": 59
  },
  {
   "cell_type": "markdown",
   "metadata": {
    "id": "mDwST26mstdO"
   },
   "source": [
    "After improving our model, we can see that popularity has certainly decreased. We now know our model will not default to the most popular the results, giving the user more interesting recommendations."
   ]
  },
  {
   "metadata": {},
   "cell_type": "markdown",
   "source": [
    "# Conclusion (AWS - Project 6)\n",
    "\n",
    "Below are some pros and cons of the main aspects of using the AWS cloud solution based off research and our findings from this project:\n",
    "\n",
    "* S3 (storage)\n",
    "    * Advantages:\n",
    "        * Widely used\n",
    "        * Highly scalable and secure\n",
    "        * Can be integrated very easily with a wide range of applications - such as S3Fs or boto3 for Python\n",
    "        * Fairly straightforward to use\n",
    "        * Easy to give other AWS accounts access (note we did not do this for this particular project)\n",
    "    * Disadvantages:\n",
    "        * For this particular project, pulling data from S3 in the notebook took a while, so we had to convert the CSV files to pickle\n",
    "        * There are many settings for S3, so using an incorrect one could lead to issues like data leakage\n",
    "\n",
    "* EC2 (compute service)\n",
    "    * Advantages:\n",
    "        * AWS Free Tier is great for beginners and very small projects\n",
    "        * AWS Documentation - it is very easy to create an AWS account and spin up an EC2 instance\n",
    "        * Can easily configure security and networking\n",
    "        * Being able to perform remote Python development using an IDE such as PyCharm is easy\n",
    "    * Disadvantages:\n",
    "        * AWS Free Tier only available to new customers\n",
    "        * AWS Free Tier does not offer enough RAM to run models with large amounts of data and python packages. For example, we tried running our PySpark and could not get our notebook to run due to memory issues. Additionally, we could not get this project to run without skipping trimming the data down section of our code.\n",
    "            * There were many times the EC2 instance would get stuck/frozen, and it had to be rebooted. This was especially true when using PyCharm and the file would get automatically uploaded while the jupyter server was still running on the EC2.\n",
    "        * AWS Free Tier you must monitor usage for any unexpected charges - must be aware of running 2 EC2 instances simultaneously\n",
    "\n",
    "* VPC (security)\n",
    "    * Advantages:\n",
    "        * Secure and monitor connections, screen traffic, and restrict instance access inside your virtual network.\n",
    "        * Spend less time setting up, managing, and validating your virtual network.\n",
    "        * Customize your virtual network by choosing your own IP address range, creating subnets, and configuring route tables.\n",
    "                * We were easily able to restrict SSH traffic on our EC2 instances to our own IP address to increase security\n",
    "    * Disadvantages:\n",
    "        * In a real world scenario/production purpose, set up for this is complicated, and requires a lot of knowledge about networking, cost, etc.\n",
    "        * VPCs are tied to a specific region\n",
    "        * Can be costly\n",
    "\n",
    "Overall, it was difficult to fully gauge and experience all the advantages while only using Amazon's free tier EC2 instance. In the real world, we will most likely be able to create larger EC2 instances which will be able to handle big Spark jobs. We were hoping AWS's free cloud compute resources would be able to handle our Spark project, but it was just too much given what was available to us. Trying out an EC2 instance required a bit of trial and error to get everything set up properly and fully running. Additionally, there are a lot of set up configurations like an IAM user and IAM role which are great to have, but it does require a lot of knowledge to not make any mistakes."
   ]
  },
  {
   "metadata": {},
   "cell_type": "markdown",
   "source": [
    "### Future Directions\n",
    "\n",
    "Some future things to investigate:\n",
    "\n",
    "* Running Spark in a compute resource\n",
    "* How AWS compares to Microsoft Azure\n",
    "* Testing out S3 and IAM permissions\n",
    "\n"
   ]
  },
  {
   "cell_type": "markdown",
   "metadata": {
    "id": "7tDg0iIUao1y"
   },
   "source": [
    "# Original Project 4 Conclusion\n",
    "\n",
    "In this project we took a deeper look at previous models we've investigated at such as content-based filtering and SVD. We've seen how looking beyond RMSE is important in evaluating a recommender system. It is not enough to only find the most similar items. To provide a more robust list of recommendations and prevent overfitting, we must look at other metrics such as diversity, novelty, and serendipity.\n",
    "\n",
    "## Business view\n",
    "\n",
    "In this project we explored the ways how to make recommenders to deliver books which users probably haven't read them before. Also the goal is to \"surprise\" users with new content, and at the same time to deliver relevant books.\n",
    "\n",
    "This is the classic explore vs. exploit problem, and finding the right balance is the key to keeping users happy.\n",
    "\n",
    "* **Exploit:** Give user what we know they like (more things similar what they liked before). It is safe and keeps them engaged right now.\n",
    "\n",
    "* **Explore:** Show them something new to learn about there tastes (new books with different genres). It's risky because they might not like it, but it's the only way to find new favorites and keep things interesting in the long run.\n",
    "\n",
    "So, how do we find the ways to keep users engaged? Here's how we can do it smartly.\n",
    "\n",
    "1. Hybrid Models (the best of both models)\n",
    "This is the best way to start. Our project already does this. We have two models that think different:\n",
    "\n",
    "  * Content-Based (BERT): Sees user liked this book, so it finds other books with similar descriptions. This one is good idea for exploitation.\n",
    "\n",
    "   * Collaborative (FunkSVD): This model sees that \"people like user also liked these other books\". This model is a natural bridge. It find what people with similar taste also like, even in other genres.\n",
    "\n",
    "By blending the results from both, we can offer a list that has safe bets (from the content model) and interesting new ideas (from the collaborative model).\n",
    "\n",
    "2. Bridge Attributes\n",
    "Instead of a big jump between genres, we find items that are a bridge. Look at things besides genre. For example:\n",
    "\n",
    "  * Shared Authors: Let's say some user love certain writer's thrillers. We could recommend a book he co-wrote. This introduces a new author who might write something a little different.\n",
    "\n",
    "3. Let the user help\n",
    "We ca tell the user what we are doing in the UI. When we make exploration a feature, it feels smart, not random.\n",
    "\n",
    "  * We can say \"Because you like such and such author or book...\": This explains the bridge and makes the recommendation feel logical.\n",
    "\n",
    "  *  Also we can suggest \"These books are popular with thriller fans\". This tells the user we are exploring for them, which they usually appreciate.\n",
    "\n",
    "  * A \"Show Me Something Different\" button. This option gives users a button or a slider to control how much exploration they want puts them in the driver's seat.\n",
    "\n",
    "4. AI-Powered Exploration (The Conversational Approach)\n",
    "\n",
    "This is the next step up from the other strategies. Instead of just relying on pre-defined tags or what other users did, a smart AI can understand the nuance and context of what a user likes and find much more creative \"bridges\" to new genres.\n",
    "\n",
    "There are a lot of advantages of using AI in recommenders.Here few of them:\n",
    "\n",
    " * AI can find deeper, thematic connections. A powerful AI can understand the why behind your preference. It could say: \"Because you enjoy the deep technical detail and political tension in such an such books, you might enjoy (another similar book). .\"\n",
    "This is a jump across genres that makes perfect sense, but that a simple model would probably never make.\n",
    "\n",
    "* Having a conversation about taste. This is the real game-changer. The user could literally talk to the recommender to guide the exploration themselves.\n",
    "For example, user: \"I'm in the mood for a book like the ones I usually read, but I'm tired of spies.\"\n",
    "AI Recommender: \"Got it. You like fast-paced plots with high stakes. How about we try a legal thriller? The Firm by John Grisham has that same 'one man against the system' feel you enjoy, just in a different setting. Or for something completely different, Red Rising is a sci-fi book with intense action and political maneuvering. What sounds better?\"\n",
    "\n",
    "As much as powerful AI like Large Language Models (LLMs) can do amazing things, using them for recommendations comes with some significant risks.\n",
    "The biggest risk of using a powerful but unpredictable AI for recommendations is its tendency to \"hallucinate,\" where it might confidently recommend a fake book or misrepresent a real one, which breaks user trust. These models can also amplify biases from their training data, leading to unfair suggestions, and they might make inappropriate connections between items without strong safety filters. Finally, they are often a \"black box,\" making it difficult to understand the real reason behind a bad recommendation, which makes the system hard to debug and improve."
   ]
  }
 ],
 "metadata": {
  "colab": {
   "provenance": []
  },
  "kernelspec": {
   "display_name": "Python 3 (ipykernel)",
   "language": "python",
   "name": "python3"
  },
  "language_info": {
   "codemirror_mode": {
    "name": "ipython",
    "version": 3
   },
   "file_extension": ".py",
   "mimetype": "text/x-python",
   "name": "python",
   "nbconvert_exporter": "python",
   "pygments_lexer": "ipython3",
   "version": "3.10.12"
  },
  "widgets": {
   "application/vnd.jupyter.widget-state+json": {
    "0275bae9cc8948ce91a4c0ece18fe121": {
     "model_module": "@jupyter-widgets/controls",
     "model_module_version": "1.5.0",
     "model_name": "HTMLModel",
     "state": {
      "_dom_classes": [],
      "_model_module": "@jupyter-widgets/controls",
      "_model_module_version": "1.5.0",
      "_model_name": "HTMLModel",
      "_view_count": null,
      "_view_module": "@jupyter-widgets/controls",
      "_view_module_version": "1.5.0",
      "_view_name": "HTMLView",
      "description": "",
      "description_tooltip": null,
      "layout": "IPY_MODEL_bafded76f57947cebdbbe68264e03639",
      "placeholder": "​",
      "style": "IPY_MODEL_43c779d41b514b94a9a3675d31f8ec03",
      "value": " 96/96 [04:46&lt;00:00,  2.64s/it]"
     }
    },
    "033ff6e89f0b4f6c874e93563bb7cc0f": {
     "model_module": "@jupyter-widgets/controls",
     "model_module_version": "1.5.0",
     "model_name": "HTMLModel",
     "state": {
      "_dom_classes": [],
      "_model_module": "@jupyter-widgets/controls",
      "_model_module_version": "1.5.0",
      "_model_name": "HTMLModel",
      "_view_count": null,
      "_view_module": "@jupyter-widgets/controls",
      "_view_module_version": "1.5.0",
      "_view_name": "HTMLView",
      "description": "",
      "description_tooltip": null,
      "layout": "IPY_MODEL_0886609f0ddf4e21b597d83eb19b9929",
      "placeholder": "​",
      "style": "IPY_MODEL_30cf8992d89e43329e43a309ff6be1e8",
      "value": "FunkSVD k=70,lr=0.01,reg=0.1: 100%"
     }
    },
    "037f69cef4d24741aa8e417bd3935d28": {
     "model_module": "@jupyter-widgets/controls",
     "model_module_version": "1.5.0",
     "model_name": "HTMLModel",
     "state": {
      "_dom_classes": [],
      "_model_module": "@jupyter-widgets/controls",
      "_model_module_version": "1.5.0",
      "_model_name": "HTMLModel",
      "_view_count": null,
      "_view_module": "@jupyter-widgets/controls",
      "_view_module_version": "1.5.0",
      "_view_name": "HTMLView",
      "description": "",
      "description_tooltip": null,
      "layout": "IPY_MODEL_83fab6e839fb44ff935ed05f281fdec3",
      "placeholder": "​",
      "style": "IPY_MODEL_24a3a431bbd343349000f981701f37e7",
      "value": "Re-ranking BERT with MMR: 100%"
     }
    },
    "03b9f6e676ac47a289de78876351a462": {
     "model_module": "@jupyter-widgets/controls",
     "model_module_version": "1.5.0",
     "model_name": "DescriptionStyleModel",
     "state": {
      "_model_module": "@jupyter-widgets/controls",
      "_model_module_version": "1.5.0",
      "_model_name": "DescriptionStyleModel",
      "_view_count": null,
      "_view_module": "@jupyter-widgets/base",
      "_view_module_version": "1.2.0",
      "_view_name": "StyleView",
      "description_width": ""
     }
    },
    "0886609f0ddf4e21b597d83eb19b9929": {
     "model_module": "@jupyter-widgets/base",
     "model_module_version": "1.2.0",
     "model_name": "LayoutModel",
     "state": {
      "_model_module": "@jupyter-widgets/base",
      "_model_module_version": "1.2.0",
      "_model_name": "LayoutModel",
      "_view_count": null,
      "_view_module": "@jupyter-widgets/base",
      "_view_module_version": "1.2.0",
      "_view_name": "LayoutView",
      "align_content": null,
      "align_items": null,
      "align_self": null,
      "border": null,
      "bottom": null,
      "display": null,
      "flex": null,
      "flex_flow": null,
      "grid_area": null,
      "grid_auto_columns": null,
      "grid_auto_flow": null,
      "grid_auto_rows": null,
      "grid_column": null,
      "grid_gap": null,
      "grid_row": null,
      "grid_template_areas": null,
      "grid_template_columns": null,
      "grid_template_rows": null,
      "height": null,
      "justify_content": null,
      "justify_items": null,
      "left": null,
      "margin": null,
      "max_height": null,
      "max_width": null,
      "min_height": null,
      "min_width": null,
      "object_fit": null,
      "object_position": null,
      "order": null,
      "overflow": null,
      "overflow_x": null,
      "overflow_y": null,
      "padding": null,
      "right": null,
      "top": null,
      "visibility": null,
      "width": null
     }
    },
    "0ab42f5501e14cd78341504368b80fba": {
     "model_module": "@jupyter-widgets/base",
     "model_module_version": "1.2.0",
     "model_name": "LayoutModel",
     "state": {
      "_model_module": "@jupyter-widgets/base",
      "_model_module_version": "1.2.0",
      "_model_name": "LayoutModel",
      "_view_count": null,
      "_view_module": "@jupyter-widgets/base",
      "_view_module_version": "1.2.0",
      "_view_name": "LayoutView",
      "align_content": null,
      "align_items": null,
      "align_self": null,
      "border": null,
      "bottom": null,
      "display": null,
      "flex": null,
      "flex_flow": null,
      "grid_area": null,
      "grid_auto_columns": null,
      "grid_auto_flow": null,
      "grid_auto_rows": null,
      "grid_column": null,
      "grid_gap": null,
      "grid_row": null,
      "grid_template_areas": null,
      "grid_template_columns": null,
      "grid_template_rows": null,
      "height": null,
      "justify_content": null,
      "justify_items": null,
      "left": null,
      "margin": null,
      "max_height": null,
      "max_width": null,
      "min_height": null,
      "min_width": null,
      "object_fit": null,
      "object_position": null,
      "order": null,
      "overflow": null,
      "overflow_x": null,
      "overflow_y": null,
      "padding": null,
      "right": null,
      "top": null,
      "visibility": "hidden",
      "width": null
     }
    },
    "1045b02be7c148dd93fd164abd00b9cc": {
     "model_module": "@jupyter-widgets/controls",
     "model_module_version": "1.5.0",
     "model_name": "ProgressStyleModel",
     "state": {
      "_model_module": "@jupyter-widgets/controls",
      "_model_module_version": "1.5.0",
      "_model_name": "ProgressStyleModel",
      "_view_count": null,
      "_view_module": "@jupyter-widgets/base",
      "_view_module_version": "1.2.0",
      "_view_name": "StyleView",
      "bar_color": null,
      "description_width": ""
     }
    },
    "153e051facf147549fb476f6a85c678e": {
     "model_module": "@jupyter-widgets/controls",
     "model_module_version": "1.5.0",
     "model_name": "DescriptionStyleModel",
     "state": {
      "_model_module": "@jupyter-widgets/controls",
      "_model_module_version": "1.5.0",
      "_model_name": "DescriptionStyleModel",
      "_view_count": null,
      "_view_module": "@jupyter-widgets/base",
      "_view_module_version": "1.2.0",
      "_view_name": "StyleView",
      "description_width": ""
     }
    },
    "17fbeed2f2ce48bc9e5e46abe2375c01": {
     "model_module": "@jupyter-widgets/controls",
     "model_module_version": "1.5.0",
     "model_name": "HBoxModel",
     "state": {
      "_dom_classes": [],
      "_model_module": "@jupyter-widgets/controls",
      "_model_module_version": "1.5.0",
      "_model_name": "HBoxModel",
      "_view_count": null,
      "_view_module": "@jupyter-widgets/controls",
      "_view_module_version": "1.5.0",
      "_view_name": "HBoxView",
      "box_style": "",
      "children": [
       "IPY_MODEL_5d15a95034ec46d7b4e1a8a1eb026dda",
       "IPY_MODEL_b13dcae515be484f8c32e7e15f08185c",
       "IPY_MODEL_0275bae9cc8948ce91a4c0ece18fe121"
      ],
      "layout": "IPY_MODEL_c875779be63e4f4895120c09dd8e3f77"
     }
    },
    "21b6db3815cb4d2284868ab45b0c4adf": {
     "model_module": "@jupyter-widgets/controls",
     "model_module_version": "1.5.0",
     "model_name": "HTMLModel",
     "state": {
      "_dom_classes": [],
      "_model_module": "@jupyter-widgets/controls",
      "_model_module_version": "1.5.0",
      "_model_name": "HTMLModel",
      "_view_count": null,
      "_view_module": "@jupyter-widgets/controls",
      "_view_module_version": "1.5.0",
      "_view_name": "HTMLView",
      "description": "",
      "description_tooltip": null,
      "layout": "IPY_MODEL_b76642d67a404c2c9b9aea75a2bd7951",
      "placeholder": "​",
      "style": "IPY_MODEL_27cf2c1fea2b4252bd4807c668a9aa55",
      "value": "Generating recommendations: 100%"
     }
    },
    "24a3a431bbd343349000f981701f37e7": {
     "model_module": "@jupyter-widgets/controls",
     "model_module_version": "1.5.0",
     "model_name": "DescriptionStyleModel",
     "state": {
      "_model_module": "@jupyter-widgets/controls",
      "_model_module_version": "1.5.0",
      "_model_name": "DescriptionStyleModel",
      "_view_count": null,
      "_view_module": "@jupyter-widgets/base",
      "_view_module_version": "1.2.0",
      "_view_name": "StyleView",
      "description_width": ""
     }
    },
    "27cf2c1fea2b4252bd4807c668a9aa55": {
     "model_module": "@jupyter-widgets/controls",
     "model_module_version": "1.5.0",
     "model_name": "DescriptionStyleModel",
     "state": {
      "_model_module": "@jupyter-widgets/controls",
      "_model_module_version": "1.5.0",
      "_model_name": "DescriptionStyleModel",
      "_view_count": null,
      "_view_module": "@jupyter-widgets/base",
      "_view_module_version": "1.2.0",
      "_view_name": "StyleView",
      "description_width": ""
     }
    },
    "29f1b46d947c427ab952c7d278349162": {
     "model_module": "@jupyter-widgets/controls",
     "model_module_version": "1.5.0",
     "model_name": "HTMLModel",
     "state": {
      "_dom_classes": [],
      "_model_module": "@jupyter-widgets/controls",
      "_model_module_version": "1.5.0",
      "_model_name": "HTMLModel",
      "_view_count": null,
      "_view_module": "@jupyter-widgets/controls",
      "_view_module_version": "1.5.0",
      "_view_name": "HTMLView",
      "description": "",
      "description_tooltip": null,
      "layout": "IPY_MODEL_adec2f1b89074f2c9cc9aaac55796dfc",
      "placeholder": "​",
      "style": "IPY_MODEL_fd43ea01af9f4287bfbc195a668a482f",
      "value": " 707/707 [00:19&lt;00:00, 40.07it/s]"
     }
    },
    "2b233c5b84c247169dc75a79d4904cae": {
     "model_module": "@jupyter-widgets/controls",
     "model_module_version": "1.5.0",
     "model_name": "HBoxModel",
     "state": {
      "_dom_classes": [],
      "_model_module": "@jupyter-widgets/controls",
      "_model_module_version": "1.5.0",
      "_model_name": "HBoxModel",
      "_view_count": null,
      "_view_module": "@jupyter-widgets/controls",
      "_view_module_version": "1.5.0",
      "_view_name": "HBoxView",
      "box_style": "",
      "children": [
       "IPY_MODEL_033ff6e89f0b4f6c874e93563bb7cc0f",
       "IPY_MODEL_b925c90da7b7499a8773076aff95b357",
       "IPY_MODEL_90768baace454af3a6598004b1282043"
      ],
      "layout": "IPY_MODEL_0ab42f5501e14cd78341504368b80fba"
     }
    },
    "2dd75b0ae2bf4f97bfb53d74ea9f7cf8": {
     "model_module": "@jupyter-widgets/base",
     "model_module_version": "1.2.0",
     "model_name": "LayoutModel",
     "state": {
      "_model_module": "@jupyter-widgets/base",
      "_model_module_version": "1.2.0",
      "_model_name": "LayoutModel",
      "_view_count": null,
      "_view_module": "@jupyter-widgets/base",
      "_view_module_version": "1.2.0",
      "_view_name": "LayoutView",
      "align_content": null,
      "align_items": null,
      "align_self": null,
      "border": null,
      "bottom": null,
      "display": null,
      "flex": null,
      "flex_flow": null,
      "grid_area": null,
      "grid_auto_columns": null,
      "grid_auto_flow": null,
      "grid_auto_rows": null,
      "grid_column": null,
      "grid_gap": null,
      "grid_row": null,
      "grid_template_areas": null,
      "grid_template_columns": null,
      "grid_template_rows": null,
      "height": null,
      "justify_content": null,
      "justify_items": null,
      "left": null,
      "margin": null,
      "max_height": null,
      "max_width": null,
      "min_height": null,
      "min_width": null,
      "object_fit": null,
      "object_position": null,
      "order": null,
      "overflow": null,
      "overflow_x": null,
      "overflow_y": null,
      "padding": null,
      "right": null,
      "top": null,
      "visibility": null,
      "width": null
     }
    },
    "30cf8992d89e43329e43a309ff6be1e8": {
     "model_module": "@jupyter-widgets/controls",
     "model_module_version": "1.5.0",
     "model_name": "DescriptionStyleModel",
     "state": {
      "_model_module": "@jupyter-widgets/controls",
      "_model_module_version": "1.5.0",
      "_model_name": "DescriptionStyleModel",
      "_view_count": null,
      "_view_module": "@jupyter-widgets/base",
      "_view_module_version": "1.2.0",
      "_view_name": "StyleView",
      "description_width": ""
     }
    },
    "35dbfbe86b504220bf12892973d3f9f9": {
     "model_module": "@jupyter-widgets/controls",
     "model_module_version": "1.5.0",
     "model_name": "DescriptionStyleModel",
     "state": {
      "_model_module": "@jupyter-widgets/controls",
      "_model_module_version": "1.5.0",
      "_model_name": "DescriptionStyleModel",
      "_view_count": null,
      "_view_module": "@jupyter-widgets/base",
      "_view_module_version": "1.2.0",
      "_view_name": "StyleView",
      "description_width": ""
     }
    },
    "38a8b46ca3fb4dbe904b83d00c52912f": {
     "model_module": "@jupyter-widgets/controls",
     "model_module_version": "1.5.0",
     "model_name": "ProgressStyleModel",
     "state": {
      "_model_module": "@jupyter-widgets/controls",
      "_model_module_version": "1.5.0",
      "_model_name": "ProgressStyleModel",
      "_view_count": null,
      "_view_module": "@jupyter-widgets/base",
      "_view_module_version": "1.2.0",
      "_view_name": "StyleView",
      "bar_color": null,
      "description_width": ""
     }
    },
    "3b76e235e9cf4c0f9dc40c2e1069f96c": {
     "model_module": "@jupyter-widgets/base",
     "model_module_version": "1.2.0",
     "model_name": "LayoutModel",
     "state": {
      "_model_module": "@jupyter-widgets/base",
      "_model_module_version": "1.2.0",
      "_model_name": "LayoutModel",
      "_view_count": null,
      "_view_module": "@jupyter-widgets/base",
      "_view_module_version": "1.2.0",
      "_view_name": "LayoutView",
      "align_content": null,
      "align_items": null,
      "align_self": null,
      "border": null,
      "bottom": null,
      "display": null,
      "flex": null,
      "flex_flow": null,
      "grid_area": null,
      "grid_auto_columns": null,
      "grid_auto_flow": null,
      "grid_auto_rows": null,
      "grid_column": null,
      "grid_gap": null,
      "grid_row": null,
      "grid_template_areas": null,
      "grid_template_columns": null,
      "grid_template_rows": null,
      "height": null,
      "justify_content": null,
      "justify_items": null,
      "left": null,
      "margin": null,
      "max_height": null,
      "max_width": null,
      "min_height": null,
      "min_width": null,
      "object_fit": null,
      "object_position": null,
      "order": null,
      "overflow": null,
      "overflow_x": null,
      "overflow_y": null,
      "padding": null,
      "right": null,
      "top": null,
      "visibility": null,
      "width": null
     }
    },
    "3e848ba674f847378a3962bc34bae7cc": {
     "model_module": "@jupyter-widgets/base",
     "model_module_version": "1.2.0",
     "model_name": "LayoutModel",
     "state": {
      "_model_module": "@jupyter-widgets/base",
      "_model_module_version": "1.2.0",
      "_model_name": "LayoutModel",
      "_view_count": null,
      "_view_module": "@jupyter-widgets/base",
      "_view_module_version": "1.2.0",
      "_view_name": "LayoutView",
      "align_content": null,
      "align_items": null,
      "align_self": null,
      "border": null,
      "bottom": null,
      "display": null,
      "flex": null,
      "flex_flow": null,
      "grid_area": null,
      "grid_auto_columns": null,
      "grid_auto_flow": null,
      "grid_auto_rows": null,
      "grid_column": null,
      "grid_gap": null,
      "grid_row": null,
      "grid_template_areas": null,
      "grid_template_columns": null,
      "grid_template_rows": null,
      "height": null,
      "justify_content": null,
      "justify_items": null,
      "left": null,
      "margin": null,
      "max_height": null,
      "max_width": null,
      "min_height": null,
      "min_width": null,
      "object_fit": null,
      "object_position": null,
      "order": null,
      "overflow": null,
      "overflow_x": null,
      "overflow_y": null,
      "padding": null,
      "right": null,
      "top": null,
      "visibility": null,
      "width": null
     }
    },
    "3ea070443d0a4578823ff73cd299c214": {
     "model_module": "@jupyter-widgets/base",
     "model_module_version": "1.2.0",
     "model_name": "LayoutModel",
     "state": {
      "_model_module": "@jupyter-widgets/base",
      "_model_module_version": "1.2.0",
      "_model_name": "LayoutModel",
      "_view_count": null,
      "_view_module": "@jupyter-widgets/base",
      "_view_module_version": "1.2.0",
      "_view_name": "LayoutView",
      "align_content": null,
      "align_items": null,
      "align_self": null,
      "border": null,
      "bottom": null,
      "display": null,
      "flex": null,
      "flex_flow": null,
      "grid_area": null,
      "grid_auto_columns": null,
      "grid_auto_flow": null,
      "grid_auto_rows": null,
      "grid_column": null,
      "grid_gap": null,
      "grid_row": null,
      "grid_template_areas": null,
      "grid_template_columns": null,
      "grid_template_rows": null,
      "height": null,
      "justify_content": null,
      "justify_items": null,
      "left": null,
      "margin": null,
      "max_height": null,
      "max_width": null,
      "min_height": null,
      "min_width": null,
      "object_fit": null,
      "object_position": null,
      "order": null,
      "overflow": null,
      "overflow_x": null,
      "overflow_y": null,
      "padding": null,
      "right": null,
      "top": null,
      "visibility": null,
      "width": "20px"
     }
    },
    "3ecee7186e384bd689533e462613a4b1": {
     "model_module": "@jupyter-widgets/base",
     "model_module_version": "1.2.0",
     "model_name": "LayoutModel",
     "state": {
      "_model_module": "@jupyter-widgets/base",
      "_model_module_version": "1.2.0",
      "_model_name": "LayoutModel",
      "_view_count": null,
      "_view_module": "@jupyter-widgets/base",
      "_view_module_version": "1.2.0",
      "_view_name": "LayoutView",
      "align_content": null,
      "align_items": null,
      "align_self": null,
      "border": null,
      "bottom": null,
      "display": null,
      "flex": null,
      "flex_flow": null,
      "grid_area": null,
      "grid_auto_columns": null,
      "grid_auto_flow": null,
      "grid_auto_rows": null,
      "grid_column": null,
      "grid_gap": null,
      "grid_row": null,
      "grid_template_areas": null,
      "grid_template_columns": null,
      "grid_template_rows": null,
      "height": null,
      "justify_content": null,
      "justify_items": null,
      "left": null,
      "margin": null,
      "max_height": null,
      "max_width": null,
      "min_height": null,
      "min_width": null,
      "object_fit": null,
      "object_position": null,
      "order": null,
      "overflow": null,
      "overflow_x": null,
      "overflow_y": null,
      "padding": null,
      "right": null,
      "top": null,
      "visibility": null,
      "width": null
     }
    },
    "438dff409275412db4733518cf1ef454": {
     "model_module": "@jupyter-widgets/controls",
     "model_module_version": "1.5.0",
     "model_name": "ProgressStyleModel",
     "state": {
      "_model_module": "@jupyter-widgets/controls",
      "_model_module_version": "1.5.0",
      "_model_name": "ProgressStyleModel",
      "_view_count": null,
      "_view_module": "@jupyter-widgets/base",
      "_view_module_version": "1.2.0",
      "_view_name": "StyleView",
      "bar_color": null,
      "description_width": ""
     }
    },
    "43c779d41b514b94a9a3675d31f8ec03": {
     "model_module": "@jupyter-widgets/controls",
     "model_module_version": "1.5.0",
     "model_name": "DescriptionStyleModel",
     "state": {
      "_model_module": "@jupyter-widgets/controls",
      "_model_module_version": "1.5.0",
      "_model_name": "DescriptionStyleModel",
      "_view_count": null,
      "_view_module": "@jupyter-widgets/base",
      "_view_module_version": "1.2.0",
      "_view_name": "StyleView",
      "description_width": ""
     }
    },
    "45c31a968eb44ab6b9f21ed0b737c4be": {
     "model_module": "@jupyter-widgets/base",
     "model_module_version": "1.2.0",
     "model_name": "LayoutModel",
     "state": {
      "_model_module": "@jupyter-widgets/base",
      "_model_module_version": "1.2.0",
      "_model_name": "LayoutModel",
      "_view_count": null,
      "_view_module": "@jupyter-widgets/base",
      "_view_module_version": "1.2.0",
      "_view_name": "LayoutView",
      "align_content": null,
      "align_items": null,
      "align_self": null,
      "border": null,
      "bottom": null,
      "display": null,
      "flex": null,
      "flex_flow": null,
      "grid_area": null,
      "grid_auto_columns": null,
      "grid_auto_flow": null,
      "grid_auto_rows": null,
      "grid_column": null,
      "grid_gap": null,
      "grid_row": null,
      "grid_template_areas": null,
      "grid_template_columns": null,
      "grid_template_rows": null,
      "height": null,
      "justify_content": null,
      "justify_items": null,
      "left": null,
      "margin": null,
      "max_height": null,
      "max_width": null,
      "min_height": null,
      "min_width": null,
      "object_fit": null,
      "object_position": null,
      "order": null,
      "overflow": null,
      "overflow_x": null,
      "overflow_y": null,
      "padding": null,
      "right": null,
      "top": null,
      "visibility": null,
      "width": null
     }
    },
    "4d35003cfefd4d878c18b531d83e0719": {
     "model_module": "@jupyter-widgets/controls",
     "model_module_version": "1.5.0",
     "model_name": "HTMLModel",
     "state": {
      "_dom_classes": [],
      "_model_module": "@jupyter-widgets/controls",
      "_model_module_version": "1.5.0",
      "_model_name": "HTMLModel",
      "_view_count": null,
      "_view_module": "@jupyter-widgets/controls",
      "_view_module_version": "1.5.0",
      "_view_name": "HTMLView",
      "description": "",
      "description_tooltip": null,
      "layout": "IPY_MODEL_3b76e235e9cf4c0f9dc40c2e1069f96c",
      "placeholder": "​",
      "style": "IPY_MODEL_8d4279c2ad634c55b37a56b394e7e34b",
      "value": " 707/707 [00:04&lt;00:00, 129.76it/s]"
     }
    },
    "4d63a4e5a3344ddda9753beafbda2ae9": {
     "model_module": "@jupyter-widgets/controls",
     "model_module_version": "1.5.0",
     "model_name": "HTMLModel",
     "state": {
      "_dom_classes": [],
      "_model_module": "@jupyter-widgets/controls",
      "_model_module_version": "1.5.0",
      "_model_name": "HTMLModel",
      "_view_count": null,
      "_view_module": "@jupyter-widgets/controls",
      "_view_module_version": "1.5.0",
      "_view_name": "HTMLView",
      "description": "",
      "description_tooltip": null,
      "layout": "IPY_MODEL_a5386d14e89e4271ba6fc4b5e9d92ef5",
      "placeholder": "​",
      "style": "IPY_MODEL_b3b0de8a45594dff8774f26179504da9",
      "value": " 707/707 [00:02&lt;00:00, 281.15it/s]"
     }
    },
    "513f4577e7d947fe934df0d6076e5c57": {
     "model_module": "@jupyter-widgets/controls",
     "model_module_version": "1.5.0",
     "model_name": "ProgressStyleModel",
     "state": {
      "_model_module": "@jupyter-widgets/controls",
      "_model_module_version": "1.5.0",
      "_model_name": "ProgressStyleModel",
      "_view_count": null,
      "_view_module": "@jupyter-widgets/base",
      "_view_module_version": "1.2.0",
      "_view_name": "StyleView",
      "bar_color": null,
      "description_width": ""
     }
    },
    "5215c182538845fca7450594a0386e3e": {
     "model_module": "@jupyter-widgets/base",
     "model_module_version": "1.2.0",
     "model_name": "LayoutModel",
     "state": {
      "_model_module": "@jupyter-widgets/base",
      "_model_module_version": "1.2.0",
      "_model_name": "LayoutModel",
      "_view_count": null,
      "_view_module": "@jupyter-widgets/base",
      "_view_module_version": "1.2.0",
      "_view_name": "LayoutView",
      "align_content": null,
      "align_items": null,
      "align_self": null,
      "border": null,
      "bottom": null,
      "display": null,
      "flex": null,
      "flex_flow": null,
      "grid_area": null,
      "grid_auto_columns": null,
      "grid_auto_flow": null,
      "grid_auto_rows": null,
      "grid_column": null,
      "grid_gap": null,
      "grid_row": null,
      "grid_template_areas": null,
      "grid_template_columns": null,
      "grid_template_rows": null,
      "height": null,
      "justify_content": null,
      "justify_items": null,
      "left": null,
      "margin": null,
      "max_height": null,
      "max_width": null,
      "min_height": null,
      "min_width": null,
      "object_fit": null,
      "object_position": null,
      "order": null,
      "overflow": null,
      "overflow_x": null,
      "overflow_y": null,
      "padding": null,
      "right": null,
      "top": null,
      "visibility": null,
      "width": null
     }
    },
    "55d8f02412804a088f8ca501e6d2bfe3": {
     "model_module": "@jupyter-widgets/controls",
     "model_module_version": "1.5.0",
     "model_name": "ProgressStyleModel",
     "state": {
      "_model_module": "@jupyter-widgets/controls",
      "_model_module_version": "1.5.0",
      "_model_name": "ProgressStyleModel",
      "_view_count": null,
      "_view_module": "@jupyter-widgets/base",
      "_view_module_version": "1.2.0",
      "_view_name": "StyleView",
      "bar_color": null,
      "description_width": ""
     }
    },
    "5d15a95034ec46d7b4e1a8a1eb026dda": {
     "model_module": "@jupyter-widgets/controls",
     "model_module_version": "1.5.0",
     "model_name": "HTMLModel",
     "state": {
      "_dom_classes": [],
      "_model_module": "@jupyter-widgets/controls",
      "_model_module_version": "1.5.0",
      "_model_name": "HTMLModel",
      "_view_count": null,
      "_view_module": "@jupyter-widgets/controls",
      "_view_module_version": "1.5.0",
      "_view_name": "HTMLView",
      "description": "",
      "description_tooltip": null,
      "layout": "IPY_MODEL_7576fe3b2de04b8db6dcd82093c87030",
      "placeholder": "​",
      "style": "IPY_MODEL_cd2a9081881e4533baf5cde3496b4dd4",
      "value": "Grid Search: 100%"
     }
    },
    "609989c909124ea9b32eaa3acdc48848": {
     "model_module": "@jupyter-widgets/controls",
     "model_module_version": "1.5.0",
     "model_name": "ProgressStyleModel",
     "state": {
      "_model_module": "@jupyter-widgets/controls",
      "_model_module_version": "1.5.0",
      "_model_name": "ProgressStyleModel",
      "_view_count": null,
      "_view_module": "@jupyter-widgets/base",
      "_view_module_version": "1.2.0",
      "_view_name": "StyleView",
      "bar_color": null,
      "description_width": ""
     }
    },
    "612320607c6c4b088ae67b67adb2ebad": {
     "model_module": "@jupyter-widgets/base",
     "model_module_version": "1.2.0",
     "model_name": "LayoutModel",
     "state": {
      "_model_module": "@jupyter-widgets/base",
      "_model_module_version": "1.2.0",
      "_model_name": "LayoutModel",
      "_view_count": null,
      "_view_module": "@jupyter-widgets/base",
      "_view_module_version": "1.2.0",
      "_view_name": "LayoutView",
      "align_content": null,
      "align_items": null,
      "align_self": null,
      "border": null,
      "bottom": null,
      "display": null,
      "flex": null,
      "flex_flow": null,
      "grid_area": null,
      "grid_auto_columns": null,
      "grid_auto_flow": null,
      "grid_auto_rows": null,
      "grid_column": null,
      "grid_gap": null,
      "grid_row": null,
      "grid_template_areas": null,
      "grid_template_columns": null,
      "grid_template_rows": null,
      "height": null,
      "justify_content": null,
      "justify_items": null,
      "left": null,
      "margin": null,
      "max_height": null,
      "max_width": null,
      "min_height": null,
      "min_width": null,
      "object_fit": null,
      "object_position": null,
      "order": null,
      "overflow": null,
      "overflow_x": null,
      "overflow_y": null,
      "padding": null,
      "right": null,
      "top": null,
      "visibility": null,
      "width": null
     }
    },
    "6131e49a18944b3ca41e17b02767e714": {
     "model_module": "@jupyter-widgets/controls",
     "model_module_version": "1.5.0",
     "model_name": "ProgressStyleModel",
     "state": {
      "_model_module": "@jupyter-widgets/controls",
      "_model_module_version": "1.5.0",
      "_model_name": "ProgressStyleModel",
      "_view_count": null,
      "_view_module": "@jupyter-widgets/base",
      "_view_module_version": "1.2.0",
      "_view_name": "StyleView",
      "bar_color": null,
      "description_width": ""
     }
    },
    "64ae617accd4438dbd987bef1f524ae6": {
     "model_module": "@jupyter-widgets/controls",
     "model_module_version": "1.5.0",
     "model_name": "HTMLModel",
     "state": {
      "_dom_classes": [],
      "_model_module": "@jupyter-widgets/controls",
      "_model_module_version": "1.5.0",
      "_model_name": "HTMLModel",
      "_view_count": null,
      "_view_module": "@jupyter-widgets/controls",
      "_view_module_version": "1.5.0",
      "_view_name": "HTMLView",
      "description": "",
      "description_tooltip": null,
      "layout": "IPY_MODEL_664969141aad48c8b85464afe6909b09",
      "placeholder": "​",
      "style": "IPY_MODEL_8620317349844d4b827693c143198442",
      "value": "Re-ranking FunkSVD with Popularity Penalization: 100%"
     }
    },
    "664969141aad48c8b85464afe6909b09": {
     "model_module": "@jupyter-widgets/base",
     "model_module_version": "1.2.0",
     "model_name": "LayoutModel",
     "state": {
      "_model_module": "@jupyter-widgets/base",
      "_model_module_version": "1.2.0",
      "_model_name": "LayoutModel",
      "_view_count": null,
      "_view_module": "@jupyter-widgets/base",
      "_view_module_version": "1.2.0",
      "_view_name": "LayoutView",
      "align_content": null,
      "align_items": null,
      "align_self": null,
      "border": null,
      "bottom": null,
      "display": null,
      "flex": null,
      "flex_flow": null,
      "grid_area": null,
      "grid_auto_columns": null,
      "grid_auto_flow": null,
      "grid_auto_rows": null,
      "grid_column": null,
      "grid_gap": null,
      "grid_row": null,
      "grid_template_areas": null,
      "grid_template_columns": null,
      "grid_template_rows": null,
      "height": null,
      "justify_content": null,
      "justify_items": null,
      "left": null,
      "margin": null,
      "max_height": null,
      "max_width": null,
      "min_height": null,
      "min_width": null,
      "object_fit": null,
      "object_position": null,
      "order": null,
      "overflow": null,
      "overflow_x": null,
      "overflow_y": null,
      "padding": null,
      "right": null,
      "top": null,
      "visibility": null,
      "width": null
     }
    },
    "68b8874012ac4a6589f2e8843a871195": {
     "model_module": "@jupyter-widgets/base",
     "model_module_version": "1.2.0",
     "model_name": "LayoutModel",
     "state": {
      "_model_module": "@jupyter-widgets/base",
      "_model_module_version": "1.2.0",
      "_model_name": "LayoutModel",
      "_view_count": null,
      "_view_module": "@jupyter-widgets/base",
      "_view_module_version": "1.2.0",
      "_view_name": "LayoutView",
      "align_content": null,
      "align_items": null,
      "align_self": null,
      "border": null,
      "bottom": null,
      "display": null,
      "flex": null,
      "flex_flow": null,
      "grid_area": null,
      "grid_auto_columns": null,
      "grid_auto_flow": null,
      "grid_auto_rows": null,
      "grid_column": null,
      "grid_gap": null,
      "grid_row": null,
      "grid_template_areas": null,
      "grid_template_columns": null,
      "grid_template_rows": null,
      "height": null,
      "justify_content": null,
      "justify_items": null,
      "left": null,
      "margin": null,
      "max_height": null,
      "max_width": null,
      "min_height": null,
      "min_width": null,
      "object_fit": null,
      "object_position": null,
      "order": null,
      "overflow": null,
      "overflow_x": null,
      "overflow_y": null,
      "padding": null,
      "right": null,
      "top": null,
      "visibility": null,
      "width": null
     }
    },
    "6a0f5beb472a4a9fbc8e38f7a44a2beb": {
     "model_module": "@jupyter-widgets/base",
     "model_module_version": "1.2.0",
     "model_name": "LayoutModel",
     "state": {
      "_model_module": "@jupyter-widgets/base",
      "_model_module_version": "1.2.0",
      "_model_name": "LayoutModel",
      "_view_count": null,
      "_view_module": "@jupyter-widgets/base",
      "_view_module_version": "1.2.0",
      "_view_name": "LayoutView",
      "align_content": null,
      "align_items": null,
      "align_self": null,
      "border": null,
      "bottom": null,
      "display": null,
      "flex": null,
      "flex_flow": null,
      "grid_area": null,
      "grid_auto_columns": null,
      "grid_auto_flow": null,
      "grid_auto_rows": null,
      "grid_column": null,
      "grid_gap": null,
      "grid_row": null,
      "grid_template_areas": null,
      "grid_template_columns": null,
      "grid_template_rows": null,
      "height": null,
      "justify_content": null,
      "justify_items": null,
      "left": null,
      "margin": null,
      "max_height": null,
      "max_width": null,
      "min_height": null,
      "min_width": null,
      "object_fit": null,
      "object_position": null,
      "order": null,
      "overflow": null,
      "overflow_x": null,
      "overflow_y": null,
      "padding": null,
      "right": null,
      "top": null,
      "visibility": null,
      "width": null
     }
    },
    "700612f3d83642bfbf5e8925ff430fc1": {
     "model_module": "@jupyter-widgets/base",
     "model_module_version": "1.2.0",
     "model_name": "LayoutModel",
     "state": {
      "_model_module": "@jupyter-widgets/base",
      "_model_module_version": "1.2.0",
      "_model_name": "LayoutModel",
      "_view_count": null,
      "_view_module": "@jupyter-widgets/base",
      "_view_module_version": "1.2.0",
      "_view_name": "LayoutView",
      "align_content": null,
      "align_items": null,
      "align_self": null,
      "border": null,
      "bottom": null,
      "display": null,
      "flex": null,
      "flex_flow": null,
      "grid_area": null,
      "grid_auto_columns": null,
      "grid_auto_flow": null,
      "grid_auto_rows": null,
      "grid_column": null,
      "grid_gap": null,
      "grid_row": null,
      "grid_template_areas": null,
      "grid_template_columns": null,
      "grid_template_rows": null,
      "height": null,
      "justify_content": null,
      "justify_items": null,
      "left": null,
      "margin": null,
      "max_height": null,
      "max_width": null,
      "min_height": null,
      "min_width": null,
      "object_fit": null,
      "object_position": null,
      "order": null,
      "overflow": null,
      "overflow_x": null,
      "overflow_y": null,
      "padding": null,
      "right": null,
      "top": null,
      "visibility": null,
      "width": null
     }
    },
    "7576fe3b2de04b8db6dcd82093c87030": {
     "model_module": "@jupyter-widgets/base",
     "model_module_version": "1.2.0",
     "model_name": "LayoutModel",
     "state": {
      "_model_module": "@jupyter-widgets/base",
      "_model_module_version": "1.2.0",
      "_model_name": "LayoutModel",
      "_view_count": null,
      "_view_module": "@jupyter-widgets/base",
      "_view_module_version": "1.2.0",
      "_view_name": "LayoutView",
      "align_content": null,
      "align_items": null,
      "align_self": null,
      "border": null,
      "bottom": null,
      "display": null,
      "flex": null,
      "flex_flow": null,
      "grid_area": null,
      "grid_auto_columns": null,
      "grid_auto_flow": null,
      "grid_auto_rows": null,
      "grid_column": null,
      "grid_gap": null,
      "grid_row": null,
      "grid_template_areas": null,
      "grid_template_columns": null,
      "grid_template_rows": null,
      "height": null,
      "justify_content": null,
      "justify_items": null,
      "left": null,
      "margin": null,
      "max_height": null,
      "max_width": null,
      "min_height": null,
      "min_width": null,
      "object_fit": null,
      "object_position": null,
      "order": null,
      "overflow": null,
      "overflow_x": null,
      "overflow_y": null,
      "padding": null,
      "right": null,
      "top": null,
      "visibility": null,
      "width": null
     }
    },
    "77c6ff4caf6d4914a7ea6239f3982312": {
     "model_module": "@jupyter-widgets/controls",
     "model_module_version": "1.5.0",
     "model_name": "HTMLModel",
     "state": {
      "_dom_classes": [],
      "_model_module": "@jupyter-widgets/controls",
      "_model_module_version": "1.5.0",
      "_model_name": "HTMLModel",
      "_view_count": null,
      "_view_module": "@jupyter-widgets/controls",
      "_view_module_version": "1.5.0",
      "_view_name": "HTMLView",
      "description": "",
      "description_tooltip": null,
      "layout": "IPY_MODEL_7b0639c510bd4bc38e3e46185d7c163c",
      "placeholder": "​",
      "style": "IPY_MODEL_03b9f6e676ac47a289de78876351a462",
      "value": " 707/707 [00:27&lt;00:00, 42.85it/s]"
     }
    },
    "79678d77b06e49e4afe732b0bbe1d75c": {
     "model_module": "@jupyter-widgets/base",
     "model_module_version": "1.2.0",
     "model_name": "LayoutModel",
     "state": {
      "_model_module": "@jupyter-widgets/base",
      "_model_module_version": "1.2.0",
      "_model_name": "LayoutModel",
      "_view_count": null,
      "_view_module": "@jupyter-widgets/base",
      "_view_module_version": "1.2.0",
      "_view_name": "LayoutView",
      "align_content": null,
      "align_items": null,
      "align_self": null,
      "border": null,
      "bottom": null,
      "display": null,
      "flex": null,
      "flex_flow": null,
      "grid_area": null,
      "grid_auto_columns": null,
      "grid_auto_flow": null,
      "grid_auto_rows": null,
      "grid_column": null,
      "grid_gap": null,
      "grid_row": null,
      "grid_template_areas": null,
      "grid_template_columns": null,
      "grid_template_rows": null,
      "height": null,
      "justify_content": null,
      "justify_items": null,
      "left": null,
      "margin": null,
      "max_height": null,
      "max_width": null,
      "min_height": null,
      "min_width": null,
      "object_fit": null,
      "object_position": null,
      "order": null,
      "overflow": null,
      "overflow_x": null,
      "overflow_y": null,
      "padding": null,
      "right": null,
      "top": null,
      "visibility": null,
      "width": null
     }
    },
    "7a0c3ec5a4bb4b118c7d0242c4833660": {
     "model_module": "@jupyter-widgets/base",
     "model_module_version": "1.2.0",
     "model_name": "LayoutModel",
     "state": {
      "_model_module": "@jupyter-widgets/base",
      "_model_module_version": "1.2.0",
      "_model_name": "LayoutModel",
      "_view_count": null,
      "_view_module": "@jupyter-widgets/base",
      "_view_module_version": "1.2.0",
      "_view_name": "LayoutView",
      "align_content": null,
      "align_items": null,
      "align_self": null,
      "border": null,
      "bottom": null,
      "display": null,
      "flex": null,
      "flex_flow": null,
      "grid_area": null,
      "grid_auto_columns": null,
      "grid_auto_flow": null,
      "grid_auto_rows": null,
      "grid_column": null,
      "grid_gap": null,
      "grid_row": null,
      "grid_template_areas": null,
      "grid_template_columns": null,
      "grid_template_rows": null,
      "height": null,
      "justify_content": null,
      "justify_items": null,
      "left": null,
      "margin": null,
      "max_height": null,
      "max_width": null,
      "min_height": null,
      "min_width": null,
      "object_fit": null,
      "object_position": null,
      "order": null,
      "overflow": null,
      "overflow_x": null,
      "overflow_y": null,
      "padding": null,
      "right": null,
      "top": null,
      "visibility": null,
      "width": null
     }
    },
    "7b0639c510bd4bc38e3e46185d7c163c": {
     "model_module": "@jupyter-widgets/base",
     "model_module_version": "1.2.0",
     "model_name": "LayoutModel",
     "state": {
      "_model_module": "@jupyter-widgets/base",
      "_model_module_version": "1.2.0",
      "_model_name": "LayoutModel",
      "_view_count": null,
      "_view_module": "@jupyter-widgets/base",
      "_view_module_version": "1.2.0",
      "_view_name": "LayoutView",
      "align_content": null,
      "align_items": null,
      "align_self": null,
      "border": null,
      "bottom": null,
      "display": null,
      "flex": null,
      "flex_flow": null,
      "grid_area": null,
      "grid_auto_columns": null,
      "grid_auto_flow": null,
      "grid_auto_rows": null,
      "grid_column": null,
      "grid_gap": null,
      "grid_row": null,
      "grid_template_areas": null,
      "grid_template_columns": null,
      "grid_template_rows": null,
      "height": null,
      "justify_content": null,
      "justify_items": null,
      "left": null,
      "margin": null,
      "max_height": null,
      "max_width": null,
      "min_height": null,
      "min_width": null,
      "object_fit": null,
      "object_position": null,
      "order": null,
      "overflow": null,
      "overflow_x": null,
      "overflow_y": null,
      "padding": null,
      "right": null,
      "top": null,
      "visibility": null,
      "width": null
     }
    },
    "83fab6e839fb44ff935ed05f281fdec3": {
     "model_module": "@jupyter-widgets/base",
     "model_module_version": "1.2.0",
     "model_name": "LayoutModel",
     "state": {
      "_model_module": "@jupyter-widgets/base",
      "_model_module_version": "1.2.0",
      "_model_name": "LayoutModel",
      "_view_count": null,
      "_view_module": "@jupyter-widgets/base",
      "_view_module_version": "1.2.0",
      "_view_name": "LayoutView",
      "align_content": null,
      "align_items": null,
      "align_self": null,
      "border": null,
      "bottom": null,
      "display": null,
      "flex": null,
      "flex_flow": null,
      "grid_area": null,
      "grid_auto_columns": null,
      "grid_auto_flow": null,
      "grid_auto_rows": null,
      "grid_column": null,
      "grid_gap": null,
      "grid_row": null,
      "grid_template_areas": null,
      "grid_template_columns": null,
      "grid_template_rows": null,
      "height": null,
      "justify_content": null,
      "justify_items": null,
      "left": null,
      "margin": null,
      "max_height": null,
      "max_width": null,
      "min_height": null,
      "min_width": null,
      "object_fit": null,
      "object_position": null,
      "order": null,
      "overflow": null,
      "overflow_x": null,
      "overflow_y": null,
      "padding": null,
      "right": null,
      "top": null,
      "visibility": null,
      "width": null
     }
    },
    "83fcfc380a654f0694508fddd528303f": {
     "model_module": "@jupyter-widgets/controls",
     "model_module_version": "1.5.0",
     "model_name": "FloatProgressModel",
     "state": {
      "_dom_classes": [],
      "_model_module": "@jupyter-widgets/controls",
      "_model_module_version": "1.5.0",
      "_model_name": "FloatProgressModel",
      "_view_count": null,
      "_view_module": "@jupyter-widgets/controls",
      "_view_module_version": "1.5.0",
      "_view_name": "ProgressView",
      "bar_style": "success",
      "description": "",
      "description_tooltip": null,
      "layout": "IPY_MODEL_6a0f5beb472a4a9fbc8e38f7a44a2beb",
      "max": 707,
      "min": 0,
      "orientation": "horizontal",
      "style": "IPY_MODEL_55d8f02412804a088f8ca501e6d2bfe3",
      "value": 707
     }
    },
    "8620317349844d4b827693c143198442": {
     "model_module": "@jupyter-widgets/controls",
     "model_module_version": "1.5.0",
     "model_name": "DescriptionStyleModel",
     "state": {
      "_model_module": "@jupyter-widgets/controls",
      "_model_module_version": "1.5.0",
      "_model_name": "DescriptionStyleModel",
      "_view_count": null,
      "_view_module": "@jupyter-widgets/base",
      "_view_module_version": "1.2.0",
      "_view_name": "StyleView",
      "description_width": ""
     }
    },
    "896cb436117b4f73a730c7a064fbc2e4": {
     "model_module": "@jupyter-widgets/controls",
     "model_module_version": "1.5.0",
     "model_name": "HTMLModel",
     "state": {
      "_dom_classes": [],
      "_model_module": "@jupyter-widgets/controls",
      "_model_module_version": "1.5.0",
      "_model_name": "HTMLModel",
      "_view_count": null,
      "_view_module": "@jupyter-widgets/controls",
      "_view_module_version": "1.5.0",
      "_view_name": "HTMLView",
      "description": "",
      "description_tooltip": null,
      "layout": "IPY_MODEL_79678d77b06e49e4afe732b0bbe1d75c",
      "placeholder": "​",
      "style": "IPY_MODEL_35dbfbe86b504220bf12892973d3f9f9",
      "value": " 0/0 [00:00&lt;?, ?it/s]"
     }
    },
    "8d4279c2ad634c55b37a56b394e7e34b": {
     "model_module": "@jupyter-widgets/controls",
     "model_module_version": "1.5.0",
     "model_name": "DescriptionStyleModel",
     "state": {
      "_model_module": "@jupyter-widgets/controls",
      "_model_module_version": "1.5.0",
      "_model_name": "DescriptionStyleModel",
      "_view_count": null,
      "_view_module": "@jupyter-widgets/base",
      "_view_module_version": "1.2.0",
      "_view_name": "StyleView",
      "description_width": ""
     }
    },
    "90768baace454af3a6598004b1282043": {
     "model_module": "@jupyter-widgets/controls",
     "model_module_version": "1.5.0",
     "model_name": "HTMLModel",
     "state": {
      "_dom_classes": [],
      "_model_module": "@jupyter-widgets/controls",
      "_model_module_version": "1.5.0",
      "_model_name": "HTMLModel",
      "_view_count": null,
      "_view_module": "@jupyter-widgets/controls",
      "_view_module_version": "1.5.0",
      "_view_name": "HTMLView",
      "description": "",
      "description_tooltip": null,
      "layout": "IPY_MODEL_700612f3d83642bfbf5e8925ff430fc1",
      "placeholder": "​",
      "style": "IPY_MODEL_ec80a55176884954ab129022237661e6",
      "value": " 50/50 [00:06&lt;00:00,  6.67it/s]"
     }
    },
    "9d3f062c120e4a309cee5043b7564788": {
     "model_module": "@jupyter-widgets/base",
     "model_module_version": "1.2.0",
     "model_name": "LayoutModel",
     "state": {
      "_model_module": "@jupyter-widgets/base",
      "_model_module_version": "1.2.0",
      "_model_name": "LayoutModel",
      "_view_count": null,
      "_view_module": "@jupyter-widgets/base",
      "_view_module_version": "1.2.0",
      "_view_name": "LayoutView",
      "align_content": null,
      "align_items": null,
      "align_self": null,
      "border": null,
      "bottom": null,
      "display": null,
      "flex": null,
      "flex_flow": null,
      "grid_area": null,
      "grid_auto_columns": null,
      "grid_auto_flow": null,
      "grid_auto_rows": null,
      "grid_column": null,
      "grid_gap": null,
      "grid_row": null,
      "grid_template_areas": null,
      "grid_template_columns": null,
      "grid_template_rows": null,
      "height": null,
      "justify_content": null,
      "justify_items": null,
      "left": null,
      "margin": null,
      "max_height": null,
      "max_width": null,
      "min_height": null,
      "min_width": null,
      "object_fit": null,
      "object_position": null,
      "order": null,
      "overflow": null,
      "overflow_x": null,
      "overflow_y": null,
      "padding": null,
      "right": null,
      "top": null,
      "visibility": null,
      "width": null
     }
    },
    "a5386d14e89e4271ba6fc4b5e9d92ef5": {
     "model_module": "@jupyter-widgets/base",
     "model_module_version": "1.2.0",
     "model_name": "LayoutModel",
     "state": {
      "_model_module": "@jupyter-widgets/base",
      "_model_module_version": "1.2.0",
      "_model_name": "LayoutModel",
      "_view_count": null,
      "_view_module": "@jupyter-widgets/base",
      "_view_module_version": "1.2.0",
      "_view_name": "LayoutView",
      "align_content": null,
      "align_items": null,
      "align_self": null,
      "border": null,
      "bottom": null,
      "display": null,
      "flex": null,
      "flex_flow": null,
      "grid_area": null,
      "grid_auto_columns": null,
      "grid_auto_flow": null,
      "grid_auto_rows": null,
      "grid_column": null,
      "grid_gap": null,
      "grid_row": null,
      "grid_template_areas": null,
      "grid_template_columns": null,
      "grid_template_rows": null,
      "height": null,
      "justify_content": null,
      "justify_items": null,
      "left": null,
      "margin": null,
      "max_height": null,
      "max_width": null,
      "min_height": null,
      "min_width": null,
      "object_fit": null,
      "object_position": null,
      "order": null,
      "overflow": null,
      "overflow_x": null,
      "overflow_y": null,
      "padding": null,
      "right": null,
      "top": null,
      "visibility": null,
      "width": null
     }
    },
    "a726e6dc5a8f40d3a99923b7b75c633d": {
     "model_module": "@jupyter-widgets/controls",
     "model_module_version": "1.5.0",
     "model_name": "FloatProgressModel",
     "state": {
      "_dom_classes": [],
      "_model_module": "@jupyter-widgets/controls",
      "_model_module_version": "1.5.0",
      "_model_name": "FloatProgressModel",
      "_view_count": null,
      "_view_module": "@jupyter-widgets/controls",
      "_view_module_version": "1.5.0",
      "_view_name": "ProgressView",
      "bar_style": "success",
      "description": "",
      "description_tooltip": null,
      "layout": "IPY_MODEL_5215c182538845fca7450594a0386e3e",
      "max": 707,
      "min": 0,
      "orientation": "horizontal",
      "style": "IPY_MODEL_38a8b46ca3fb4dbe904b83d00c52912f",
      "value": 707
     }
    },
    "adec2f1b89074f2c9cc9aaac55796dfc": {
     "model_module": "@jupyter-widgets/base",
     "model_module_version": "1.2.0",
     "model_name": "LayoutModel",
     "state": {
      "_model_module": "@jupyter-widgets/base",
      "_model_module_version": "1.2.0",
      "_model_name": "LayoutModel",
      "_view_count": null,
      "_view_module": "@jupyter-widgets/base",
      "_view_module_version": "1.2.0",
      "_view_name": "LayoutView",
      "align_content": null,
      "align_items": null,
      "align_self": null,
      "border": null,
      "bottom": null,
      "display": null,
      "flex": null,
      "flex_flow": null,
      "grid_area": null,
      "grid_auto_columns": null,
      "grid_auto_flow": null,
      "grid_auto_rows": null,
      "grid_column": null,
      "grid_gap": null,
      "grid_row": null,
      "grid_template_areas": null,
      "grid_template_columns": null,
      "grid_template_rows": null,
      "height": null,
      "justify_content": null,
      "justify_items": null,
      "left": null,
      "margin": null,
      "max_height": null,
      "max_width": null,
      "min_height": null,
      "min_width": null,
      "object_fit": null,
      "object_position": null,
      "order": null,
      "overflow": null,
      "overflow_x": null,
      "overflow_y": null,
      "padding": null,
      "right": null,
      "top": null,
      "visibility": null,
      "width": null
     }
    },
    "b13dcae515be484f8c32e7e15f08185c": {
     "model_module": "@jupyter-widgets/controls",
     "model_module_version": "1.5.0",
     "model_name": "FloatProgressModel",
     "state": {
      "_dom_classes": [],
      "_model_module": "@jupyter-widgets/controls",
      "_model_module_version": "1.5.0",
      "_model_name": "FloatProgressModel",
      "_view_count": null,
      "_view_module": "@jupyter-widgets/controls",
      "_view_module_version": "1.5.0",
      "_view_name": "ProgressView",
      "bar_style": "success",
      "description": "",
      "description_tooltip": null,
      "layout": "IPY_MODEL_68b8874012ac4a6589f2e8843a871195",
      "max": 96,
      "min": 0,
      "orientation": "horizontal",
      "style": "IPY_MODEL_609989c909124ea9b32eaa3acdc48848",
      "value": 96
     }
    },
    "b33849c4db1c4eb4ba8e5d037c7c6e66": {
     "model_module": "@jupyter-widgets/controls",
     "model_module_version": "1.5.0",
     "model_name": "DescriptionStyleModel",
     "state": {
      "_model_module": "@jupyter-widgets/controls",
      "_model_module_version": "1.5.0",
      "_model_name": "DescriptionStyleModel",
      "_view_count": null,
      "_view_module": "@jupyter-widgets/base",
      "_view_module_version": "1.2.0",
      "_view_name": "StyleView",
      "description_width": ""
     }
    },
    "b3b0de8a45594dff8774f26179504da9": {
     "model_module": "@jupyter-widgets/controls",
     "model_module_version": "1.5.0",
     "model_name": "DescriptionStyleModel",
     "state": {
      "_model_module": "@jupyter-widgets/controls",
      "_model_module_version": "1.5.0",
      "_model_name": "DescriptionStyleModel",
      "_view_count": null,
      "_view_module": "@jupyter-widgets/base",
      "_view_module_version": "1.2.0",
      "_view_name": "StyleView",
      "description_width": ""
     }
    },
    "b76642d67a404c2c9b9aea75a2bd7951": {
     "model_module": "@jupyter-widgets/base",
     "model_module_version": "1.2.0",
     "model_name": "LayoutModel",
     "state": {
      "_model_module": "@jupyter-widgets/base",
      "_model_module_version": "1.2.0",
      "_model_name": "LayoutModel",
      "_view_count": null,
      "_view_module": "@jupyter-widgets/base",
      "_view_module_version": "1.2.0",
      "_view_name": "LayoutView",
      "align_content": null,
      "align_items": null,
      "align_self": null,
      "border": null,
      "bottom": null,
      "display": null,
      "flex": null,
      "flex_flow": null,
      "grid_area": null,
      "grid_auto_columns": null,
      "grid_auto_flow": null,
      "grid_auto_rows": null,
      "grid_column": null,
      "grid_gap": null,
      "grid_row": null,
      "grid_template_areas": null,
      "grid_template_columns": null,
      "grid_template_rows": null,
      "height": null,
      "justify_content": null,
      "justify_items": null,
      "left": null,
      "margin": null,
      "max_height": null,
      "max_width": null,
      "min_height": null,
      "min_width": null,
      "object_fit": null,
      "object_position": null,
      "order": null,
      "overflow": null,
      "overflow_x": null,
      "overflow_y": null,
      "padding": null,
      "right": null,
      "top": null,
      "visibility": null,
      "width": null
     }
    },
    "b925c90da7b7499a8773076aff95b357": {
     "model_module": "@jupyter-widgets/controls",
     "model_module_version": "1.5.0",
     "model_name": "FloatProgressModel",
     "state": {
      "_dom_classes": [],
      "_model_module": "@jupyter-widgets/controls",
      "_model_module_version": "1.5.0",
      "_model_name": "FloatProgressModel",
      "_view_count": null,
      "_view_module": "@jupyter-widgets/controls",
      "_view_module_version": "1.5.0",
      "_view_name": "ProgressView",
      "bar_style": "",
      "description": "",
      "description_tooltip": null,
      "layout": "IPY_MODEL_d4c0dbb55dcf43948beec747d7ae521e",
      "max": 50,
      "min": 0,
      "orientation": "horizontal",
      "style": "IPY_MODEL_1045b02be7c148dd93fd164abd00b9cc",
      "value": 50
     }
    },
    "bafded76f57947cebdbbe68264e03639": {
     "model_module": "@jupyter-widgets/base",
     "model_module_version": "1.2.0",
     "model_name": "LayoutModel",
     "state": {
      "_model_module": "@jupyter-widgets/base",
      "_model_module_version": "1.2.0",
      "_model_name": "LayoutModel",
      "_view_count": null,
      "_view_module": "@jupyter-widgets/base",
      "_view_module_version": "1.2.0",
      "_view_name": "LayoutView",
      "align_content": null,
      "align_items": null,
      "align_self": null,
      "border": null,
      "bottom": null,
      "display": null,
      "flex": null,
      "flex_flow": null,
      "grid_area": null,
      "grid_auto_columns": null,
      "grid_auto_flow": null,
      "grid_auto_rows": null,
      "grid_column": null,
      "grid_gap": null,
      "grid_row": null,
      "grid_template_areas": null,
      "grid_template_columns": null,
      "grid_template_rows": null,
      "height": null,
      "justify_content": null,
      "justify_items": null,
      "left": null,
      "margin": null,
      "max_height": null,
      "max_width": null,
      "min_height": null,
      "min_width": null,
      "object_fit": null,
      "object_position": null,
      "order": null,
      "overflow": null,
      "overflow_x": null,
      "overflow_y": null,
      "padding": null,
      "right": null,
      "top": null,
      "visibility": null,
      "width": null
     }
    },
    "bd5d291560f645249cb33f89fe292a7b": {
     "model_module": "@jupyter-widgets/controls",
     "model_module_version": "1.5.0",
     "model_name": "FloatProgressModel",
     "state": {
      "_dom_classes": [],
      "_model_module": "@jupyter-widgets/controls",
      "_model_module_version": "1.5.0",
      "_model_name": "FloatProgressModel",
      "_view_count": null,
      "_view_module": "@jupyter-widgets/controls",
      "_view_module_version": "1.5.0",
      "_view_name": "ProgressView",
      "bar_style": "success",
      "description": "",
      "description_tooltip": null,
      "layout": "IPY_MODEL_3ea070443d0a4578823ff73cd299c214",
      "max": 1,
      "min": 0,
      "orientation": "horizontal",
      "style": "IPY_MODEL_513f4577e7d947fe934df0d6076e5c57",
      "value": 0
     }
    },
    "c4d9fb07119d40d3b725e2869aab89b7": {
     "model_module": "@jupyter-widgets/controls",
     "model_module_version": "1.5.0",
     "model_name": "HBoxModel",
     "state": {
      "_dom_classes": [],
      "_model_module": "@jupyter-widgets/controls",
      "_model_module_version": "1.5.0",
      "_model_name": "HBoxModel",
      "_view_count": null,
      "_view_module": "@jupyter-widgets/controls",
      "_view_module_version": "1.5.0",
      "_view_name": "HBoxView",
      "box_style": "",
      "children": [
       "IPY_MODEL_64ae617accd4438dbd987bef1f524ae6",
       "IPY_MODEL_83fcfc380a654f0694508fddd528303f",
       "IPY_MODEL_29f1b46d947c427ab952c7d278349162"
      ],
      "layout": "IPY_MODEL_c59af48414c94c87b0564b00c1d0062e"
     }
    },
    "c59af48414c94c87b0564b00c1d0062e": {
     "model_module": "@jupyter-widgets/base",
     "model_module_version": "1.2.0",
     "model_name": "LayoutModel",
     "state": {
      "_model_module": "@jupyter-widgets/base",
      "_model_module_version": "1.2.0",
      "_model_name": "LayoutModel",
      "_view_count": null,
      "_view_module": "@jupyter-widgets/base",
      "_view_module_version": "1.2.0",
      "_view_name": "LayoutView",
      "align_content": null,
      "align_items": null,
      "align_self": null,
      "border": null,
      "bottom": null,
      "display": null,
      "flex": null,
      "flex_flow": null,
      "grid_area": null,
      "grid_auto_columns": null,
      "grid_auto_flow": null,
      "grid_auto_rows": null,
      "grid_column": null,
      "grid_gap": null,
      "grid_row": null,
      "grid_template_areas": null,
      "grid_template_columns": null,
      "grid_template_rows": null,
      "height": null,
      "justify_content": null,
      "justify_items": null,
      "left": null,
      "margin": null,
      "max_height": null,
      "max_width": null,
      "min_height": null,
      "min_width": null,
      "object_fit": null,
      "object_position": null,
      "order": null,
      "overflow": null,
      "overflow_x": null,
      "overflow_y": null,
      "padding": null,
      "right": null,
      "top": null,
      "visibility": null,
      "width": null
     }
    },
    "c648ccc9a65c40f6be40cc351aef01cf": {
     "model_module": "@jupyter-widgets/controls",
     "model_module_version": "1.5.0",
     "model_name": "FloatProgressModel",
     "state": {
      "_dom_classes": [],
      "_model_module": "@jupyter-widgets/controls",
      "_model_module_version": "1.5.0",
      "_model_name": "FloatProgressModel",
      "_view_count": null,
      "_view_module": "@jupyter-widgets/controls",
      "_view_module_version": "1.5.0",
      "_view_name": "ProgressView",
      "bar_style": "success",
      "description": "",
      "description_tooltip": null,
      "layout": "IPY_MODEL_612320607c6c4b088ae67b67adb2ebad",
      "max": 707,
      "min": 0,
      "orientation": "horizontal",
      "style": "IPY_MODEL_438dff409275412db4733518cf1ef454",
      "value": 707
     }
    },
    "c875779be63e4f4895120c09dd8e3f77": {
     "model_module": "@jupyter-widgets/base",
     "model_module_version": "1.2.0",
     "model_name": "LayoutModel",
     "state": {
      "_model_module": "@jupyter-widgets/base",
      "_model_module_version": "1.2.0",
      "_model_name": "LayoutModel",
      "_view_count": null,
      "_view_module": "@jupyter-widgets/base",
      "_view_module_version": "1.2.0",
      "_view_name": "LayoutView",
      "align_content": null,
      "align_items": null,
      "align_self": null,
      "border": null,
      "bottom": null,
      "display": null,
      "flex": null,
      "flex_flow": null,
      "grid_area": null,
      "grid_auto_columns": null,
      "grid_auto_flow": null,
      "grid_auto_rows": null,
      "grid_column": null,
      "grid_gap": null,
      "grid_row": null,
      "grid_template_areas": null,
      "grid_template_columns": null,
      "grid_template_rows": null,
      "height": null,
      "justify_content": null,
      "justify_items": null,
      "left": null,
      "margin": null,
      "max_height": null,
      "max_width": null,
      "min_height": null,
      "min_width": null,
      "object_fit": null,
      "object_position": null,
      "order": null,
      "overflow": null,
      "overflow_x": null,
      "overflow_y": null,
      "padding": null,
      "right": null,
      "top": null,
      "visibility": null,
      "width": null
     }
    },
    "cb0b4cc16a08424e80264767161457c7": {
     "model_module": "@jupyter-widgets/controls",
     "model_module_version": "1.5.0",
     "model_name": "FloatProgressModel",
     "state": {
      "_dom_classes": [],
      "_model_module": "@jupyter-widgets/controls",
      "_model_module_version": "1.5.0",
      "_model_name": "FloatProgressModel",
      "_view_count": null,
      "_view_module": "@jupyter-widgets/controls",
      "_view_module_version": "1.5.0",
      "_view_name": "ProgressView",
      "bar_style": "success",
      "description": "",
      "description_tooltip": null,
      "layout": "IPY_MODEL_7a0c3ec5a4bb4b118c7d0242c4833660",
      "max": 707,
      "min": 0,
      "orientation": "horizontal",
      "style": "IPY_MODEL_6131e49a18944b3ca41e17b02767e714",
      "value": 707
     }
    },
    "cd2a9081881e4533baf5cde3496b4dd4": {
     "model_module": "@jupyter-widgets/controls",
     "model_module_version": "1.5.0",
     "model_name": "DescriptionStyleModel",
     "state": {
      "_model_module": "@jupyter-widgets/controls",
      "_model_module_version": "1.5.0",
      "_model_name": "DescriptionStyleModel",
      "_view_count": null,
      "_view_module": "@jupyter-widgets/base",
      "_view_module_version": "1.2.0",
      "_view_name": "StyleView",
      "description_width": ""
     }
    },
    "cd36d06d35d94f81b65d60a5b009c14e": {
     "model_module": "@jupyter-widgets/controls",
     "model_module_version": "1.5.0",
     "model_name": "HBoxModel",
     "state": {
      "_dom_classes": [],
      "_model_module": "@jupyter-widgets/controls",
      "_model_module_version": "1.5.0",
      "_model_name": "HBoxModel",
      "_view_count": null,
      "_view_module": "@jupyter-widgets/controls",
      "_view_module_version": "1.5.0",
      "_view_name": "HBoxView",
      "box_style": "",
      "children": [
       "IPY_MODEL_dbb4aa86828e41abbda23605c5844c73",
       "IPY_MODEL_cb0b4cc16a08424e80264767161457c7",
       "IPY_MODEL_77c6ff4caf6d4914a7ea6239f3982312"
      ],
      "layout": "IPY_MODEL_2dd75b0ae2bf4f97bfb53d74ea9f7cf8"
     }
    },
    "d4c0dbb55dcf43948beec747d7ae521e": {
     "model_module": "@jupyter-widgets/base",
     "model_module_version": "1.2.0",
     "model_name": "LayoutModel",
     "state": {
      "_model_module": "@jupyter-widgets/base",
      "_model_module_version": "1.2.0",
      "_model_name": "LayoutModel",
      "_view_count": null,
      "_view_module": "@jupyter-widgets/base",
      "_view_module_version": "1.2.0",
      "_view_name": "LayoutView",
      "align_content": null,
      "align_items": null,
      "align_self": null,
      "border": null,
      "bottom": null,
      "display": null,
      "flex": null,
      "flex_flow": null,
      "grid_area": null,
      "grid_auto_columns": null,
      "grid_auto_flow": null,
      "grid_auto_rows": null,
      "grid_column": null,
      "grid_gap": null,
      "grid_row": null,
      "grid_template_areas": null,
      "grid_template_columns": null,
      "grid_template_rows": null,
      "height": null,
      "justify_content": null,
      "justify_items": null,
      "left": null,
      "margin": null,
      "max_height": null,
      "max_width": null,
      "min_height": null,
      "min_width": null,
      "object_fit": null,
      "object_position": null,
      "order": null,
      "overflow": null,
      "overflow_x": null,
      "overflow_y": null,
      "padding": null,
      "right": null,
      "top": null,
      "visibility": null,
      "width": null
     }
    },
    "dbb4aa86828e41abbda23605c5844c73": {
     "model_module": "@jupyter-widgets/controls",
     "model_module_version": "1.5.0",
     "model_name": "HTMLModel",
     "state": {
      "_dom_classes": [],
      "_model_module": "@jupyter-widgets/controls",
      "_model_module_version": "1.5.0",
      "_model_name": "HTMLModel",
      "_view_count": null,
      "_view_module": "@jupyter-widgets/controls",
      "_view_module_version": "1.5.0",
      "_view_name": "HTMLView",
      "description": "",
      "description_tooltip": null,
      "layout": "IPY_MODEL_fadaac7d75204d62869bab22da727ec6",
      "placeholder": "​",
      "style": "IPY_MODEL_153e051facf147549fb476f6a85c678e",
      "value": "Generating FunkSVD recommendations: 100%"
     }
    },
    "e331f171052d45d099ba65e5d48999c6": {
     "model_module": "@jupyter-widgets/controls",
     "model_module_version": "1.5.0",
     "model_name": "HBoxModel",
     "state": {
      "_dom_classes": [],
      "_model_module": "@jupyter-widgets/controls",
      "_model_module_version": "1.5.0",
      "_model_name": "HBoxModel",
      "_view_count": null,
      "_view_module": "@jupyter-widgets/controls",
      "_view_module_version": "1.5.0",
      "_view_name": "HBoxView",
      "box_style": "",
      "children": [
       "IPY_MODEL_f4fc00b5025046feb11cb5d79d3fb34f",
       "IPY_MODEL_bd5d291560f645249cb33f89fe292a7b",
       "IPY_MODEL_896cb436117b4f73a730c7a064fbc2e4"
      ],
      "layout": "IPY_MODEL_3e848ba674f847378a3962bc34bae7cc"
     }
    },
    "e9304675ba4a46cfa038124f43f58e77": {
     "model_module": "@jupyter-widgets/controls",
     "model_module_version": "1.5.0",
     "model_name": "HBoxModel",
     "state": {
      "_dom_classes": [],
      "_model_module": "@jupyter-widgets/controls",
      "_model_module_version": "1.5.0",
      "_model_name": "HBoxModel",
      "_view_count": null,
      "_view_module": "@jupyter-widgets/controls",
      "_view_module_version": "1.5.0",
      "_view_name": "HBoxView",
      "box_style": "",
      "children": [
       "IPY_MODEL_037f69cef4d24741aa8e417bd3935d28",
       "IPY_MODEL_c648ccc9a65c40f6be40cc351aef01cf",
       "IPY_MODEL_4d35003cfefd4d878c18b531d83e0719"
      ],
      "layout": "IPY_MODEL_45c31a968eb44ab6b9f21ed0b737c4be"
     }
    },
    "eb60b183875048adb2e6934a563aa118": {
     "model_module": "@jupyter-widgets/controls",
     "model_module_version": "1.5.0",
     "model_name": "HBoxModel",
     "state": {
      "_dom_classes": [],
      "_model_module": "@jupyter-widgets/controls",
      "_model_module_version": "1.5.0",
      "_model_name": "HBoxModel",
      "_view_count": null,
      "_view_module": "@jupyter-widgets/controls",
      "_view_module_version": "1.5.0",
      "_view_name": "HBoxView",
      "box_style": "",
      "children": [
       "IPY_MODEL_21b6db3815cb4d2284868ab45b0c4adf",
       "IPY_MODEL_a726e6dc5a8f40d3a99923b7b75c633d",
       "IPY_MODEL_4d63a4e5a3344ddda9753beafbda2ae9"
      ],
      "layout": "IPY_MODEL_9d3f062c120e4a309cee5043b7564788"
     }
    },
    "ec80a55176884954ab129022237661e6": {
     "model_module": "@jupyter-widgets/controls",
     "model_module_version": "1.5.0",
     "model_name": "DescriptionStyleModel",
     "state": {
      "_model_module": "@jupyter-widgets/controls",
      "_model_module_version": "1.5.0",
      "_model_name": "DescriptionStyleModel",
      "_view_count": null,
      "_view_module": "@jupyter-widgets/base",
      "_view_module_version": "1.2.0",
      "_view_name": "StyleView",
      "description_width": ""
     }
    },
    "f4fc00b5025046feb11cb5d79d3fb34f": {
     "model_module": "@jupyter-widgets/controls",
     "model_module_version": "1.5.0",
     "model_name": "HTMLModel",
     "state": {
      "_dom_classes": [],
      "_model_module": "@jupyter-widgets/controls",
      "_model_module_version": "1.5.0",
      "_model_name": "HTMLModel",
      "_view_count": null,
      "_view_module": "@jupyter-widgets/controls",
      "_view_module_version": "1.5.0",
      "_view_name": "HTMLView",
      "description": "",
      "description_tooltip": null,
      "layout": "IPY_MODEL_3ecee7186e384bd689533e462613a4b1",
      "placeholder": "​",
      "style": "IPY_MODEL_b33849c4db1c4eb4ba8e5d037c7c6e66",
      "value": ""
     }
    },
    "fadaac7d75204d62869bab22da727ec6": {
     "model_module": "@jupyter-widgets/base",
     "model_module_version": "1.2.0",
     "model_name": "LayoutModel",
     "state": {
      "_model_module": "@jupyter-widgets/base",
      "_model_module_version": "1.2.0",
      "_model_name": "LayoutModel",
      "_view_count": null,
      "_view_module": "@jupyter-widgets/base",
      "_view_module_version": "1.2.0",
      "_view_name": "LayoutView",
      "align_content": null,
      "align_items": null,
      "align_self": null,
      "border": null,
      "bottom": null,
      "display": null,
      "flex": null,
      "flex_flow": null,
      "grid_area": null,
      "grid_auto_columns": null,
      "grid_auto_flow": null,
      "grid_auto_rows": null,
      "grid_column": null,
      "grid_gap": null,
      "grid_row": null,
      "grid_template_areas": null,
      "grid_template_columns": null,
      "grid_template_rows": null,
      "height": null,
      "justify_content": null,
      "justify_items": null,
      "left": null,
      "margin": null,
      "max_height": null,
      "max_width": null,
      "min_height": null,
      "min_width": null,
      "object_fit": null,
      "object_position": null,
      "order": null,
      "overflow": null,
      "overflow_x": null,
      "overflow_y": null,
      "padding": null,
      "right": null,
      "top": null,
      "visibility": null,
      "width": null
     }
    },
    "fd43ea01af9f4287bfbc195a668a482f": {
     "model_module": "@jupyter-widgets/controls",
     "model_module_version": "1.5.0",
     "model_name": "DescriptionStyleModel",
     "state": {
      "_model_module": "@jupyter-widgets/controls",
      "_model_module_version": "1.5.0",
      "_model_name": "DescriptionStyleModel",
      "_view_count": null,
      "_view_module": "@jupyter-widgets/base",
      "_view_module_version": "1.2.0",
      "_view_name": "StyleView",
      "description_width": ""
     }
    }
   }
  }
 },
 "nbformat": 4,
 "nbformat_minor": 4
}

{
  "nbformat": 4,
  "nbformat_minor": 0,
  "metadata": {
    "colab": {
      "provenance": []
    },
    "kernelspec": {
      "name": "python3",
      "display_name": "Python 3"
    },
    "language_info": {
      "name": "python"
    }
  },
  "cells": [
    {
      "cell_type": "markdown",
      "source": [
        "# DATA 612 FINAL PROJECT PROPOSAL\n",
        "\n",
        "Amazon Product Recommender Model Using Reviews\n",
        "\n",
        "*   Farhod Ibragimov\n",
        "*   Gillian McGovern"
      ],
      "metadata": {
        "id": "g0bPV7mtnufD"
      }
    },
    {
      "cell_type": "markdown",
      "source": [
        "## Objective\n",
        "\n",
        "Create an offline Amazon product (specifically Amazon appliances) recommender model using user ratings and reviews."
      ],
      "metadata": {
        "id": "Rns2s8Kun7LD"
      }
    },
    {
      "cell_type": "markdown",
      "source": [
        "## Guiding Question\n",
        "\n",
        "How can we use user ratings, reviews and product descriptions to create an Amazon recommender model?"
      ],
      "metadata": {
        "id": "bEMqaQJzn_O4"
      }
    },
    {
      "cell_type": "markdown",
      "source": [
        "## Motivation\n",
        "\n",
        "The motiviation for this project is to test out different recommender models for Amazon products. We specifically chose this dataset because we would like to incorporate BERT ([Bidirectional Transformers for Language](https://research.google/pubs/bert-pre-training-of-deep-bidirectional-transformers-for-language-understanding/)) for our LLM as one of our content based recommenders. BERT is best used for sentences and paragraphs, which makes using product descriptions and reviews perfect for our model."
      ],
      "metadata": {
        "id": "6-gv9Np9oHCX"
      }
    },
    {
      "cell_type": "markdown",
      "source": [
        "## Project Goals\n",
        "\n",
        "* Test out a collaborative filtering and content based recommender"
      ],
      "metadata": {
        "id": "6vH04GAYoOQE"
      }
    },
    {
      "cell_type": "markdown",
      "source": [
        "## Data Sources\n",
        "\n",
        "Source: https://amazon-reviews-2023.github.io/\n",
        "\n",
        "This is a large-scale Amazon Reviews dataset, collected in 2023 by McAuley Lab, and it includes rich features such as:\n",
        "\n",
        "*   User Reviews (ratings, text, helpfulness votes, etc.);\n",
        "*   Item Metadata (descriptions, price, raw image, etc.);\n",
        "*   Links (user-item / bought together graphs).\n",
        "\n",
        "\n",
        "User review structure can be found [here](https://amazon-reviews-2023.github.io/#for-user-reviews) and item metadata structure can be found [here](https://amazon-reviews-2023.github.io/#for-item-metadata).\n",
        "\n",
        "We will be specfically looking at the Appliances category of products, which includes:\n",
        "\n",
        "* 1.8M Users\n",
        "* 94.3K Appliances\n",
        "* 2.1M Ratings/Reviews\n",
        "\n",
        "The original data is in JSON format.\n"
      ],
      "metadata": {
        "id": "auyQS4sfoTDn"
      }
    },
    {
      "cell_type": "markdown",
      "source": [
        "## Planned Workflow\n",
        "\n",
        "\n",
        "\n",
        "*  Read in the data\n",
        "  * This can either be done via uploading the JSON to S3 and reading from there, or using the third-party huggingface datasets [toolkit](https://amazon-reviews-2023.github.io/data_loading/huggingface.html)\n",
        "\n",
        "*  Read in the metadata\n",
        "    * Same process as above, this data has been given to us so no web scraping needed\n",
        "*  EDA\n",
        "*  Create subset of data\n",
        "*  Create at least one collaboritive filtering model such as Spark ALS\n",
        "*  Create at least one LLM content based model using BERT\n",
        "  * Use product description and reviews\n",
        "*  Evaluate models\n",
        "*  Present recommendations\n",
        "*  Stretch goals (bonus if we have time):\n",
        "    * Use images for image analysis\n",
        "    * Experiment with our original project idea which was to make a song playlist recommender using implicit ratings and song lyrics (with a smaller subset of data)\n",
        "      * Test out how useful BERT content based recommender is with song lyrics\n",
        "      * Test out an ALS model using play count\n",
        "\n",
        "\n",
        "\n"
      ],
      "metadata": {
        "id": "OrpofLBKoW2V"
      }
    },
    {
      "cell_type": "code",
      "execution_count": null,
      "metadata": {
        "id": "dcrvMboknmVE"
      },
      "outputs": [],
      "source": []
    }
  ]
}